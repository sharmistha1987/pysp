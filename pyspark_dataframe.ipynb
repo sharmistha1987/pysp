{
 "cells": [
  {
   "cell_type": "code",
   "execution_count": 38,
   "metadata": {},
   "outputs": [],
   "source": [
    "import pyspark\n",
    "from pyspark.sql import *\n",
    "from pyspark.sql.types import *\n",
    "from pyspark.sql import functions as F\n",
    "from pyspark.sql.functions import *\n",
    "\n",
    "spark = SparkSession.builder\\\n",
    "       .appName(\"Pyspark_dataframe\")\\\n",
    "       .getOrCreate()"
   ]
  },
  {
   "cell_type": "code",
   "execution_count": 6,
   "metadata": {},
   "outputs": [
    {
     "data": {
      "text/plain": [
       "['0,tcp,http,SF,181,5450,0,0,0,0,0,1,0,0,0,0,0,0,0,0,0,0,8,8,0.00,0.00,0.00,0.00,1.00,0.00,0.00,9,9,1.00,0.00,0.11,0.00,0.00,0.00,0.00,0.00,normal.',\n",
       " '0,tcp,http,SF,239,486,0,0,0,0,0,1,0,0,0,0,0,0,0,0,0,0,8,8,0.00,0.00,0.00,0.00,1.00,0.00,0.00,19,19,1.00,0.00,0.05,0.00,0.00,0.00,0.00,0.00,normal.',\n",
       " '0,tcp,http,SF,235,1337,0,0,0,0,0,1,0,0,0,0,0,0,0,0,0,0,8,8,0.00,0.00,0.00,0.00,1.00,0.00,0.00,29,29,1.00,0.00,0.03,0.00,0.00,0.00,0.00,0.00,normal.',\n",
       " '0,tcp,http,SF,219,1337,0,0,0,0,0,1,0,0,0,0,0,0,0,0,0,0,6,6,0.00,0.00,0.00,0.00,1.00,0.00,0.00,39,39,1.00,0.00,0.03,0.00,0.00,0.00,0.00,0.00,normal.',\n",
       " '0,tcp,http,SF,217,2032,0,0,0,0,0,1,0,0,0,0,0,0,0,0,0,0,6,6,0.00,0.00,0.00,0.00,1.00,0.00,0.00,49,49,1.00,0.00,0.02,0.00,0.00,0.00,0.00,0.00,normal.']"
      ]
     },
     "execution_count": 6,
     "metadata": {},
     "output_type": "execute_result"
    }
   ],
   "source": [
    "raw_data = sc.textFile('file:///D:\\\\data\\\\kddcup.txt').cache()\n",
    "raw_data.take(5)"
   ]
  },
  {
   "cell_type": "code",
   "execution_count": 8,
   "metadata": {},
   "outputs": [],
   "source": [
    "#schema inference\n",
    "\n",
    "csv_data = raw_data.map(lambda l: l.split(\",\"))\n",
    "row_data=csv_data.map(lambda p: Row(\n",
    "    duration=int(p[0]), \n",
    "    protocol_type=p[1],\n",
    "    service=p[2],\n",
    "    flag=p[3],\n",
    "    src_bytes=int(p[4]),\n",
    "    dst_bytes=int(p[5])\n",
    "    )\n",
    ")"
   ]
  },
  {
   "cell_type": "code",
   "execution_count": 9,
   "metadata": {},
   "outputs": [],
   "source": [
    "interactions_df = spark.createDataFrame(row_data)\n",
    "\n",
    "#interactions_df.show()\n",
    "\n",
    "interactions_df.createOrReplaceTempView(\"interactions\")\n",
    "#interactions_df.registerTempTable(\"interactions\")\n",
    "\n"
   ]
  },
  {
   "cell_type": "code",
   "execution_count": 10,
   "metadata": {},
   "outputs": [
    {
     "name": "stdout",
     "output_type": "stream",
     "text": [
      "+---------+--------+----+-------------+-------+---------+\n",
      "|dst_bytes|duration|flag|protocol_type|service|src_bytes|\n",
      "+---------+--------+----+-------------+-------+---------+\n",
      "|     5450|       0|  SF|          tcp|   http|      181|\n",
      "|      486|       0|  SF|          tcp|   http|      239|\n",
      "|     1337|       0|  SF|          tcp|   http|      235|\n",
      "|     1337|       0|  SF|          tcp|   http|      219|\n",
      "|     2032|       0|  SF|          tcp|   http|      217|\n",
      "|     2032|       0|  SF|          tcp|   http|      217|\n",
      "|     1940|       0|  SF|          tcp|   http|      212|\n",
      "|     4087|       0|  SF|          tcp|   http|      159|\n",
      "|      151|       0|  SF|          tcp|   http|      210|\n",
      "|      786|       0|  SF|          tcp|   http|      212|\n",
      "|      624|       0|  SF|          tcp|   http|      210|\n",
      "|     1985|       0|  SF|          tcp|   http|      177|\n",
      "|      773|       0|  SF|          tcp|   http|      222|\n",
      "|     1169|       0|  SF|          tcp|   http|      256|\n",
      "|      259|       0|  SF|          tcp|   http|      241|\n",
      "|     1837|       0|  SF|          tcp|   http|      260|\n",
      "|      261|       0|  SF|          tcp|   http|      241|\n",
      "|      818|       0|  SF|          tcp|   http|      257|\n",
      "|      255|       0|  SF|          tcp|   http|      233|\n",
      "|      504|       0|  SF|          tcp|   http|      233|\n",
      "+---------+--------+----+-------------+-------+---------+\n",
      "only showing top 20 rows\n",
      "\n"
     ]
    }
   ],
   "source": [
    "spark.sql(\"select * from interactions\").show()"
   ]
  },
  {
   "cell_type": "code",
   "execution_count": 11,
   "metadata": {},
   "outputs": [
    {
     "name": "stdout",
     "output_type": "stream",
     "text": [
      "root\n",
      " |-- dst_bytes: long (nullable = true)\n",
      " |-- duration: long (nullable = true)\n",
      " |-- flag: string (nullable = true)\n",
      " |-- protocol_type: string (nullable = true)\n",
      " |-- service: string (nullable = true)\n",
      " |-- src_bytes: long (nullable = true)\n",
      "\n"
     ]
    }
   ],
   "source": [
    "interactions_df.printSchema()"
   ]
  },
  {
   "cell_type": "code",
   "execution_count": 12,
   "metadata": {},
   "outputs": [
    {
     "name": "stdout",
     "output_type": "stream",
     "text": [
      "+--------+---------+\n",
      "|duration|dst_bytes|\n",
      "+--------+---------+\n",
      "|    5057|        0|\n",
      "|    5059|        0|\n",
      "|    5051|        0|\n",
      "|    5056|        0|\n",
      "|    5051|        0|\n",
      "|    5039|        0|\n",
      "|    5062|        0|\n",
      "|    5041|        0|\n",
      "|    5056|        0|\n",
      "|    5064|        0|\n",
      "|    5043|        0|\n",
      "|    5061|        0|\n",
      "|    5049|        0|\n",
      "|    5061|        0|\n",
      "|    5048|        0|\n",
      "|    5047|        0|\n",
      "|    5044|        0|\n",
      "|    5063|        0|\n",
      "|    5068|        0|\n",
      "|    5062|        0|\n",
      "+--------+---------+\n",
      "only showing top 20 rows\n",
      "\n"
     ]
    }
   ],
   "source": [
    "# Select tcp network interactions with more than 1 second duration and no transfer from destination\n",
    "tcp_interactions = spark.sql(\"\"\"\n",
    "    SELECT duration, dst_bytes FROM interactions WHERE protocol_type = 'tcp' AND duration > 1000 AND dst_bytes = 0\n",
    "\"\"\")\n",
    "tcp_interactions.show()"
   ]
  },
  {
   "cell_type": "code",
   "execution_count": 13,
   "metadata": {},
   "outputs": [
    {
     "data": {
      "text/plain": [
       "Row(dst_bytes=5450, duration=0, flag='SF', protocol_type='tcp', service='http', src_bytes=181)"
      ]
     },
     "execution_count": 13,
     "metadata": {},
     "output_type": "execute_result"
    }
   ],
   "source": [
    "interactions_df.head()"
   ]
  },
  {
   "cell_type": "code",
   "execution_count": 14,
   "metadata": {},
   "outputs": [
    {
     "data": {
      "text/plain": [
       "Row(dst_bytes=5450, duration=0, flag='SF', protocol_type='tcp', service='http', src_bytes=181)"
      ]
     },
     "execution_count": 14,
     "metadata": {},
     "output_type": "execute_result"
    }
   ],
   "source": [
    "interactions_df.first()"
   ]
  },
  {
   "cell_type": "code",
   "execution_count": 15,
   "metadata": {},
   "outputs": [
    {
     "name": "stdout",
     "output_type": "stream",
     "text": [
      "duration:5057:dest_bytes:0\n",
      "duration:5059:dest_bytes:0\n",
      "duration:5051:dest_bytes:0\n",
      "duration:5056:dest_bytes:0\n",
      "duration:5051:dest_bytes:0\n",
      "duration:5039:dest_bytes:0\n",
      "duration:5062:dest_bytes:0\n",
      "duration:5041:dest_bytes:0\n",
      "duration:5056:dest_bytes:0\n",
      "duration:5064:dest_bytes:0\n",
      "duration:5043:dest_bytes:0\n",
      "duration:5061:dest_bytes:0\n",
      "duration:5049:dest_bytes:0\n",
      "duration:5061:dest_bytes:0\n",
      "duration:5048:dest_bytes:0\n",
      "duration:5047:dest_bytes:0\n",
      "duration:5044:dest_bytes:0\n",
      "duration:5063:dest_bytes:0\n",
      "duration:5068:dest_bytes:0\n",
      "duration:5062:dest_bytes:0\n",
      "duration:5046:dest_bytes:0\n",
      "duration:5052:dest_bytes:0\n",
      "duration:5044:dest_bytes:0\n",
      "duration:5054:dest_bytes:0\n",
      "duration:5039:dest_bytes:0\n",
      "duration:5058:dest_bytes:0\n",
      "duration:5051:dest_bytes:0\n",
      "duration:5032:dest_bytes:0\n",
      "duration:5063:dest_bytes:0\n",
      "duration:5040:dest_bytes:0\n",
      "duration:5051:dest_bytes:0\n",
      "duration:5066:dest_bytes:0\n",
      "duration:5044:dest_bytes:0\n",
      "duration:5051:dest_bytes:0\n",
      "duration:5036:dest_bytes:0\n",
      "duration:5055:dest_bytes:0\n",
      "duration:2426:dest_bytes:0\n",
      "duration:5047:dest_bytes:0\n",
      "duration:5057:dest_bytes:0\n",
      "duration:5037:dest_bytes:0\n",
      "duration:5057:dest_bytes:0\n",
      "duration:5062:dest_bytes:0\n",
      "duration:5051:dest_bytes:0\n",
      "duration:5051:dest_bytes:0\n",
      "duration:5053:dest_bytes:0\n",
      "duration:5064:dest_bytes:0\n",
      "duration:5044:dest_bytes:0\n",
      "duration:5051:dest_bytes:0\n",
      "duration:5033:dest_bytes:0\n",
      "duration:5066:dest_bytes:0\n",
      "duration:5063:dest_bytes:0\n",
      "duration:5056:dest_bytes:0\n",
      "duration:5042:dest_bytes:0\n",
      "duration:5063:dest_bytes:0\n",
      "duration:5060:dest_bytes:0\n",
      "duration:5056:dest_bytes:0\n",
      "duration:5049:dest_bytes:0\n",
      "duration:5043:dest_bytes:0\n",
      "duration:5039:dest_bytes:0\n",
      "duration:5041:dest_bytes:0\n",
      "duration:42448:dest_bytes:0\n",
      "duration:42088:dest_bytes:0\n",
      "duration:41065:dest_bytes:0\n",
      "duration:40929:dest_bytes:0\n",
      "duration:40806:dest_bytes:0\n",
      "duration:40682:dest_bytes:0\n",
      "duration:40571:dest_bytes:0\n",
      "duration:40448:dest_bytes:0\n",
      "duration:40339:dest_bytes:0\n",
      "duration:40232:dest_bytes:0\n",
      "duration:40121:dest_bytes:0\n",
      "duration:36783:dest_bytes:0\n",
      "duration:36674:dest_bytes:0\n",
      "duration:36570:dest_bytes:0\n",
      "duration:36467:dest_bytes:0\n",
      "duration:36323:dest_bytes:0\n",
      "duration:36204:dest_bytes:0\n",
      "duration:32038:dest_bytes:0\n",
      "duration:31925:dest_bytes:0\n",
      "duration:31809:dest_bytes:0\n",
      "duration:31709:dest_bytes:0\n",
      "duration:31601:dest_bytes:0\n",
      "duration:31501:dest_bytes:0\n",
      "duration:31401:dest_bytes:0\n",
      "duration:31301:dest_bytes:0\n",
      "duration:31194:dest_bytes:0\n",
      "duration:31061:dest_bytes:0\n",
      "duration:30935:dest_bytes:0\n",
      "duration:30835:dest_bytes:0\n",
      "duration:30735:dest_bytes:0\n",
      "duration:30619:dest_bytes:0\n",
      "duration:30518:dest_bytes:0\n",
      "duration:30418:dest_bytes:0\n",
      "duration:30317:dest_bytes:0\n",
      "duration:30217:dest_bytes:0\n",
      "duration:30077:dest_bytes:0\n",
      "duration:25420:dest_bytes:0\n",
      "duration:22921:dest_bytes:0\n",
      "duration:22821:dest_bytes:0\n",
      "duration:22721:dest_bytes:0\n",
      "duration:22616:dest_bytes:0\n",
      "duration:22516:dest_bytes:0\n",
      "duration:22416:dest_bytes:0\n",
      "duration:22316:dest_bytes:0\n",
      "duration:22216:dest_bytes:0\n",
      "duration:21987:dest_bytes:0\n",
      "duration:21887:dest_bytes:0\n",
      "duration:21767:dest_bytes:0\n",
      "duration:21661:dest_bytes:0\n",
      "duration:21561:dest_bytes:0\n",
      "duration:21455:dest_bytes:0\n",
      "duration:21334:dest_bytes:0\n",
      "duration:21223:dest_bytes:0\n",
      "duration:21123:dest_bytes:0\n",
      "duration:20983:dest_bytes:0\n",
      "duration:14682:dest_bytes:0\n",
      "duration:14420:dest_bytes:0\n",
      "duration:14319:dest_bytes:0\n",
      "duration:14198:dest_bytes:0\n",
      "duration:14098:dest_bytes:0\n",
      "duration:13998:dest_bytes:0\n",
      "duration:13898:dest_bytes:0\n",
      "duration:13796:dest_bytes:0\n",
      "duration:13678:dest_bytes:0\n",
      "duration:13578:dest_bytes:0\n",
      "duration:13448:dest_bytes:0\n",
      "duration:13348:dest_bytes:0\n",
      "duration:13241:dest_bytes:0\n",
      "duration:13141:dest_bytes:0\n",
      "duration:13033:dest_bytes:0\n",
      "duration:12933:dest_bytes:0\n",
      "duration:12833:dest_bytes:0\n",
      "duration:12733:dest_bytes:0\n",
      "duration:12001:dest_bytes:0\n",
      "duration:5678:dest_bytes:0\n",
      "duration:5010:dest_bytes:0\n",
      "duration:1298:dest_bytes:0\n",
      "duration:1031:dest_bytes:0\n",
      "duration:36438:dest_bytes:0\n"
     ]
    }
   ],
   "source": [
    "# print out elements in each row\n",
    "\n",
    "tcp_interactions_out=tcp_interactions.rdd.map(lambda p:'duration:{}:dest_bytes:{}'.format(p.duration,p.dst_bytes))\n",
    "\n",
    "for t in tcp_interactions_out.collect():\n",
    "    print(t)\n",
    "    \n"
   ]
  },
  {
   "cell_type": "code",
   "execution_count": 16,
   "metadata": {},
   "outputs": [
    {
     "data": {
      "text/plain": [
       "['duration:5057:dest_bytes:0',\n",
       " 'duration:5059:dest_bytes:0',\n",
       " 'duration:5051:dest_bytes:0',\n",
       " 'duration:5056:dest_bytes:0',\n",
       " 'duration:5051:dest_bytes:0']"
      ]
     },
     "execution_count": 16,
     "metadata": {},
     "output_type": "execute_result"
    }
   ],
   "source": [
    "tcp_interactions_out.take(5)"
   ]
  },
  {
   "cell_type": "code",
   "execution_count": 17,
   "metadata": {},
   "outputs": [
    {
     "data": {
      "text/plain": [
       "[['duration', '5057', 'dest_bytes', '0'],\n",
       " ['duration', '5059', 'dest_bytes', '0'],\n",
       " ['duration', '5051', 'dest_bytes', '0'],\n",
       " ['duration', '5056', 'dest_bytes', '0'],\n",
       " ['duration', '5051', 'dest_bytes', '0']]"
      ]
     },
     "execution_count": 17,
     "metadata": {},
     "output_type": "execute_result"
    }
   ],
   "source": [
    "df_data=tcp_interactions_out.map(lambda x: x.split(':'))\n",
    "df_data.take(5)"
   ]
  },
  {
   "cell_type": "code",
   "execution_count": 18,
   "metadata": {},
   "outputs": [
    {
     "name": "stdout",
     "output_type": "stream",
     "text": [
      "+----------+--------+\n",
      "|dest_bytes|duration|\n",
      "+----------+--------+\n",
      "|         0|    5057|\n",
      "|         0|    5059|\n",
      "|         0|    5051|\n",
      "|         0|    5056|\n",
      "|         0|    5051|\n",
      "|         0|    5039|\n",
      "|         0|    5062|\n",
      "|         0|    5041|\n",
      "|         0|    5056|\n",
      "|         0|    5064|\n",
      "|         0|    5043|\n",
      "|         0|    5061|\n",
      "|         0|    5049|\n",
      "|         0|    5061|\n",
      "|         0|    5048|\n",
      "|         0|    5047|\n",
      "|         0|    5044|\n",
      "|         0|    5063|\n",
      "|         0|    5068|\n",
      "|         0|    5062|\n",
      "+----------+--------+\n",
      "only showing top 20 rows\n",
      "\n"
     ]
    }
   ],
   "source": [
    "df_1=df_data.map(lambda y: Row(duration=y[1],dest_bytes=y[3]))\n",
    "df=spark.createDataFrame(df_1).show()"
   ]
  },
  {
   "cell_type": "code",
   "execution_count": 25,
   "metadata": {},
   "outputs": [
    {
     "data": {
      "text/plain": [
       "[['date',\n",
       "  'time',\n",
       "  'size',\n",
       "  'r_version',\n",
       "  'r_arch',\n",
       "  'r_os',\n",
       "  'package',\n",
       "  'version',\n",
       "  'country',\n",
       "  'ip_id'],\n",
       " ['2015-12-12',\n",
       "  '13:42:10',\n",
       "  '257886',\n",
       "  '3.2.2',\n",
       "  'i386',\n",
       "  'mingw32',\n",
       "  'HistData',\n",
       "  '0.7-6',\n",
       "  'CZ',\n",
       "  '1'],\n",
       " ['2015-12-12',\n",
       "  '13:24:37',\n",
       "  '1236751',\n",
       "  '3.2.2',\n",
       "  'x86_64',\n",
       "  'mingw32',\n",
       "  'RJSONIO',\n",
       "  '1.3-0',\n",
       "  'DE',\n",
       "  '2'],\n",
       " ['2015-12-12',\n",
       "  '13:42:35',\n",
       "  '2077876',\n",
       "  '3.2.2',\n",
       "  'i386',\n",
       "  'mingw32',\n",
       "  'UsingR',\n",
       "  '2.0-5',\n",
       "  'CZ',\n",
       "  '1'],\n",
       " ['2015-12-12',\n",
       "  '13:42:01',\n",
       "  '266724',\n",
       "  '3.2.2',\n",
       "  'i386',\n",
       "  'mingw32',\n",
       "  'gridExtra',\n",
       "  '2.0.0',\n",
       "  'CZ',\n",
       "  '1']]"
      ]
     },
     "execution_count": 25,
     "metadata": {},
     "output_type": "execute_result"
    }
   ],
   "source": [
    "dat = sc.textFile(\"file:///D:\\\\data\\\\2015-12-12.csv\").map(lambda y:y.replace('\"','')).map(lambda x:x.split(','))\n",
    "dat.take(5) # first n rows"
   ]
  },
  {
   "cell_type": "code",
   "execution_count": 31,
   "metadata": {},
   "outputs": [
    {
     "data": {
      "text/plain": [
       "[['date',\n",
       "  'time',\n",
       "  'size',\n",
       "  'r_version',\n",
       "  'r_arch',\n",
       "  'r_os',\n",
       "  'package',\n",
       "  'version',\n",
       "  'country',\n",
       "  'ip_id']]"
      ]
     },
     "execution_count": 31,
     "metadata": {},
     "output_type": "execute_result"
    }
   ],
   "source": [
    "dat.filter(lambda x:x[0]=='date').collect()"
   ]
  },
  {
   "cell_type": "code",
   "execution_count": 34,
   "metadata": {},
   "outputs": [
    {
     "name": "stdout",
     "output_type": "stream",
     "text": [
      "+----------+--------+-------+---------+------+-------+---------+-------+-------+-----+\n",
      "|      date|    time|   size|r_version|r_arch|   r_os|  package|version|country|ip_id|\n",
      "+----------+--------+-------+---------+------+-------+---------+-------+-------+-----+\n",
      "|2015-12-12|13:42:10| 257886|    3.2.2|  i386|mingw32| HistData|  0.7-6|     CZ|    1|\n",
      "|2015-12-12|13:24:37|1236751|    3.2.2|x86_64|mingw32|  RJSONIO|  1.3-0|     DE|    2|\n",
      "|2015-12-12|13:42:35|2077876|    3.2.2|  i386|mingw32|   UsingR|  2.0-5|     CZ|    1|\n",
      "|2015-12-12|13:42:01| 266724|    3.2.2|  i386|mingw32|gridExtra|  2.0.0|     CZ|    1|\n",
      "|2015-12-12|13:00:21|3687766|       NA|    NA|     NA|     lme4| 1.1-10|     DE|    3|\n",
      "+----------+--------+-------+---------+------+-------+---------+-------+-------+-----+\n",
      "only showing top 5 rows\n",
      "\n"
     ]
    }
   ],
   "source": [
    "# creating data frame from rdd where column names are one of the element of rdd\n",
    "DT2 = spark.createDataFrame(dat.filter(lambda x:x[0]!='date'),dat.filter(lambda x:x[0]=='date').collect()[0])\n",
    "# for rdd to be part of data frame contents,select all elements (rdd element) from rdd whose 1st element is NOT equal to string 'data'.\n",
    "# for rdd to be part of data frame schema (list of column names),select all elements from rdd whose 1st element is equal to string 'data'.\n",
    "#.collect()[0] because 1st element of rdd(ie column names list) is already a list,so to select list value from list\n",
    "DT2.show(5)"
   ]
  },
  {
   "cell_type": "code",
   "execution_count": 35,
   "metadata": {},
   "outputs": [
    {
     "name": "stdout",
     "output_type": "stream",
     "text": [
      "root\n",
      " |-- date: string (nullable = true)\n",
      " |-- time: string (nullable = true)\n",
      " |-- size: string (nullable = true)\n",
      " |-- r_version: string (nullable = true)\n",
      " |-- r_arch: string (nullable = true)\n",
      " |-- r_os: string (nullable = true)\n",
      " |-- package: string (nullable = true)\n",
      " |-- version: string (nullable = true)\n",
      " |-- country: string (nullable = true)\n",
      " |-- ip_id: string (nullable = true)\n",
      "\n"
     ]
    }
   ],
   "source": [
    "DT2.printSchema()"
   ]
  },
  {
   "cell_type": "code",
   "execution_count": 39,
   "metadata": {},
   "outputs": [],
   "source": [
    "DT3 = DT2.withColumn(\"size\", DT2[\"size\"].cast(IntegerType())) #withColumn() to change datatype of column\n",
    "DT3 = DT3.withColumn(\"date\", DT3[\"date\"].cast(DateType()))"
   ]
  },
  {
   "cell_type": "code",
   "execution_count": 40,
   "metadata": {},
   "outputs": [
    {
     "data": {
      "text/plain": [
       "[('date', 'date'),\n",
       " ('time', 'string'),\n",
       " ('size', 'int'),\n",
       " ('r_version', 'string'),\n",
       " ('r_arch', 'string'),\n",
       " ('r_os', 'string'),\n",
       " ('package', 'string'),\n",
       " ('version', 'string'),\n",
       " ('country', 'string'),\n",
       " ('ip_id', 'string')]"
      ]
     },
     "execution_count": 40,
     "metadata": {},
     "output_type": "execute_result"
    }
   ],
   "source": [
    "DT3.dtypes"
   ]
  },
  {
   "cell_type": "code",
   "execution_count": 43,
   "metadata": {},
   "outputs": [
    {
     "name": "stdout",
     "output_type": "stream",
     "text": [
      "+----------+--------+--------+---------+------+-------+---------+-------+-------+-----+\n",
      "|      date|    time|size_new|r_version|r_arch|   r_os|  package|version|country|ip_id|\n",
      "+----------+--------+--------+---------+------+-------+---------+-------+-------+-----+\n",
      "|2015-12-12|13:42:10|  257886|    3.2.2|  i386|mingw32| HistData|  0.7-6|     CZ|    1|\n",
      "|2015-12-12|13:24:37| 1236751|    3.2.2|x86_64|mingw32|  RJSONIO|  1.3-0|     DE|    2|\n",
      "|2015-12-12|13:42:35| 2077876|    3.2.2|  i386|mingw32|   UsingR|  2.0-5|     CZ|    1|\n",
      "|2015-12-12|13:42:01|  266724|    3.2.2|  i386|mingw32|gridExtra|  2.0.0|     CZ|    1|\n",
      "|2015-12-12|13:00:21| 3687766|       NA|    NA|     NA|     lme4| 1.1-10|     DE|    3|\n",
      "+----------+--------+--------+---------+------+-------+---------+-------+-------+-----+\n",
      "only showing top 5 rows\n",
      "\n"
     ]
    }
   ],
   "source": [
    "DT4 = DT2.withColumnRenamed(\"size\", \"size_new\")\n",
    "DT4.show(5)"
   ]
  },
  {
   "cell_type": "code",
   "execution_count": 53,
   "metadata": {},
   "outputs": [
    {
     "name": "stdout",
     "output_type": "stream",
     "text": [
      "+----------+--------+--------+---------+------+---------+------------+-------+-------+-----+\n",
      "|      date|    time|size_new|r_version|r_arch|     r_os|     package|version|country|ip_id|\n",
      "+----------+--------+--------+---------+------+---------+------------+-------+-------+-----+\n",
      "|2015-12-12|23:52:09|  100004|       NA|    NA|       NA|ConnMatTools|  0.1.5|     CN| 4571|\n",
      "|2015-12-12|15:17:32| 1000127|    3.2.3|x86_64|linux-gnu|       SMVar|  1.3.3|     KR| 4986|\n",
      "|2015-12-12|16:32:35| 1000127|    3.1.3|  i386|  mingw32|       SMVar|  1.3.3|     AE|  556|\n",
      "|2015-12-12|04:54:48| 1000127|    3.1.0|x86_64|  mingw32|       SMVar|  1.3.3|     US| 1652|\n",
      "|2015-12-12|20:35:23| 1000127|    3.2.3|x86_64|linux-gnu|       SMVar|  1.3.3|     US| 4438|\n",
      "|2015-12-12|14:14:20| 1000127|    3.2.2|x86_64|  mingw32|       SMVar|  1.3.3|     KR|  511|\n",
      "|2015-12-12|20:33:54| 1000127|    3.2.3|x86_64|linux-gnu|       SMVar|  1.3.3|     CN|   41|\n",
      "|2015-12-12|18:21:19| 1000127|    3.2.2|x86_64|  mingw32|       SMVar|  1.3.3|     TR| 6920|\n",
      "|2015-12-12|15:55:44| 1000133|    3.2.3|x86_64|  mingw32|       SMVar|  1.3.3|     EU| 3722|\n",
      "|2015-12-12|16:42:24| 1000133|    3.2.3|  i386|  mingw32|       SMVar|  1.3.3|     KR| 4989|\n",
      "+----------+--------+--------+---------+------+---------+------------+-------+-------+-----+\n",
      "only showing top 10 rows\n",
      "\n"
     ]
    }
   ],
   "source": [
    "DT4.sort(DT4.size_new).show(10) #using sort()\n",
    "\n",
    "#DT4.sort(DT4.size_new.asc()).show(10)"
   ]
  },
  {
   "cell_type": "code",
   "execution_count": 55,
   "metadata": {},
   "outputs": [
    {
     "data": {
      "text/plain": [
       "0.11161009458040756"
      ]
     },
     "execution_count": 55,
     "metadata": {},
     "output_type": "execute_result"
    }
   ],
   "source": [
    "DT4.filter(DT4['size_new'] <1000).count() / DT4.count() #filter() for dataframe"
   ]
  },
  {
   "cell_type": "code",
   "execution_count": 56,
   "metadata": {},
   "outputs": [
    {
     "data": {
      "text/plain": [
       "0.009273193054466087"
      ]
     },
     "execution_count": 56,
     "metadata": {},
     "output_type": "execute_result"
    }
   ],
   "source": [
    "DT3.filter(DT3['package'] == \"ggplot2\").count() / DT3.count() "
   ]
  },
  {
   "cell_type": "code",
   "execution_count": 57,
   "metadata": {},
   "outputs": [
    {
     "name": "stdout",
     "output_type": "stream",
     "text": [
      "+----------+-----+\n",
      "|   package|count|\n",
      "+----------+-----+\n",
      "|   TH.data|  532|\n",
      "|     sharx|   20|\n",
      "|   spssDDI|    8|\n",
      "|xpose4data|    5|\n",
      "|websockets|    3|\n",
      "+----------+-----+\n",
      "only showing top 5 rows\n",
      "\n"
     ]
    }
   ],
   "source": [
    "DT3.groupBy(\"package\").count().show(5) #creates a groupBy column and a aggregation function col by func name"
   ]
  },
  {
   "cell_type": "code",
   "execution_count": 58,
   "metadata": {},
   "outputs": [
    {
     "name": "stdout",
     "output_type": "stream",
     "text": [
      "+-------+-----+\n",
      "|package|count|\n",
      "+-------+-----+\n",
      "|   Rcpp| 4783|\n",
      "|ggplot2| 3913|\n",
      "|stringi| 3748|\n",
      "|stringr| 3449|\n",
      "|   plyr| 3436|\n",
      "+-------+-----+\n",
      "only showing top 5 rows\n",
      "\n"
     ]
    }
   ],
   "source": [
    "package_count = DT3.groupBy(\"package\").count().sort(\"count\", ascending = False)\n",
    "package_count.show(5)"
   ]
  },
  {
   "cell_type": "code",
   "execution_count": 70,
   "metadata": {},
   "outputs": [
    {
     "data": {
      "text/plain": [
       "[('package', 'string'), ('count', 'bigint')]"
      ]
     },
     "execution_count": 70,
     "metadata": {},
     "output_type": "execute_result"
    }
   ],
   "source": [
    "package_count.dtypes"
   ]
  },
  {
   "cell_type": "code",
   "execution_count": 75,
   "metadata": {},
   "outputs": [
    {
     "data": {
      "text/plain": [
       "421969"
      ]
     },
     "execution_count": 75,
     "metadata": {},
     "output_type": "execute_result"
    }
   ],
   "source": [
    "DT3.count()"
   ]
  },
  {
   "cell_type": "code",
   "execution_count": 103,
   "metadata": {},
   "outputs": [
    {
     "name": "stdout",
     "output_type": "stream",
     "text": [
      "+-------+-----+-----+\n",
      "|package|count| perc|\n",
      "+-------+-----+-----+\n",
      "|     DT|   97|0.023|\n",
      "+-------+-----+-----+\n",
      "\n"
     ]
    }
   ],
   "source": [
    "package_count.filter(package_count.package == 'DT').show() #show package of type 'DT' and its count"
   ]
  },
  {
   "cell_type": "code",
   "execution_count": 86,
   "metadata": {},
   "outputs": [],
   "source": [
    "def derive_perc(x):\n",
    "     return str(round(x * 100,3))+'%'"
   ]
  },
  {
   "cell_type": "code",
   "execution_count": 104,
   "metadata": {},
   "outputs": [],
   "source": [
    "#derive_perc = udf(lambda x: str(round(x * 100, 3)) + \"%\")\n",
    "# or \n",
    "#@udf\n",
    "#def derive_perc(x):\n",
    "     #return(str(round(x * 100, 3)) + \"%\")\n",
    "\n",
    "#package_count = package_count.withColumn(\"perc\", derive_perc(package_count['count'] / DT3.count()))\n",
    "\n",
    "#package_count.show(10) #not working for unknown reason"
   ]
  },
  {
   "cell_type": "code",
   "execution_count": 139,
   "metadata": {},
   "outputs": [
    {
     "name": "stdout",
     "output_type": "stream",
     "text": [
      "+------------+-----+-----+\n",
      "|     package|count| perc|\n",
      "+------------+-----+-----+\n",
      "|        Rcpp| 4783|1.133|\n",
      "|     ggplot2| 3913|0.927|\n",
      "|     stringi| 3748|0.888|\n",
      "|     stringr| 3449|0.817|\n",
      "|        plyr| 3436|0.814|\n",
      "|    magrittr| 3265|0.774|\n",
      "|      digest| 3223|0.764|\n",
      "|    reshape2| 3205| 0.76|\n",
      "|RColorBrewer| 3046|0.722|\n",
      "|      scales| 3007|0.713|\n",
      "+------------+-----+-----+\n",
      "only showing top 10 rows\n",
      "\n"
     ]
    }
   ],
   "source": [
    "   \n",
    "package_count = package_count.withColumn('perc', round(package_count['count']*100 / DT3.count(),3))\n",
    "\n",
    "package_count.show(10)"
   ]
  },
  {
   "cell_type": "markdown",
   "metadata": {},
   "source": [
    "#We can build a view with the Spark DataFrame, then we can SQL syntax to further process our data.\n",
    "\n",
    "#You may notice there are two ways to build a view,\n",
    "\n",
    "#DF.createGlobalTempView (or DF.createOrReplaceGlobalTempView): create a global temporary view\n",
    "#DF.createTempView (or DF.createOrReplaceTempView): create a local temporary view\n",
    "\n",
    "#The main difference between them is the lifetime. The lifetime of a global temporary view is tied to the Spark application, while lifetime of a local temporary view is tied to the SparkSession."
   ]
  },
  {
   "cell_type": "code",
   "execution_count": 131,
   "metadata": {},
   "outputs": [],
   "source": [
    "package_count.createOrReplaceTempView(\"package_count_sql_table\")"
   ]
  },
  {
   "cell_type": "code",
   "execution_count": 132,
   "metadata": {},
   "outputs": [
    {
     "name": "stdout",
     "output_type": "stream",
     "text": [
      "+-----+\n",
      "| perc|\n",
      "+-----+\n",
      "|0.023|\n",
      "+-----+\n",
      "\n"
     ]
    }
   ],
   "source": [
    "spark.sql(\"select perc\\\n",
    "                               from package_count_sql_table \\\n",
    "                               where package = 'DT'\").show()"
   ]
  },
  {
   "cell_type": "code",
   "execution_count": 133,
   "metadata": {},
   "outputs": [
    {
     "name": "stdout",
     "output_type": "stream",
     "text": [
      "+-------+-----+-----+\n",
      "|package|count| perc|\n",
      "+-------+-----+-----+\n",
      "|   Rcpp| 4783|1.133|\n",
      "|ggplot2| 3913|0.927|\n",
      "|stringi| 3748|0.888|\n",
      "|stringr| 3449|0.817|\n",
      "|   plyr| 3436|0.814|\n",
      "+-------+-----+-----+\n",
      "only showing top 5 rows\n",
      "\n"
     ]
    }
   ],
   "source": [
    "qs=spark.sql(\"select * \\\n",
    "                                from package_count_sql_table \\\n",
    "                                where count > 1000 \\\n",
    "                                order by count desc\")\n",
    "qs.show(5)"
   ]
  },
  {
   "cell_type": "code",
   "execution_count": 134,
   "metadata": {},
   "outputs": [
    {
     "name": "stdout",
     "output_type": "stream",
     "text": [
      "+-------+-----+-----+\n",
      "|package|count| perc|\n",
      "+-------+-----+-----+\n",
      "|   Rcpp| 4783|1.133|\n",
      "|ggplot2| 3913|0.927|\n",
      "|stringi| 3748|0.888|\n",
      "|stringr| 3449|0.817|\n",
      "|   plyr| 3436|0.814|\n",
      "+-------+-----+-----+\n",
      "only showing top 5 rows\n",
      "\n",
      "None\n"
     ]
    }
   ],
   "source": [
    "print(qs.show(5)) # same as show()"
   ]
  },
  {
   "cell_type": "code",
   "execution_count": 136,
   "metadata": {},
   "outputs": [
    {
     "data": {
      "text/plain": [
       "['Rcpp:1.133',\n",
       " 'ggplot2:0.927',\n",
       " 'stringi:0.888',\n",
       " 'stringr:0.817',\n",
       " 'plyr:0.814',\n",
       " 'magrittr:0.774',\n",
       " 'digest:0.764',\n",
       " 'reshape2:0.76',\n",
       " 'RColorBrewer:0.722',\n",
       " 'scales:0.713']"
      ]
     },
     "execution_count": 136,
     "metadata": {},
     "output_type": "execute_result"
    }
   ],
   "source": [
    "# Use the Spark RDD way to process the results from Spark SQL query result\n",
    "\n",
    "qs.rdd.map(lambda x:x.package + \":\" + str(x.perc)).take(10) # qs.rdd.map(lambda x:x['package'] + \":\" + str(x['perc'])).take(10)"
   ]
  },
  {
   "cell_type": "code",
   "execution_count": null,
   "metadata": {},
   "outputs": [],
   "source": []
  },
  {
   "cell_type": "code",
   "execution_count": null,
   "metadata": {},
   "outputs": [],
   "source": []
  },
  {
   "cell_type": "code",
   "execution_count": null,
   "metadata": {},
   "outputs": [],
   "source": []
  }
 ],
 "metadata": {
  "kernelspec": {
   "display_name": "Python 3",
   "language": "python",
   "name": "python3"
  }
 },
 "nbformat": 4,
 "nbformat_minor": 2
}
