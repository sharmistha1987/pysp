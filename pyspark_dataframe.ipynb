{
 "cells": [
  {
   "cell_type": "code",
   "execution_count": 2,
   "metadata": {},
   "outputs": [],
   "source": [
    "import pyspark\n",
    "from pyspark.sql import *\n",
    "from pyspark.sql import functions as F\n",
    "from pyspark.sql.functions import *\n",
    "\n",
    "spark = SparkSession.builder\\\n",
    "       .appName(\"Pyspark_dataframe\")\\\n",
    "       .getOrCreate()"
   ]
  },
  {
   "cell_type": "code",
   "execution_count": 3,
   "metadata": {},
   "outputs": [
    {
     "data": {
      "text/plain": [
       "['0,tcp,http,SF,181,5450,0,0,0,0,0,1,0,0,0,0,0,0,0,0,0,0,8,8,0.00,0.00,0.00,0.00,1.00,0.00,0.00,9,9,1.00,0.00,0.11,0.00,0.00,0.00,0.00,0.00,normal.',\n",
       " '0,tcp,http,SF,239,486,0,0,0,0,0,1,0,0,0,0,0,0,0,0,0,0,8,8,0.00,0.00,0.00,0.00,1.00,0.00,0.00,19,19,1.00,0.00,0.05,0.00,0.00,0.00,0.00,0.00,normal.',\n",
       " '0,tcp,http,SF,235,1337,0,0,0,0,0,1,0,0,0,0,0,0,0,0,0,0,8,8,0.00,0.00,0.00,0.00,1.00,0.00,0.00,29,29,1.00,0.00,0.03,0.00,0.00,0.00,0.00,0.00,normal.',\n",
       " '0,tcp,http,SF,219,1337,0,0,0,0,0,1,0,0,0,0,0,0,0,0,0,0,6,6,0.00,0.00,0.00,0.00,1.00,0.00,0.00,39,39,1.00,0.00,0.03,0.00,0.00,0.00,0.00,0.00,normal.',\n",
       " '0,tcp,http,SF,217,2032,0,0,0,0,0,1,0,0,0,0,0,0,0,0,0,0,6,6,0.00,0.00,0.00,0.00,1.00,0.00,0.00,49,49,1.00,0.00,0.02,0.00,0.00,0.00,0.00,0.00,normal.']"
      ]
     },
     "execution_count": 3,
     "metadata": {},
     "output_type": "execute_result"
    }
   ],
   "source": [
    "raw_data = sc.textFile('file:///D:\\\\spark-2.3.2-bin-hadoop2.7\\\\kddcup.txt').cache()\n",
    "raw_data.take(5)"
   ]
  },
  {
   "cell_type": "code",
   "execution_count": 4,
   "metadata": {},
   "outputs": [],
   "source": [
    "#schema inference\n",
    "\n",
    "csv_data = raw_data.map(lambda l: l.split(\",\"))\n",
    "row_data=csv_data.map(lambda p: Row(\n",
    "    duration=int(p[0]), \n",
    "    protocol_type=p[1],\n",
    "    service=p[2],\n",
    "    flag=p[3],\n",
    "    src_bytes=int(p[4]),\n",
    "    dst_bytes=int(p[5])\n",
    "    )\n",
    ")"
   ]
  },
  {
   "cell_type": "code",
   "execution_count": 5,
   "metadata": {},
   "outputs": [],
   "source": [
    "interactions_df = spark.createDataFrame(row_data)\n",
    "\n",
    "#interactions_df.show()\n",
    "\n",
    "interactions_df.createOrReplaceTempView(\"interactions\")\n",
    "#interactions_df.registerTempTable(\"interactions\")\n",
    "\n"
   ]
  },
  {
   "cell_type": "code",
   "execution_count": null,
   "metadata": {},
   "outputs": [
    {
     "name": "stdout",
     "output_type": "stream",
     "text": [
      "+---------+--------+----+-------------+-------+---------+\n",
      "|dst_bytes|duration|flag|protocol_type|service|src_bytes|\n",
      "+---------+--------+----+-------------+-------+---------+\n",
      "|     5450|       0|  SF|          tcp|   http|      181|\n",
      "|      486|       0|  SF|          tcp|   http|      239|\n",
      "|     1337|       0|  SF|          tcp|   http|      235|\n",
      "|     1337|       0|  SF|          tcp|   http|      219|\n",
      "|     2032|       0|  SF|          tcp|   http|      217|\n",
      "|     2032|       0|  SF|          tcp|   http|      217|\n",
      "|     1940|       0|  SF|          tcp|   http|      212|\n",
      "|     4087|       0|  SF|          tcp|   http|      159|\n",
      "|      151|       0|  SF|          tcp|   http|      210|\n",
      "|      786|       0|  SF|          tcp|   http|      212|\n",
      "|      624|       0|  SF|          tcp|   http|      210|\n",
      "|     1985|       0|  SF|          tcp|   http|      177|\n",
      "|      773|       0|  SF|          tcp|   http|      222|\n",
      "|     1169|       0|  SF|          tcp|   http|      256|\n",
      "|      259|       0|  SF|          tcp|   http|      241|\n",
      "|     1837|       0|  SF|          tcp|   http|      260|\n",
      "|      261|       0|  SF|          tcp|   http|      241|\n",
      "|      818|       0|  SF|          tcp|   http|      257|\n",
      "|      255|       0|  SF|          tcp|   http|      233|\n",
      "|      504|       0|  SF|          tcp|   http|      233|\n",
      "+---------+--------+----+-------------+-------+---------+\n",
      "only showing top 20 rows\n",
      "\n"
     ]
    }
   ],
   "source": [
    "spark.sql(\"select * from interactions\").show()"
   ]
  },
  {
   "cell_type": "code",
   "execution_count": null,
   "metadata": {},
   "outputs": [
    {
     "name": "stdout",
     "output_type": "stream",
     "text": [
      "root\n",
      " |-- dst_bytes: long (nullable = true)\n",
      " |-- duration: long (nullable = true)\n",
      " |-- flag: string (nullable = true)\n",
      " |-- protocol_type: string (nullable = true)\n",
      " |-- service: string (nullable = true)\n",
      " |-- src_bytes: long (nullable = true)\n",
      "\n"
     ]
    }
   ],
   "source": [
    "interactions_df.printSchema()"
   ]
  },
  {
   "cell_type": "code",
   "execution_count": null,
   "metadata": {},
   "outputs": [
    {
     "name": "stdout",
     "output_type": "stream",
     "text": [
      "+--------+---------+\n",
      "|duration|dst_bytes|\n",
      "+--------+---------+\n",
      "|    5057|        0|\n",
      "|    5059|        0|\n",
      "|    5051|        0|\n",
      "|    5056|        0|\n",
      "|    5051|        0|\n",
      "|    5039|        0|\n",
      "|    5062|        0|\n",
      "|    5041|        0|\n",
      "|    5056|        0|\n",
      "|    5064|        0|\n",
      "|    5043|        0|\n",
      "|    5061|        0|\n",
      "|    5049|        0|\n",
      "|    5061|        0|\n",
      "|    5048|        0|\n",
      "|    5047|        0|\n",
      "|    5044|        0|\n",
      "|    5063|        0|\n",
      "|    5068|        0|\n",
      "|    5062|        0|\n",
      "+--------+---------+\n",
      "only showing top 20 rows\n",
      "\n"
     ]
    }
   ],
   "source": [
    "# Select tcp network interactions with more than 1 second duration and no transfer from destination\n",
    "tcp_interactions = spark.sql(\"\"\"\n",
    "    SELECT duration, dst_bytes FROM interactions WHERE protocol_type = 'tcp' AND duration > 1000 AND dst_bytes = 0\n",
    "\"\"\")\n",
    "tcp_interactions.show()"
   ]
  },
  {
   "cell_type": "code",
   "execution_count": null,
   "metadata": {},
   "outputs": [
    {
     "data": {
      "text/plain": [
       "Row(dst_bytes=5450, duration=0, flag='SF', protocol_type='tcp', service='http', src_bytes=181)"
      ]
     },
     "execution_count": 9,
     "metadata": {},
     "output_type": "execute_result"
    }
   ],
   "source": [
    "interactions_df.head()"
   ]
  },
  {
   "cell_type": "code",
   "execution_count": null,
   "metadata": {},
   "outputs": [
    {
     "data": {
      "text/plain": [
       "Row(dst_bytes=5450, duration=0, flag='SF', protocol_type='tcp', service='http', src_bytes=181)"
      ]
     },
     "execution_count": 10,
     "metadata": {},
     "output_type": "execute_result"
    }
   ],
   "source": [
    "interactions_df.first()"
   ]
  },
  {
   "cell_type": "code",
   "execution_count": null,
   "metadata": {},
   "outputs": [
    {
     "name": "stdout",
     "output_type": "stream",
     "text": [
      "duration:5057:dest_bytes:0\n",
      "duration:5059:dest_bytes:0\n",
      "duration:5051:dest_bytes:0\n",
      "duration:5056:dest_bytes:0\n",
      "duration:5051:dest_bytes:0\n",
      "duration:5039:dest_bytes:0\n",
      "duration:5062:dest_bytes:0\n",
      "duration:5041:dest_bytes:0\n",
      "duration:5056:dest_bytes:0\n",
      "duration:5064:dest_bytes:0\n",
      "duration:5043:dest_bytes:0\n",
      "duration:5061:dest_bytes:0\n",
      "duration:5049:dest_bytes:0\n",
      "duration:5061:dest_bytes:0\n",
      "duration:5048:dest_bytes:0\n",
      "duration:5047:dest_bytes:0\n",
      "duration:5044:dest_bytes:0\n",
      "duration:5063:dest_bytes:0\n",
      "duration:5068:dest_bytes:0\n",
      "duration:5062:dest_bytes:0\n",
      "duration:5046:dest_bytes:0\n",
      "duration:5052:dest_bytes:0\n",
      "duration:5044:dest_bytes:0\n",
      "duration:5054:dest_bytes:0\n",
      "duration:5039:dest_bytes:0\n",
      "duration:5058:dest_bytes:0\n",
      "duration:5051:dest_bytes:0\n",
      "duration:5032:dest_bytes:0\n",
      "duration:5063:dest_bytes:0\n",
      "duration:5040:dest_bytes:0\n",
      "duration:5051:dest_bytes:0\n",
      "duration:5066:dest_bytes:0\n",
      "duration:5044:dest_bytes:0\n",
      "duration:5051:dest_bytes:0\n",
      "duration:5036:dest_bytes:0\n",
      "duration:5055:dest_bytes:0\n",
      "duration:2426:dest_bytes:0\n",
      "duration:5047:dest_bytes:0\n",
      "duration:5057:dest_bytes:0\n",
      "duration:5037:dest_bytes:0\n",
      "duration:5057:dest_bytes:0\n",
      "duration:5062:dest_bytes:0\n",
      "duration:5051:dest_bytes:0\n",
      "duration:5051:dest_bytes:0\n",
      "duration:5053:dest_bytes:0\n",
      "duration:5064:dest_bytes:0\n",
      "duration:5044:dest_bytes:0\n",
      "duration:5051:dest_bytes:0\n",
      "duration:5033:dest_bytes:0\n",
      "duration:5066:dest_bytes:0\n",
      "duration:5063:dest_bytes:0\n",
      "duration:5056:dest_bytes:0\n",
      "duration:5042:dest_bytes:0\n",
      "duration:5063:dest_bytes:0\n",
      "duration:5060:dest_bytes:0\n",
      "duration:5056:dest_bytes:0\n",
      "duration:5049:dest_bytes:0\n",
      "duration:5043:dest_bytes:0\n",
      "duration:5039:dest_bytes:0\n",
      "duration:5041:dest_bytes:0\n",
      "duration:42448:dest_bytes:0\n",
      "duration:42088:dest_bytes:0\n",
      "duration:41065:dest_bytes:0\n",
      "duration:40929:dest_bytes:0\n",
      "duration:40806:dest_bytes:0\n",
      "duration:40682:dest_bytes:0\n",
      "duration:40571:dest_bytes:0\n",
      "duration:40448:dest_bytes:0\n",
      "duration:40339:dest_bytes:0\n",
      "duration:40232:dest_bytes:0\n",
      "duration:40121:dest_bytes:0\n",
      "duration:36783:dest_bytes:0\n",
      "duration:36674:dest_bytes:0\n",
      "duration:36570:dest_bytes:0\n",
      "duration:36467:dest_bytes:0\n",
      "duration:36323:dest_bytes:0\n",
      "duration:36204:dest_bytes:0\n",
      "duration:32038:dest_bytes:0\n",
      "duration:31925:dest_bytes:0\n",
      "duration:31809:dest_bytes:0\n",
      "duration:31709:dest_bytes:0\n",
      "duration:31601:dest_bytes:0\n",
      "duration:31501:dest_bytes:0\n",
      "duration:31401:dest_bytes:0\n",
      "duration:31301:dest_bytes:0\n",
      "duration:31194:dest_bytes:0\n",
      "duration:31061:dest_bytes:0\n",
      "duration:30935:dest_bytes:0\n",
      "duration:30835:dest_bytes:0\n",
      "duration:30735:dest_bytes:0\n",
      "duration:30619:dest_bytes:0\n",
      "duration:30518:dest_bytes:0\n",
      "duration:30418:dest_bytes:0\n",
      "duration:30317:dest_bytes:0\n",
      "duration:30217:dest_bytes:0\n",
      "duration:30077:dest_bytes:0\n",
      "duration:25420:dest_bytes:0\n",
      "duration:22921:dest_bytes:0\n",
      "duration:22821:dest_bytes:0\n",
      "duration:22721:dest_bytes:0\n",
      "duration:22616:dest_bytes:0\n",
      "duration:22516:dest_bytes:0\n",
      "duration:22416:dest_bytes:0\n",
      "duration:22316:dest_bytes:0\n",
      "duration:22216:dest_bytes:0\n",
      "duration:21987:dest_bytes:0\n",
      "duration:21887:dest_bytes:0\n",
      "duration:21767:dest_bytes:0\n",
      "duration:21661:dest_bytes:0\n",
      "duration:21561:dest_bytes:0\n",
      "duration:21455:dest_bytes:0\n",
      "duration:21334:dest_bytes:0\n",
      "duration:21223:dest_bytes:0\n",
      "duration:21123:dest_bytes:0\n",
      "duration:20983:dest_bytes:0\n",
      "duration:14682:dest_bytes:0\n",
      "duration:14420:dest_bytes:0\n",
      "duration:14319:dest_bytes:0\n",
      "duration:14198:dest_bytes:0\n",
      "duration:14098:dest_bytes:0\n",
      "duration:13998:dest_bytes:0\n",
      "duration:13898:dest_bytes:0\n",
      "duration:13796:dest_bytes:0\n",
      "duration:13678:dest_bytes:0\n",
      "duration:13578:dest_bytes:0\n",
      "duration:13448:dest_bytes:0\n",
      "duration:13348:dest_bytes:0\n",
      "duration:13241:dest_bytes:0\n",
      "duration:13141:dest_bytes:0\n",
      "duration:13033:dest_bytes:0\n",
      "duration:12933:dest_bytes:0\n",
      "duration:12833:dest_bytes:0\n",
      "duration:12733:dest_bytes:0\n",
      "duration:12001:dest_bytes:0\n",
      "duration:5678:dest_bytes:0\n",
      "duration:5010:dest_bytes:0\n",
      "duration:1298:dest_bytes:0\n",
      "duration:1031:dest_bytes:0\n",
      "duration:36438:dest_bytes:0\n"
     ]
    }
   ],
   "source": [
    "# print out elements in each row\n",
    "\n",
    "tcp_interactions_out=tcp_interactions.rdd.map(lambda p:'duration:{}:dest_bytes:{}'.format(p.duration,p.dst_bytes))\n",
    "\n",
    "for t in tcp_interactions_out.collect():\n",
    "    print(t)\n",
    "    \n"
   ]
  },
  {
   "cell_type": "code",
   "execution_count": null,
   "metadata": {},
   "outputs": [
    {
     "data": {
      "text/plain": [
       "['duration:5057:dest_bytes:0',\n",
       " 'duration:5059:dest_bytes:0',\n",
       " 'duration:5051:dest_bytes:0',\n",
       " 'duration:5056:dest_bytes:0',\n",
       " 'duration:5051:dest_bytes:0']"
      ]
     },
     "execution_count": 12,
     "metadata": {},
     "output_type": "execute_result"
    }
   ],
   "source": [
    "tcp_interactions_out.take(5)"
   ]
  },
  {
   "cell_type": "code",
   "execution_count": null,
   "metadata": {},
   "outputs": [
    {
     "data": {
      "text/plain": [
       "[['duration', '5057', 'dest_bytes', '0'],\n",
       " ['duration', '5059', 'dest_bytes', '0'],\n",
       " ['duration', '5051', 'dest_bytes', '0'],\n",
       " ['duration', '5056', 'dest_bytes', '0'],\n",
       " ['duration', '5051', 'dest_bytes', '0']]"
      ]
     },
     "execution_count": 13,
     "metadata": {},
     "output_type": "execute_result"
    }
   ],
   "source": [
    "df_data=tcp_interactions_out.map(lambda x: x.split(':'))\n",
    "df_data.take(5)"
   ]
  },
  {
   "cell_type": "code",
   "execution_count": null,
   "metadata": {},
   "outputs": [],
   "source": [
    "df_1=df_data.map(lambda y: Row(duration=y[1],dest_bytes=y[3]))\n",
    "df=spark.createDataFrame(df_1).show()"
   ]
  },
  {
   "cell_type": "code",
   "execution_count": null,
   "metadata": {},
   "outputs": [],
   "source": []
  }
 ],
 "metadata": {
  "kernelspec": {
   "display_name": "Python 3",
   "language": "python",
   "name": "python3"
  },
  "language_info": {
   "codemirror_mode": {
    "name": "ipython",
    "version": 3
   },
   "file_extension": ".py",
   "mimetype": "text/x-python",
   "name": "python",
   "nbconvert_exporter": "python",
   "pygments_lexer": "ipython3",
   "version": "3.7.1"
  }
 },
 "nbformat": 4,
 "nbformat_minor": 2
}
