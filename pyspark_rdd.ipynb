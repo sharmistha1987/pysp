{
 "cells": [
  {
   "cell_type": "code",
   "execution_count": 1,
   "metadata": {},
   "outputs": [],
   "source": [
    "import pyspark\n",
    "from pyspark.sql import *\n",
    "from pyspark.sql import functions as F\n",
    "from pyspark.sql.functions import *\n",
    "\n",
    "spark = SparkSession.builder\\\n",
    "       .appName(\"Pyspark\")\\\n",
    "       .getOrCreate()"
   ]
  },
  {
   "cell_type": "code",
   "execution_count": 3,
   "metadata": {},
   "outputs": [],
   "source": [
    "data = [1, 2, 3, 4, 5]\n",
    "distData = sc.parallelize(data) # to create RDD on an iterable"
   ]
  },
  {
   "cell_type": "code",
   "execution_count": 4,
   "metadata": {},
   "outputs": [
    {
     "data": {
      "text/plain": [
       "15"
      ]
     },
     "execution_count": 4,
     "metadata": {},
     "output_type": "execute_result"
    }
   ],
   "source": [
    "distData.reduce(lambda a, b: a + b) # reduce function will aggregate elements of rdd  #action"
   ]
  },
  {
   "cell_type": "code",
   "execution_count": 5,
   "metadata": {},
   "outputs": [],
   "source": [
    "distFile = sc.textFile(\"data.txt\") # load rdd from textfile\n",
    "#he textFile method also takes an optional secongroud argument for controlling the number of partitions of the file. \n",
    "#By default, Spark creates one partition for each block of the file (blocks being 128MB by default in HDFS),\n",
    "#but you can also ask for a higher number of partitions by passing a larger value.\n",
    "#Note that you cannot have fewer partitions than blocks."
   ]
  },
  {
   "cell_type": "code",
   "execution_count": 6,
   "metadata": {},
   "outputs": [
    {
     "data": {
      "text/plain": [
       "[(1, 'a'), (2, 'aa'), (3, 'aaa')]"
      ]
     },
     "execution_count": 6,
     "metadata": {},
     "output_type": "execute_result"
    }
   ],
   "source": [
    "sc.parallelize(range(1, 4)).map(lambda x: (x, \"a\" * x)).collect() # map function operates on each element of rdd\n"
   ]
  },
  {
   "cell_type": "code",
   "execution_count": 7,
   "metadata": {},
   "outputs": [],
   "source": [
    "#By default, each transformed RDD may be recomputed each time you run an action on it. \n",
    "#However, you may also persist an RDD in memory using the persist (or cache) method, \n",
    "#in which case Spark will keep the elements around on the cluster for much faster access the next time you query it. \n",
    "#There is also support for persisting RDDs on disk, or replicated across multiple nodes."
   ]
  },
  {
   "cell_type": "code",
   "execution_count": 8,
   "metadata": {},
   "outputs": [
    {
     "data": {
      "text/plain": [
       "'2.3.2'"
      ]
     },
     "execution_count": 8,
     "metadata": {},
     "output_type": "execute_result"
    }
   ],
   "source": [
    "spark.version"
   ]
  },
  {
   "cell_type": "code",
   "execution_count": 9,
   "metadata": {},
   "outputs": [
    {
     "data": {
      "text/plain": [
       "[1, 2, 3, 4, 5, 6, 7]"
      ]
     },
     "execution_count": 9,
     "metadata": {},
     "output_type": "execute_result"
    }
   ],
   "source": [
    "nums = sc.parallelize([1, 2, 3, 4, 5, 6, 7])\n",
    "nums.collect()"
   ]
  },
  {
   "cell_type": "code",
   "execution_count": 10,
   "metadata": {},
   "outputs": [
    {
     "data": {
      "text/plain": [
       "[1, 3, 5, 7]"
      ]
     },
     "execution_count": 10,
     "metadata": {},
     "output_type": "execute_result"
    }
   ],
   "source": [
    "filtered1 = nums.filter(lambda x : x % 2 == 1) #odd numbers\n",
    "filtered1.collect()"
   ]
  },
  {
   "cell_type": "code",
   "execution_count": 11,
   "metadata": {},
   "outputs": [
    {
     "data": {
      "text/plain": [
       "[2, 4, 6]"
      ]
     },
     "execution_count": 11,
     "metadata": {},
     "output_type": "execute_result"
    }
   ],
   "source": [
    "filtered2 = nums.filter(lambda x : x % 2 == 0) # even numbers\n",
    "filtered2.collect()"
   ]
  },
  {
   "cell_type": "code",
   "execution_count": 3,
   "metadata": {},
   "outputs": [
    {
     "data": {
      "text/plain": [
       "['k1,v1', 'k1,v2', 'k2,v3', 'k2,v4', 'k3,v7']"
      ]
     },
     "execution_count": 3,
     "metadata": {},
     "output_type": "execute_result"
    }
   ],
   "source": [
    "sc.textFile(\"file:///D:\\\\spark-2.3.2-bin-hadoop2.7\\\\mytest.txt\").take(5)"
   ]
  },
  {
   "cell_type": "code",
   "execution_count": 4,
   "metadata": {},
   "outputs": [
    {
     "data": {
      "text/plain": [
       "['k1,v1', 'k1,v2', 'k2,v3', 'k2,v4', 'k3,v7']"
      ]
     },
     "execution_count": 4,
     "metadata": {},
     "output_type": "execute_result"
    }
   ],
   "source": [
    "R = sc.textFile(\"file:///D:\\\\spark-2.3.2-bin-hadoop2.7\\\\mytest.txt\")\n",
    "R.take(5)"
   ]
  },
  {
   "cell_type": "code",
   "execution_count": 5,
   "metadata": {},
   "outputs": [
    {
     "data": {
      "text/plain": [
       "['k1,v11', 'k1,v22', 'k1,v33', 'k2,v55', 'k4,v77']"
      ]
     },
     "execution_count": 5,
     "metadata": {},
     "output_type": "execute_result"
    }
   ],
   "source": [
    "S= sc.textFile(\"file:///D:\\\\spark-2.3.2-bin-hadoop2.7\\\\mytest1.txt\")\n",
    "S.take(5)"
   ]
  },
  {
   "cell_type": "code",
   "execution_count": 6,
   "metadata": {},
   "outputs": [
    {
     "data": {
      "text/plain": [
       "[['k1', 'v1'], ['k1', 'v2'], ['k2', 'v3'], ['k2', 'v4'], ['k3', 'v7']]"
      ]
     },
     "execution_count": 6,
     "metadata": {},
     "output_type": "execute_result"
    }
   ],
   "source": [
    "r1=R.map(lambda x:x.split(','))\n",
    "r1.take(5)"
   ]
  },
  {
   "cell_type": "code",
   "execution_count": 10,
   "metadata": {},
   "outputs": [
    {
     "data": {
      "text/plain": [
       "['k1', 'v1', 'k1', 'v2', 'k2', 'v3', 'k2', 'v4', 'k3', 'v7', 'k3']"
      ]
     },
     "execution_count": 10,
     "metadata": {},
     "output_type": "execute_result"
    }
   ],
   "source": [
    "r3=R.flatMap(lambda x:x.split(','))\n",
    "r3.take(11)"
   ]
  },
  {
   "cell_type": "code",
   "execution_count": 8,
   "metadata": {},
   "outputs": [
    {
     "data": {
      "text/plain": [
       "['k1', 'v1', 'k1', 'v2', 'k2', 'v3', 'k2', 'v4', 'k3', 'v7']"
      ]
     },
     "execution_count": 8,
     "metadata": {},
     "output_type": "execute_result"
    }
   ],
   "source": [
    "#r2 = r1.map(lambda s: (s[0],s[1]))\n",
    "#r2.take(10)\n",
    "\n",
    "r2 = r1.flatMap(lambda s: (s[0],s[1]))\n",
    "r2.take(10)"
   ]
  },
  {
   "cell_type": "code",
   "execution_count": 17,
   "metadata": {},
   "outputs": [
    {
     "data": {
      "text/plain": [
       "[['k1', 'v11'],\n",
       " ['k1', 'v22'],\n",
       " ['k1', 'v33'],\n",
       " ['k2', 'v55'],\n",
       " ['k4', 'v77'],\n",
       " ['k5', 'v88']]"
      ]
     },
     "execution_count": 17,
     "metadata": {},
     "output_type": "execute_result"
    }
   ],
   "source": [
    "s1 = S.map(lambda s: s.split(\",\"))\n",
    "s1.take(10)"
   ]
  },
  {
   "cell_type": "code",
   "execution_count": 18,
   "metadata": {},
   "outputs": [
    {
     "data": {
      "text/plain": [
       "[('k1', 'v11'),\n",
       " ('k1', 'v22'),\n",
       " ('k1', 'v33'),\n",
       " ('k2', 'v55'),\n",
       " ('k4', 'v77'),\n",
       " ('k5', 'v88')]"
      ]
     },
     "execution_count": 18,
     "metadata": {},
     "output_type": "execute_result"
    }
   ],
   "source": [
    "s2 = s1.flatMap(lambda s: [(s[0],s[1])])\n",
    "s2.take(10)"
   ]
  },
  {
   "cell_type": "code",
   "execution_count": 19,
   "metadata": {},
   "outputs": [
    {
     "data": {
      "text/plain": [
       "[('k1', ('v1', 'v11')),\n",
       " ('k1', ('v1', 'v22')),\n",
       " ('k1', ('v1', 'v33')),\n",
       " ('k1', ('v2', 'v11')),\n",
       " ('k1', ('v2', 'v22')),\n",
       " ('k1', ('v2', 'v33')),\n",
       " ('k2', ('v3', 'v55')),\n",
       " ('k2', ('v4', 'v55'))]"
      ]
     },
     "execution_count": 19,
     "metadata": {},
     "output_type": "execute_result"
    }
   ],
   "source": [
    "RjoinedS = r2.join(s2)\n",
    "RjoinedS.take(10)"
   ]
  },
  {
   "cell_type": "code",
   "execution_count": 20,
   "metadata": {},
   "outputs": [],
   "source": [
    "nums = sc.parallelize([1, 2, 3, 4, 5])"
   ]
  },
  {
   "cell_type": "code",
   "execution_count": 21,
   "metadata": {},
   "outputs": [
    {
     "data": {
      "text/plain": [
       "[3, 4, 5, 6, 7]"
      ]
     },
     "execution_count": 21,
     "metadata": {},
     "output_type": "execute_result"
    }
   ],
   "source": [
    "sum2 = nums.map(lambda x: x + 2)\n",
    "sum2.take(10)"
   ]
  },
  {
   "cell_type": "code",
   "execution_count": 22,
   "metadata": {},
   "outputs": [
    {
     "data": {
      "text/plain": [
       "[1, 4, 9, 16, 25]"
      ]
     },
     "execution_count": 22,
     "metadata": {},
     "output_type": "execute_result"
    }
   ],
   "source": [
    "sq = nums.map(lambda x: x * x)\n",
    "sq.take(10)"
   ]
  },
  {
   "cell_type": "code",
   "execution_count": 23,
   "metadata": {},
   "outputs": [
    {
     "data": {
      "text/plain": [
       "24"
      ]
     },
     "execution_count": 23,
     "metadata": {},
     "output_type": "execute_result"
    }
   ],
   "source": [
    "n = sc.parallelize([1, 2, 3, 4])\n",
    "n.reduce(lambda x, y: x * y)\n",
    "#n.fold(1,(lambda x, y: x * y))\n"
   ]
  },
  {
   "cell_type": "code",
   "execution_count": 24,
   "metadata": {},
   "outputs": [
    {
     "data": {
      "text/plain": [
       "[('a', 1), ('b', 1), ('c', 1)]"
      ]
     },
     "execution_count": 24,
     "metadata": {},
     "output_type": "execute_result"
    }
   ],
   "source": [
    "rdd1 = sc.parallelize([\"b\", \"a\", \"c\"])\n",
    "sorted(rdd1.map(lambda x: (x, 1)).collect())\n"
   ]
  },
  {
   "cell_type": "code",
   "execution_count": 25,
   "metadata": {},
   "outputs": [
    {
     "data": {
      "text/plain": [
       "['b', 1, 'a', 1, 'c', 1]"
      ]
     },
     "execution_count": 25,
     "metadata": {},
     "output_type": "execute_result"
    }
   ],
   "source": [
    "rdd1 = sc.parallelize([\"b\", \"a\", \"c\"])\n",
    "rdd1.flatMap(lambda x: (x, 1)).collect()"
   ]
  },
  {
   "cell_type": "code",
   "execution_count": 26,
   "metadata": {},
   "outputs": [
    {
     "data": {
      "text/plain": [
       "['crazy crazy fox jumped',\n",
       " 'crazy fox jumped',\n",
       " 'fox is fast',\n",
       " 'fox is smart',\n",
       " 'dog is smart']"
      ]
     },
     "execution_count": 26,
     "metadata": {},
     "output_type": "execute_result"
    }
   ],
   "source": [
    "lines = sc.textFile('file:///D:\\\\spark-2.3.2-bin-hadoop2.7\\\\mytest3.txt')\n",
    "lines.take(10)"
   ]
  },
  {
   "cell_type": "code",
   "execution_count": 27,
   "metadata": {},
   "outputs": [
    {
     "data": {
      "text/plain": [
       "['crazy',\n",
       " 'crazy',\n",
       " 'fox',\n",
       " 'jumped',\n",
       " 'crazy',\n",
       " 'fox',\n",
       " 'jumped',\n",
       " 'fox',\n",
       " 'is',\n",
       " 'fast']"
      ]
     },
     "execution_count": 27,
     "metadata": {},
     "output_type": "execute_result"
    }
   ],
   "source": [
    "lines.flatMap(lambda x: x.split(' ')).take(10)"
   ]
  },
  {
   "cell_type": "code",
   "execution_count": 28,
   "metadata": {},
   "outputs": [
    {
     "data": {
      "text/plain": [
       "[('crazy', 1),\n",
       " ('crazy', 1),\n",
       " ('fox', 1),\n",
       " ('jumped', 1),\n",
       " ('crazy', 1),\n",
       " ('fox', 1),\n",
       " ('jumped', 1),\n",
       " ('fox', 1),\n",
       " ('is', 1),\n",
       " ('fast', 1)]"
      ]
     },
     "execution_count": 28,
     "metadata": {},
     "output_type": "execute_result"
    }
   ],
   "source": [
    "assigninitial = lines.flatMap(lambda x: x.split(' ')).map(lambda w:(w,1))\n",
    "assigninitial.take(10)"
   ]
  },
  {
   "cell_type": "code",
   "execution_count": 31,
   "metadata": {},
   "outputs": [
    {
     "data": {
      "text/plain": [
       "[('crazy', 3),\n",
       " ('is', 3),\n",
       " ('smart', 2),\n",
       " ('fox', 4),\n",
       " ('jumped', 2),\n",
       " ('fast', 1),\n",
       " ('dog', 1)]"
      ]
     },
     "execution_count": 31,
     "metadata": {},
     "output_type": "execute_result"
    }
   ],
   "source": [
    "frequencies=assigninitial.reduceByKey(lambda x,y:x+y)\n",
    "x=frequencies.take(10)\n",
    "x"
   ]
  },
  {
   "cell_type": "code",
   "execution_count": 32,
   "metadata": {},
   "outputs": [
    {
     "data": {
      "text/plain": [
       "7"
      ]
     },
     "execution_count": 32,
     "metadata": {},
     "output_type": "execute_result"
    }
   ],
   "source": [
    "frequencies.count()"
   ]
  },
  {
   "cell_type": "code",
   "execution_count": 122,
   "metadata": {},
   "outputs": [
    {
     "data": {
      "text/plain": [
       "['crazy', 'is', 'smart', 'fox', 'jumped', 'fast', 'dog']"
      ]
     },
     "execution_count": 122,
     "metadata": {},
     "output_type": "execute_result"
    }
   ],
   "source": [
    "frequencies.keys() #action\n",
    "\n",
    "# to view\n",
    "frequencies.keys().take(12)"
   ]
  },
  {
   "cell_type": "code",
   "execution_count": 123,
   "metadata": {},
   "outputs": [
    {
     "data": {
      "text/plain": [
       "[3, 3, 2, 4, 2, 1, 1]"
      ]
     },
     "execution_count": 123,
     "metadata": {},
     "output_type": "execute_result"
    }
   ],
   "source": [
    "frequencies.values() #action\n",
    "\n",
    "# to view\n",
    "frequencies.values().take(12)"
   ]
  },
  {
   "cell_type": "code",
   "execution_count": 38,
   "metadata": {},
   "outputs": [
    {
     "data": {
      "text/plain": [
       "[(('crazy', 3), 0),\n",
       " (('is', 3), 1),\n",
       " (('smart', 2), 2),\n",
       " (('fox', 4), 3),\n",
       " (('jumped', 2), 4),\n",
       " (('fast', 1), 5),\n",
       " (('dog', 1), 6)]"
      ]
     },
     "execution_count": 38,
     "metadata": {},
     "output_type": "execute_result"
    }
   ],
   "source": [
    "frequencies.zipWithIndex().take(10) # create tuple of element and index"
   ]
  },
  {
   "cell_type": "code",
   "execution_count": 35,
   "metadata": {},
   "outputs": [
    {
     "data": {
      "text/plain": [
       "('crazy', 3)"
      ]
     },
     "execution_count": 35,
     "metadata": {},
     "output_type": "execute_result"
    }
   ],
   "source": [
    "frequencies.first()  #action"
   ]
  },
  {
   "cell_type": "code",
   "execution_count": 36,
   "metadata": {
    "scrolled": true
   },
   "outputs": [
    {
     "data": {
      "text/plain": [
       "[('crazy', 3),\n",
       " ('dog', 1),\n",
       " ('fast', 1),\n",
       " ('fox', 4),\n",
       " ('is', 3),\n",
       " ('jumped', 2),\n",
       " ('smart', 2)]"
      ]
     },
     "execution_count": 36,
     "metadata": {},
     "output_type": "execute_result"
    }
   ],
   "source": [
    "frequencies.sortByKey().collect()"
   ]
  },
  {
   "cell_type": "code",
   "execution_count": 37,
   "metadata": {},
   "outputs": [
    {
     "data": {
      "text/plain": [
       "[('smart', 2),\n",
       " ('jumped', 2),\n",
       " ('is', 3),\n",
       " ('fox', 4),\n",
       " ('fast', 1),\n",
       " ('dog', 1),\n",
       " ('crazy', 3)]"
      ]
     },
     "execution_count": 37,
     "metadata": {},
     "output_type": "execute_result"
    }
   ],
   "source": [
    "frequencies.sortByKey(ascending=False).collect() #frequencies.sortByKey(False).collect()"
   ]
  },
  {
   "cell_type": "code",
   "execution_count": 38,
   "metadata": {},
   "outputs": [
    {
     "data": {
      "text/plain": [
       "[('1', 3), ('2', 5), ('a', 1), ('b', 2), ('d', 4)]"
      ]
     },
     "execution_count": 38,
     "metadata": {},
     "output_type": "execute_result"
    }
   ],
   "source": [
    "tmp = [('a', 1), ('b', 2), ('1', 3), ('d', 4), ('2', 5)]\n",
    "sc.parallelize(tmp).sortBy(lambda x: x[0]).collect() #sortBy() needs key func as argument ,default ascending"
   ]
  },
  {
   "cell_type": "code",
   "execution_count": 39,
   "metadata": {},
   "outputs": [
    {
     "data": {
      "text/plain": [
       "[('a', 3),\n",
       " ('fleece', 7),\n",
       " ('had', 2),\n",
       " ('little', 4),\n",
       " ('lamb', 5),\n",
       " ('Mary', 1),\n",
       " ('whose', 6),\n",
       " ('was', 8),\n",
       " ('white', 9)]"
      ]
     },
     "execution_count": 39,
     "metadata": {},
     "output_type": "execute_result"
    }
   ],
   "source": [
    "tmp2 = [('Mary', 1), ('had', 2), ('a', 3), ('little', 4), ('lamb', 5)]\n",
    "tmp2.extend([('whose', 6), ('fleece', 7), ('was', 8), ('white', 9)])\n",
    "\n",
    "sc.parallelize(tmp2).sortByKey(True,1,lambda k: k[0].lower()).collect() # sc.parallelize(tmp2).sortByKey(True,1,keyfunc=lambda k: k.lower()).collect()"
   ]
  },
  {
   "cell_type": "code",
   "execution_count": 70,
   "metadata": {},
   "outputs": [
    {
     "name": "stdout",
     "output_type": "stream",
     "text": [
      "10\n"
     ]
    },
    {
     "data": {
      "text/plain": [
       "24"
      ]
     },
     "execution_count": 70,
     "metadata": {},
     "output_type": "execute_result"
    }
   ],
   "source": [
    "numbers = sc.parallelize([1, 2, 3, 4])\n",
    "sum1 = numbers.fold(0, (lambda x, y: x + y))#alt way fr addition of all elements #action\n",
    "print(sum1)\n",
    "mult1=numbers.fold(1, (lambda x, y: x * y))#way fr multiplication of all elements\n",
    "mult1"
   ]
  },
  {
   "cell_type": "code",
   "execution_count": 71,
   "metadata": {},
   "outputs": [
    {
     "data": {
      "text/plain": [
       "10"
      ]
     },
     "execution_count": 71,
     "metadata": {},
     "output_type": "execute_result"
    }
   ],
   "source": [
    "numbers = sc.parallelize([1, 2, 3, 4])\n",
    "sum1 = numbers.sum() #action (subtract() is a transformation)\n",
    "sum1"
   ]
  },
  {
   "cell_type": "code",
   "execution_count": 134,
   "metadata": {},
   "outputs": [
    {
     "data": {
      "text/plain": [
       "[('a', 1), ('b', 4), ('b', 5)]"
      ]
     },
     "execution_count": 134,
     "metadata": {},
     "output_type": "execute_result"
    }
   ],
   "source": [
    "x = sc.parallelize([(\"a\", 1), (\"b\", 4), (\"b\", 5), (\"a\", 3)])\n",
    "y = sc.parallelize([(\"a\", 3), (\"c\", None)])\n",
    "sorted(x.subtract(y).collect()) # subtract() is a transformation\n"
   ]
  },
  {
   "cell_type": "code",
   "execution_count": 72,
   "metadata": {},
   "outputs": [],
   "source": [
    "d1= [('k1', 1), ('k2', 2), ('k3', 5)]\n",
    "d2= [('k1', 3), ('k2',4), ('k4', 8)]\n",
    "rdd1 = sc.parallelize(d1)\n",
    "rdd2 = sc.parallelize(d2)"
   ]
  },
  {
   "cell_type": "code",
   "execution_count": 73,
   "metadata": {},
   "outputs": [
    {
     "data": {
      "text/plain": [
       "[('k1', 1), ('k2', 2), ('k3', 5), ('k1', 3), ('k2', 4), ('k4', 8)]"
      ]
     },
     "execution_count": 73,
     "metadata": {},
     "output_type": "execute_result"
    }
   ],
   "source": [
    "rdd3=rdd1.union(rdd2)\n",
    "rdd3.take(10)"
   ]
  },
  {
   "cell_type": "code",
   "execution_count": 74,
   "metadata": {},
   "outputs": [
    {
     "data": {
      "text/plain": [
       "[('k1', 4), ('k3', 5), ('k2', 6), ('k4', 8)]"
      ]
     },
     "execution_count": 74,
     "metadata": {},
     "output_type": "execute_result"
    }
   ],
   "source": [
    "rdd3.reduceByKey(lambda x,y: x+y).take(10)\n",
    "\n",
    "# reduce() is an action whereas reduceByKeyI) isa transformation"
   ]
  },
  {
   "cell_type": "code",
   "execution_count": 75,
   "metadata": {},
   "outputs": [
    {
     "data": {
      "text/plain": [
       "['crazy crazy fox jumped',\n",
       " 'crazy fox jumped',\n",
       " 'fox is fast',\n",
       " 'fox is smart',\n",
       " 'dog is smart']"
      ]
     },
     "execution_count": 75,
     "metadata": {},
     "output_type": "execute_result"
    }
   ],
   "source": [
    "lines = sc.textFile(\"file:///D:\\\\spark-2.3.2-bin-hadoop2.7\\\\mytest3.txt\")\n",
    "lines.take(10)"
   ]
  },
  {
   "cell_type": "code",
   "execution_count": 76,
   "metadata": {},
   "outputs": [
    {
     "data": {
      "text/plain": [
       "[['crazy', 'crazy', 'fox', 'jumped'],\n",
       " ['crazy', 'fox', 'jumped'],\n",
       " ['fox', 'is', 'fast'],\n",
       " ['fox', 'is', 'smart'],\n",
       " ['dog', 'is', 'smart']]"
      ]
     },
     "execution_count": 76,
     "metadata": {},
     "output_type": "execute_result"
    }
   ],
   "source": [
    "lines = sc.textFile(\"file:///D:\\\\spark-2.3.2-bin-hadoop2.7\\\\mytest3.txt\")\n",
    "\n",
    "r1 = lines.map(lambda s : s.split(\" \")).collect()\n",
    "r1"
   ]
  },
  {
   "cell_type": "code",
   "execution_count": 77,
   "metadata": {},
   "outputs": [
    {
     "data": {
      "text/plain": [
       "[(('crazy', 'crazy'), 1),\n",
       " (('crazy', 'fox'), 1),\n",
       " (('fox', 'jumped'), 1),\n",
       " (('crazy', 'fox'), 1),\n",
       " (('fox', 'jumped'), 1),\n",
       " (('fox', 'is'), 1),\n",
       " (('is', 'fast'), 1),\n",
       " (('fox', 'is'), 1),\n",
       " (('is', 'smart'), 1),\n",
       " (('dog', 'is'), 1),\n",
       " (('is', 'smart'), 1)]"
      ]
     },
     "execution_count": 77,
     "metadata": {},
     "output_type": "execute_result"
    }
   ],
   "source": [
    "x= lines.map(lambda s : s.split(\" \")).\\\n",
    "flatMap(lambda s: [((s[i],s[i+1]),1) for i in range(len(s)-1)])                                                                                             \n",
    "x.take(12)"
   ]
  },
  {
   "cell_type": "code",
   "execution_count": 78,
   "metadata": {},
   "outputs": [
    {
     "data": {
      "text/plain": [
       "[(('crazy', 'crazy'), 1),\n",
       " (('fox', 'jumped'), 2),\n",
       " (('is', 'smart'), 2),\n",
       " (('crazy', 'fox'), 2),\n",
       " (('fox', 'is'), 2),\n",
       " (('is', 'fast'), 1),\n",
       " (('dog', 'is'), 1)]"
      ]
     },
     "execution_count": 78,
     "metadata": {},
     "output_type": "execute_result"
    }
   ],
   "source": [
    "f=x.reduceByKey(lambda x,y:x+y) # counting number of pairs\n",
    "f.take(12)"
   ]
  },
  {
   "cell_type": "code",
   "execution_count": 79,
   "metadata": {},
   "outputs": [
    {
     "data": {
      "text/plain": [
       "7"
      ]
     },
     "execution_count": 79,
     "metadata": {},
     "output_type": "execute_result"
    }
   ],
   "source": [
    "f.count()"
   ]
  },
  {
   "cell_type": "code",
   "execution_count": 80,
   "metadata": {},
   "outputs": [
    {
     "data": {
      "text/plain": [
       "[('abc', 'de'), ('xyz', 'deeee'), ('abc', 'de'), ('xyz', 'bababa')]"
      ]
     },
     "execution_count": 80,
     "metadata": {},
     "output_type": "execute_result"
    }
   ],
   "source": [
    "data2 = [\"abc,de\", \"xyz,deeee,ze\", \"abc,de,ze,pe\", \"xyz,bababa\"]\n",
    "rdd4 = sc.parallelize(data2)\n",
    "rdd5 = rdd4.map(lambda x : (x.split(\",\")[0],x.split(\",\")[1])) \n",
    "# rdd5 = rdd4.map(lambda x : tuple(x.split(\",\")))\n",
    "rdd5.take(5)"
   ]
  },
  {
   "cell_type": "code",
   "execution_count": 81,
   "metadata": {},
   "outputs": [
    {
     "data": {
      "text/plain": [
       "[10, 9, 7]"
      ]
     },
     "execution_count": 81,
     "metadata": {},
     "output_type": "execute_result"
    }
   ],
   "source": [
    "nums = [10, 1, 2, 9, 3, 4, 5, 6, 7]\n",
    "sc.parallelize(nums).top(3) #top (in desc order) n elements  #action\n",
    "#sc.parallelize(nums).sortBy(lambda x:-x).take(3)# sc.parallelize(nums).sortBy(lambda x:x,False).take(3)\n",
    "#sc.parallelize(nums).takeOrdered(3, lambda x: -x) #sc.parallelize(nums).takeOrdered(3, key=lambda x: -x)"
   ]
  },
  {
   "cell_type": "code",
   "execution_count": 82,
   "metadata": {},
   "outputs": [
    {
     "data": {
      "text/plain": [
       "[1, 2, 3]"
      ]
     },
     "execution_count": 82,
     "metadata": {},
     "output_type": "execute_result"
    }
   ],
   "source": [
    "nums = [10, 1, 2, 9, 3, 4, 5, 6, 7]\n",
    "sc.parallelize(nums).takeOrdered(3) #ascending by default .Can also specify function as second argument  #action\n",
    "#sc.parallelize(nums).sortBy(lambda x:x).take(3)\n"
   ]
  },
  {
   "cell_type": "code",
   "execution_count": 83,
   "metadata": {},
   "outputs": [
    {
     "data": {
      "text/plain": [
       "[(1, 'z2'), (2, 'z3'), (3, 'z5')]"
      ]
     },
     "execution_count": 83,
     "metadata": {},
     "output_type": "execute_result"
    }
   ],
   "source": [
    "kv = [(10,\"z1\"), (1,\"z2\"), (2,\"z3\"), (9,\"z4\"), (3,\"z5\"), (4,\"z6\"), (5,\"z7\"), (6,\"z8\"), (7,\"z9\")]\n",
    "sc.parallelize(kv).takeOrdered(3) # order (default ascending) on basis of key"
   ]
  },
  {
   "cell_type": "code",
   "execution_count": 84,
   "metadata": {},
   "outputs": [
    {
     "data": {
      "text/plain": [
       "[(10, 'z1'), (9, 'z4'), (7, 'z9')]"
      ]
     },
     "execution_count": 84,
     "metadata": {},
     "output_type": "execute_result"
    }
   ],
   "source": [
    "sc.parallelize(kv).takeOrdered(3, lambda x:-x[0])"
   ]
  },
  {
   "cell_type": "code",
   "execution_count": 85,
   "metadata": {},
   "outputs": [
    {
     "data": {
      "text/plain": [
       "[(10, 'z1'), (9, 'z4'), (7, 'z9')]"
      ]
     },
     "execution_count": 85,
     "metadata": {},
     "output_type": "execute_result"
    }
   ],
   "source": [
    "sc.parallelize(kv).top(3) #top (in desc order by key) n elements"
   ]
  },
  {
   "cell_type": "code",
   "execution_count": 86,
   "metadata": {},
   "outputs": [],
   "source": [
    "input = [(\"k1\", 1), (\"k1\", 2), (\"k1\", 3), (\"k1\", 4), (\"k1\", 5), \n",
    "             (\"k2\", 6), (\"k2\", 7), (\"k2\", 8), \n",
    "             (\"k3\", 10), (\"k3\", 12)]\n",
    "rdd_c=sc.parallelize(input)"
   ]
  },
  {
   "cell_type": "code",
   "execution_count": 87,
   "metadata": {},
   "outputs": [
    {
     "data": {
      "text/plain": [
       "[('k1', (15, 5)), ('k2', (21, 3)), ('k3', (22, 2))]"
      ]
     },
     "execution_count": 87,
     "metadata": {},
     "output_type": "execute_result"
    }
   ],
   "source": [
    "rddc=rdd_c.combineByKey((lambda v:(v,1)),(lambda x,v1:(x[0]+v1,x[1]+1)),(lambda x,y:(x[0]+y[0],x[1]+y[1]))) # gives tuple of key and tuple of reduced ouput,no. key instances\n",
    "rddc.take(10)"
   ]
  },
  {
   "cell_type": "code",
   "execution_count": 88,
   "metadata": {},
   "outputs": [
    {
     "data": {
      "text/plain": [
       "[('k1', 3.0), ('k2', 7.0), ('k3', 11.0)]"
      ]
     },
     "execution_count": 88,
     "metadata": {},
     "output_type": "execute_result"
    }
   ],
   "source": [
    "rddc.mapValues(lambda v : v[0]/float(v[1])).take(10)  #action"
   ]
  },
  {
   "cell_type": "markdown",
   "metadata": {},
   "source": [
    "Standard deviation using combinebykey():"
   ]
  },
  {
   "cell_type": "code",
   "execution_count": 89,
   "metadata": {},
   "outputs": [
    {
     "data": {
      "text/plain": [
       "[('A', (15.0, 101.0, 3)), ('B', (30.0, 500.0, 2)), ('Z', (28.0, 242.0, 4))]"
      ]
     },
     "execution_count": 89,
     "metadata": {},
     "output_type": "execute_result"
    }
   ],
   "source": [
    "data=[ ('A', 2.0),  ('A', 4.0),  ('A', 9.0),  ('B', 10.0),  ('B', 20.0),  ('Z', 3.0), ('Z', 5.0),  ('Z', 8.0),  ('Z', 12.0)]\n",
    "rdd = sc.parallelize( data )\n",
    "\n",
    "sumCount = rdd.combineByKey(lambda value: (value, value*value, 1),lambda x, value: (x[0] + value, x[1] + value*value, x[2] + 1),lambda x, y: (x[0] + y[0], x[1] + y[1], x[2] + y[2]))\n",
    "\n",
    "sumCount.take(10)\n",
    "\n"
   ]
  },
  {
   "cell_type": "code",
   "execution_count": 90,
   "metadata": {},
   "outputs": [
    {
     "data": {
      "text/plain": [
       "[('A', (5.0, 2.943920288775949)),\n",
       " ('B', (15.0, 5.0)),\n",
       " ('Z', (7.0, 3.391164991562634))]"
      ]
     },
     "execution_count": 90,
     "metadata": {},
     "output_type": "execute_result"
    }
   ],
   "source": [
    "import math\n",
    "def stdDev( sumX, sumSquared, n ):\n",
    "                mean = sumX / n\n",
    "                stdDeviation = math.sqrt ((sumSquared - n*mean*mean) /n)\n",
    "                return (mean, stdDeviation)\n",
    "\n",
    "\n",
    "meanAndStdDev = sumCount.mapValues(lambda x : stdDev(x[0], x[1], x[2]))\n",
    "meanAndStdDev.take(10)\n"
   ]
  },
  {
   "cell_type": "code",
   "execution_count": 91,
   "metadata": {},
   "outputs": [],
   "source": [
    "def f(iterator):\n",
    "    for x in iterator:\n",
    "        print(x)\n",
    "sc.parallelize([1, 2, 3, 4, 5]).foreachPartition(f)  #action\n"
   ]
  },
  {
   "cell_type": "code",
   "execution_count": 92,
   "metadata": {},
   "outputs": [],
   "source": [
    "def f(x):\n",
    "    print(x)\n",
    "sc.parallelize([1, 2, 3, 4, 5]).foreach(f)  #action"
   ]
  },
  {
   "cell_type": "code",
   "execution_count": 3,
   "metadata": {},
   "outputs": [],
   "source": [
    "data = [10, 20, 3, 4, 5, 2, 2, 20, 20, 10]\n",
    "rdd = sc.parallelize(data, 3)"
   ]
  },
  {
   "cell_type": "code",
   "execution_count": 94,
   "metadata": {},
   "outputs": [
    {
     "data": {
      "text/plain": [
       "3"
      ]
     },
     "execution_count": 94,
     "metadata": {},
     "output_type": "execute_result"
    }
   ],
   "source": [
    "rdd.getNumPartitions() # get number of partitions"
   ]
  },
  {
   "cell_type": "code",
   "execution_count": 95,
   "metadata": {},
   "outputs": [
    {
     "data": {
      "text/plain": [
       "[10, 20, 3, 4, 5, 2, 2, 20, 20, 10]"
      ]
     },
     "execution_count": 95,
     "metadata": {},
     "output_type": "execute_result"
    }
   ],
   "source": [
    "rdd.collect()"
   ]
  },
  {
   "cell_type": "code",
   "execution_count": 115,
   "metadata": {},
   "outputs": [
    {
     "data": {
      "text/plain": [
       "2"
      ]
     },
     "execution_count": 115,
     "metadata": {},
     "output_type": "execute_result"
    }
   ],
   "source": [
    "rdd.min()  #action"
   ]
  },
  {
   "cell_type": "code",
   "execution_count": 116,
   "metadata": {},
   "outputs": [
    {
     "data": {
      "text/plain": [
       "20"
      ]
     },
     "execution_count": 116,
     "metadata": {},
     "output_type": "execute_result"
    }
   ],
   "source": [
    "rdd.max()  #action"
   ]
  },
  {
   "cell_type": "code",
   "execution_count": 117,
   "metadata": {},
   "outputs": [
    {
     "data": {
      "text/plain": [
       "9.6"
      ]
     },
     "execution_count": 117,
     "metadata": {},
     "output_type": "execute_result"
    }
   ],
   "source": [
    "rdd.mean()  # no avg() #action "
   ]
  },
  {
   "cell_type": "code",
   "execution_count": 119,
   "metadata": {},
   "outputs": [
    {
     "data": {
      "text/plain": [
       "7.323933369440223"
      ]
     },
     "execution_count": 119,
     "metadata": {},
     "output_type": "execute_result"
    }
   ],
   "source": [
    "rdd.stdev()"
   ]
  },
  {
   "cell_type": "code",
   "execution_count": 120,
   "metadata": {},
   "outputs": [
    {
     "data": {
      "text/plain": [
       "ParallelCollectionRDD[224] at parallelize at PythonRDD.scala:194"
      ]
     },
     "execution_count": 120,
     "metadata": {},
     "output_type": "execute_result"
    }
   ],
   "source": [
    "rdd.cache()  #action"
   ]
  },
  {
   "cell_type": "code",
   "execution_count": 96,
   "metadata": {},
   "outputs": [
    {
     "name": "stdout",
     "output_type": "stream",
     "text": [
      "Serialized 1x Replicated\n"
     ]
    }
   ],
   "source": [
    "print(rdd.getStorageLevel()) # get storage level  #action\n"
   ]
  },
  {
   "cell_type": "code",
   "execution_count": 97,
   "metadata": {},
   "outputs": [
    {
     "data": {
      "text/plain": [
       "[[10, 20, 3], [4, 5, 2], [2, 20, 20, 10]]"
      ]
     },
     "execution_count": 97,
     "metadata": {},
     "output_type": "execute_result"
    }
   ],
   "source": [
    "rdd.glom().collect() # glom() to combine elements in different partitions"
   ]
  },
  {
   "cell_type": "markdown",
   "metadata": {},
   "source": [
    "Min and max of elements using mapPartitions():"
   ]
  },
  {
   "cell_type": "code",
   "execution_count": 4,
   "metadata": {},
   "outputs": [],
   "source": [
    "def minmax(iterator):\n",
    "    i = 0\n",
    "    for x in iterator:\n",
    "        if i == 0:\n",
    "            min1 = x\n",
    "            max1 = x\n",
    "            i = 1\n",
    "        else:\n",
    "            if x > max1:\n",
    "                max1 = x\n",
    "            if x < min1:\n",
    "                min1 = x\n",
    "    return (min1, max1)"
   ]
  },
  {
   "cell_type": "code",
   "execution_count": 8,
   "metadata": {},
   "outputs": [
    {
     "data": {
      "text/plain": [
       "[3, 20, 2, 5, 2, 20]"
      ]
     },
     "execution_count": 8,
     "metadata": {},
     "output_type": "execute_result"
    }
   ],
   "source": [
    "minmax = rdd.mapPartitions(minmax)#get min and max of each partition\n",
    "minmax.take(10)"
   ]
  },
  {
   "cell_type": "code",
   "execution_count": 9,
   "metadata": {},
   "outputs": [
    {
     "data": {
      "text/plain": [
       "2"
      ]
     },
     "execution_count": 9,
     "metadata": {},
     "output_type": "execute_result"
    }
   ],
   "source": [
    "minmax.min() # Min of list of elements #action"
   ]
  },
  {
   "cell_type": "code",
   "execution_count": 10,
   "metadata": {},
   "outputs": [
    {
     "data": {
      "text/plain": [
       "20"
      ]
     },
     "execution_count": 10,
     "metadata": {},
     "output_type": "execute_result"
    }
   ],
   "source": [
    "minmax.max()  # Max of list of elements #action"
   ]
  },
  {
   "cell_type": "markdown",
   "metadata": {},
   "source": [
    "DNA base count (counting letters in a text file):"
   ]
  },
  {
   "cell_type": "code",
   "execution_count": 106,
   "metadata": {},
   "outputs": [],
   "source": [
    "def letcount(it):\n",
    "    newdict={}\n",
    "    for i in list(it):\n",
    "        if i in newdict:\n",
    "            newdict[i]+=1\n",
    "        else:\n",
    "            newdict[i]=1\n",
    "        \n",
    "    kv=[(x,newdict[x]) for x in newdict]\n",
    "    return kv\n",
    "                   \n",
    "        "
   ]
  },
  {
   "cell_type": "code",
   "execution_count": 107,
   "metadata": {},
   "outputs": [
    {
     "data": {
      "text/plain": [
       "[('C', 6), ('A', 7), ('T', 7), ('G', 5)]"
      ]
     },
     "execution_count": 107,
     "metadata": {},
     "output_type": "execute_result"
    }
   ],
   "source": [
    "recs=sc.textFile('file:///D:\\\\spark-2.3.2-bin-hadoop2.7\\\\dna.txt')\n",
    "lc=recs.flatMap(letcount) \n",
    "#lc=recs.flatMap(lambda c: [(i,1) for i in list(c)])\n",
    "letcount=lc.reduceByKey(lambda x,y:x+y)\n",
    "letcount.collect()"
   ]
  },
  {
   "cell_type": "code",
   "execution_count": 112,
   "metadata": {},
   "outputs": [
    {
     "data": {
      "text/plain": [
       "['ATATCCCCGGGAT', 'ATCGATCGATAT']"
      ]
     },
     "execution_count": 112,
     "metadata": {},
     "output_type": "execute_result"
    }
   ],
   "source": [
    "recs.take(5)"
   ]
  },
  {
   "cell_type": "code",
   "execution_count": 108,
   "metadata": {},
   "outputs": [
    {
     "data": {
      "text/plain": [
       "defaultdict(int, {'pandas': 1, 'i like pandas': 1})"
      ]
     },
     "execution_count": 108,
     "metadata": {},
     "output_type": "execute_result"
    }
   ],
   "source": [
    "lines = sc.parallelize([\"pandas\", \"i like pandas\"])\n",
    "lines.countByValue()"
   ]
  },
  {
   "cell_type": "code",
   "execution_count": 109,
   "metadata": {},
   "outputs": [
    {
     "name": "stdout",
     "output_type": "stream",
     "text": [
      "[{'pandas': 2}, {'i': 1}, {'like': 1}]\n"
     ]
    }
   ],
   "source": [
    "lines = sc.parallelize([\"pandas\", \"i like pandas\"])\n",
    "result = lines.flatMap(lambda x: x.split()).countByValue() #action (countByKey() is also #action)\n",
    "\n",
    "# count based on value(k-v pair or simple element) and return dictionary of element and count\n",
    "x1=[]\n",
    "for k,v in result.items():\n",
    "    x={k:v}\n",
    "    x1.append(x)\n",
    "\n",
    "print(x1)"
   ]
  },
  {
   "cell_type": "code",
   "execution_count": 111,
   "metadata": {},
   "outputs": [
    {
     "data": {
      "text/plain": [
       "[('coffee', (4, 2)), ('pandas', (2, 1)), ('very', (4, 1))]"
      ]
     },
     "execution_count": 111,
     "metadata": {},
     "output_type": "execute_result"
    }
   ],
   "source": [
    "def perKeyAvg(nums):\n",
    "    \"\"\"Compute the avg\"\"\"\n",
    "    sumCount = nums.combineByKey((lambda x: (x, 1)),\n",
    "                                 (lambda x, y: (x[0] + y, x[1] + 1)),\n",
    "                                 (lambda x, y: (x[0] + y[0], x[1] + y[1])))\n",
    "    return sumCount.collect()\n",
    "\n",
    "nums = sc.parallelize([(\"coffee\", 1), (\"pandas\", 2), (\"coffee\", 3), (\"very\", 4)])\n",
    "avg = perKeyAvg(nums)  # example of combinebykey()\n",
    "avg"
   ]
  },
  {
   "cell_type": "code",
   "execution_count": 114,
   "metadata": {},
   "outputs": [
    {
     "data": {
      "text/plain": [
       "{1: 2, 3: 4}"
      ]
     },
     "execution_count": 114,
     "metadata": {},
     "output_type": "execute_result"
    }
   ],
   "source": [
    "m = sc.parallelize([(1, 2), (3, 4)]).collectAsMap() # returns (k,v) pair as dictionary\n",
    "m"
   ]
  },
  {
   "cell_type": "code",
   "execution_count": 128,
   "metadata": {},
   "outputs": [
    {
     "data": {
      "text/plain": [
       "[('a', 2), ('b', 1)]"
      ]
     },
     "execution_count": 128,
     "metadata": {},
     "output_type": "execute_result"
    }
   ],
   "source": [
    "rdd = sc.parallelize([(\"a\", 1), (\"b\", 1), (\"a\", 1)])\n",
    "#rdd.countByKey() # return sictionary keys and their count  #action\n",
    "sorted(rdd.countByKey().items()) # itms() returns dictionary in list form containing tuples of key and count\n"
   ]
  },
  {
   "cell_type": "code",
   "execution_count": 129,
   "metadata": {},
   "outputs": [
    {
     "data": {
      "text/plain": [
       "[4, 1]"
      ]
     },
     "execution_count": 129,
     "metadata": {},
     "output_type": "execute_result"
    }
   ],
   "source": [
    "rdd1=sc.parallelize([1,2,3,4,2,3])\n",
    "rdd1.distinct().take(2) # distinct drop duplicates in rdd"
   ]
  },
  {
   "cell_type": "code",
   "execution_count": 131,
   "metadata": {},
   "outputs": [
    {
     "data": {
      "text/plain": [
       "[1, 2, 3, 4, 5]"
      ]
     },
     "execution_count": 131,
     "metadata": {},
     "output_type": "execute_result"
    }
   ],
   "source": [
    "b = sc.broadcast([1, 2, 3, 4, 5]) # broadcast()\n",
    "b.value\n",
    "\n"
   ]
  },
  {
   "cell_type": "code",
   "execution_count": 132,
   "metadata": {},
   "outputs": [],
   "source": [
    "b.destroy()"
   ]
  },
  {
   "cell_type": "code",
   "execution_count": 133,
   "metadata": {},
   "outputs": [
    {
     "data": {
      "text/plain": [
       "[('b', 4), ('b', 5)]"
      ]
     },
     "execution_count": 133,
     "metadata": {},
     "output_type": "execute_result"
    }
   ],
   "source": [
    "x = sc.parallelize([(\"a\", 1), (\"b\", 4), (\"b\", 5), (\"a\", 2)])\n",
    "y = sc.parallelize([(\"a\", 3), (\"c\", None)])\n",
    "sorted(x.subtractByKey(y).collect()) # subtractByKey is a transformation"
   ]
  },
  {
   "cell_type": "code",
   "execution_count": 135,
   "metadata": {},
   "outputs": [
    {
     "data": {
      "text/plain": [
       "[('a', (2, 1)), ('b', (None, 4))]"
      ]
     },
     "execution_count": 135,
     "metadata": {},
     "output_type": "execute_result"
    }
   ],
   "source": [
    "x = sc.parallelize([(\"a\", 1), (\"b\", 4)])\n",
    "y = sc.parallelize([(\"a\", 2)])\n",
    "sorted(y.rightOuterJoin(x).collect()) # all rows from x # return tupe of key and tuple of values\n"
   ]
  },
  {
   "cell_type": "code",
   "execution_count": 138,
   "metadata": {},
   "outputs": [
    {
     "data": {
      "text/plain": [
       "[('a', (1, 2)), ('b', (4, None))]"
      ]
     },
     "execution_count": 138,
     "metadata": {},
     "output_type": "execute_result"
    }
   ],
   "source": [
    "x = sc.parallelize([(\"a\", 1), (\"b\", 4)])\n",
    "y = sc.parallelize([(\"a\", 2)])\n",
    "sorted(x.leftOuterJoin(y).collect())\n"
   ]
  },
  {
   "cell_type": "code",
   "execution_count": 137,
   "metadata": {},
   "outputs": [
    {
     "data": {
      "text/plain": [
       "[('a', (2, 1)), ('b', (None, 4))]"
      ]
     },
     "execution_count": 137,
     "metadata": {},
     "output_type": "execute_result"
    }
   ],
   "source": [
    "x = sc.parallelize([(\"a\", 1), (\"b\", 4)])\n",
    "y = sc.parallelize([(\"a\", 2)])\n",
    "sorted(y.fullOuterJoin(x).collect())"
   ]
  },
  {
   "cell_type": "code",
   "execution_count": 139,
   "metadata": {},
   "outputs": [
    {
     "data": {
      "text/plain": [
       "[[(0, 5), (0, 8), (2, 6)], [(1, 3), (3, 8), (3, 8)]]"
      ]
     },
     "execution_count": 139,
     "metadata": {},
     "output_type": "execute_result"
    }
   ],
   "source": [
    "rdd = sc.parallelize([(0, 5), (3, 8), (2, 6), (0, 8), (3, 8), (1, 3)])\n",
    "rdd2 = rdd.repartitionAndSortWithinPartitions(2) # repartiotion and ort with in partitions  take num of partitions,partition func if reqd,sort order (asc by default) and key func for sorting if reqd\n",
    "rdd2.glom().collect()  # glom() to collect as list value of partitions"
   ]
  },
  {
   "cell_type": "code",
   "execution_count": 140,
   "metadata": {},
   "outputs": [
    {
     "data": {
      "text/plain": [
       "True"
      ]
     },
     "execution_count": 140,
     "metadata": {},
     "output_type": "execute_result"
    }
   ],
   "source": [
    "sc.parallelize([]).isEmpty() # to check if rdd is empty or not"
   ]
  },
  {
   "cell_type": "code",
   "execution_count": 146,
   "metadata": {},
   "outputs": [
    {
     "data": {
      "text/plain": [
       "[('a', (1, 2)), ('a', (1, 3))]"
      ]
     },
     "execution_count": 146,
     "metadata": {},
     "output_type": "execute_result"
    }
   ],
   "source": [
    "x = sc.parallelize([(\"a\", 1), (\"b\", 4)])\n",
    "y = sc.parallelize([(\"a\", 2), (\"a\", 3)])\n",
    "sorted(x.join(y).collect()) # for inner join on rdd's"
   ]
  },
  {
   "cell_type": "code",
   "execution_count": 14,
   "metadata": {},
   "outputs": [
    {
     "name": "stdout",
     "output_type": "stream",
     "text": [
      "('J', ['Joseph', 'Jimmy', 'James', 'Jackeline', 'Juan'])\n",
      "('T', ['Tina', 'Thomas'])\n",
      "('C', ['Cory', 'Christine'])\n"
     ]
    }
   ],
   "source": [
    "x = sc.parallelize([\"Joseph\", \"Jimmy\", \"Tina\", \n",
    "                    \"Thomas\", \"James\", \"Cory\",\n",
    "                    \"Christine\", \"Jackeline\", \"Juan\"], 3) #3 is number of partitions\n",
    "\n",
    "y = x.groupBy(lambda word: word[0]) #groupBy function\n",
    "\n",
    "for t in y.collect():\n",
    "    print((t[0],[i for i in t[1]]))"
   ]
  },
  {
   "cell_type": "code",
   "execution_count": 19,
   "metadata": {},
   "outputs": [
    {
     "name": "stdout",
     "output_type": "stream",
     "text": [
      "Output:  2\n",
      "USA [1, 2, 8, 3]\n",
      "India [1, 4, 9, 4]\n",
      "UK [1, 6, 9, 5]\n"
     ]
    }
   ],
   "source": [
    "x = sc.parallelize([\n",
    "    (\"USA\", 1), (\"USA\", 2), (\"India\", 1),\n",
    "    (\"UK\", 1), (\"India\", 4), (\"India\", 9),\n",
    "    (\"USA\", 8), (\"USA\", 3), (\"India\", 4),\n",
    "    (\"UK\", 6), (\"UK\", 9), (\"UK\", 5)], 3)\n",
    "\n",
    "y = x.groupByKey() #groupByKey function\n",
    "\n",
    " \n",
    "## With predefined Partitions\n",
    "#y = x.groupByKey(2)\n",
    "#print('Output: ',y.getNumPartitions())\n",
    "## Output: 2\n",
    "\n",
    "for i in y.collect():\n",
    "    print(i[0],[x for x in i[1]])"
   ]
  },
  {
   "cell_type": "code",
   "execution_count": 21,
   "metadata": {},
   "outputs": [
    {
     "data": {
      "text/plain": [
       "[('USA', 1), ('India', 1), ('UK', 1)]"
      ]
     },
     "execution_count": 21,
     "metadata": {},
     "output_type": "execute_result"
    }
   ],
   "source": [
    "y.mapValues(lambda s: min(s)).collect() # to get minimum value for each group produced by groupByKey.Use MapValues()"
   ]
  },
  {
   "cell_type": "code",
   "execution_count": 22,
   "metadata": {},
   "outputs": [
    {
     "data": {
      "text/plain": [
       "[('USA', 1), ('UK', 1), ('India', 1)]"
      ]
     },
     "execution_count": 22,
     "metadata": {},
     "output_type": "execute_result"
    }
   ],
   "source": [
    "#finding min of group using reduceByKey() (efficient)\n",
    "\n",
    "y = x.reduceByKey(lambda a,b: a if a<b else b) #reduceByKey function\n",
    "\n",
    "y.collect()\n",
    "\n"
   ]
  },
  {
   "cell_type": "code",
   "execution_count": 4,
   "metadata": {},
   "outputs": [
    {
     "data": {
      "text/plain": [
       "['\"date\",\"time\",\"size\",\"r_version\",\"r_arch\",\"r_os\",\"package\",\"version\",\"country\",\"ip_id\"',\n",
       " '\"2015-12-12\",\"13:42:10\",257886,\"3.2.2\",\"i386\",\"mingw32\",\"HistData\",\"0.7-6\",\"CZ\",1',\n",
       " '\"2015-12-12\",\"13:24:37\",1236751,\"3.2.2\",\"x86_64\",\"mingw32\",\"RJSONIO\",\"1.3-0\",\"DE\",2',\n",
       " '\"2015-12-12\",\"13:42:35\",2077876,\"3.2.2\",\"i386\",\"mingw32\",\"UsingR\",\"2.0-5\",\"CZ\",1',\n",
       " '\"2015-12-12\",\"13:42:01\",266724,\"3.2.2\",\"i386\",\"mingw32\",\"gridExtra\",\"2.0.0\",\"CZ\",1']"
      ]
     },
     "execution_count": 4,
     "metadata": {},
     "output_type": "execute_result"
    }
   ],
   "source": [
    "raw_content = sc.textFile(\"file:///D:\\\\data\\\\2015-12-12.csv\")\n",
    "raw_content.take(5)"
   ]
  },
  {
   "cell_type": "code",
   "execution_count": 13,
   "metadata": {},
   "outputs": [
    {
     "data": {
      "text/plain": [
       "[['date',\n",
       "  'time',\n",
       "  'size',\n",
       "  'r_version',\n",
       "  'r_arch',\n",
       "  'r_os',\n",
       "  'package',\n",
       "  'version',\n",
       "  'country',\n",
       "  'ip_id'],\n",
       " ['2015-12-12',\n",
       "  '13:42:10',\n",
       "  '257886',\n",
       "  '3.2.2',\n",
       "  'i386',\n",
       "  'mingw32',\n",
       "  'HistData',\n",
       "  '0.7-6',\n",
       "  'CZ',\n",
       "  '1'],\n",
       " ['2015-12-12',\n",
       "  '13:24:37',\n",
       "  '1236751',\n",
       "  '3.2.2',\n",
       "  'x86_64',\n",
       "  'mingw32',\n",
       "  'RJSONIO',\n",
       "  '1.3-0',\n",
       "  'DE',\n",
       "  '2'],\n",
       " ['2015-12-12',\n",
       "  '13:42:35',\n",
       "  '2077876',\n",
       "  '3.2.2',\n",
       "  'i386',\n",
       "  'mingw32',\n",
       "  'UsingR',\n",
       "  '2.0-5',\n",
       "  'CZ',\n",
       "  '1'],\n",
       " ['2015-12-12',\n",
       "  '13:42:01',\n",
       "  '266724',\n",
       "  '3.2.2',\n",
       "  'i386',\n",
       "  'mingw32',\n",
       "  'gridExtra',\n",
       "  '2.0.0',\n",
       "  'CZ',\n",
       "  '1']]"
      ]
     },
     "execution_count": 13,
     "metadata": {},
     "output_type": "execute_result"
    }
   ],
   "source": [
    "# remove the double quotation marks in the imported data\n",
    "def clean(x):\n",
    "    return [xx.replace('\"','') for xx in x]\n",
    "\n",
    "content_sp=raw_content.map(lambda x:x.split(','))\n",
    "\n",
    "content = content_sp.map(clean)\n",
    "\n",
    "content.take(5)\n"
   ]
  },
  {
   "cell_type": "code",
   "execution_count": 15,
   "metadata": {},
   "outputs": [
    {
     "data": {
      "text/plain": [
       "[('HistData', 159),\n",
       " ('UsingR', 151),\n",
       " ('lme4', 1560),\n",
       " ('testthat', 1178),\n",
       " ('maps', 1586)]"
      ]
     },
     "execution_count": 15,
     "metadata": {},
     "output_type": "execute_result"
    }
   ],
   "source": [
    "package_count = content.map(lambda x: (x[6], 1)).reduceByKey(lambda a,b: a+b) # count of 7th element of each element of rdd value\n",
    "package_count.take(5)"
   ]
  },
  {
   "cell_type": "code",
   "execution_count": 18,
   "metadata": {},
   "outputs": [
    {
     "data": {
      "text/plain": [
       "dict_items([('package', 1), ('HistData', 159), ('RJSONIO', 1358), ('UsingR', 151), ('gridExtra', 1758), ('lme4', 1560), ('testthat', 1178), ('mvtnorm', 999), ('maps', 1586), ('sp', 1020), ('geosphere', 284), ('ryouready', 57), ('mgcv', 1402), ('gtools', 1544), ('matrixcalc', 204), ('lubridate', 626), ('XML', 1916), ('doParallel', 1328), ('abind', 538), ('h2o', 136), ('xtable', 2163), ('DiagrammeR', 243), ('yaml', 2077), ('htmltools', 1350), ('caTools', 1944), ('TH.data', 532), ('mime', 2498), ('evaluate', 2094), ('formatR', 1162), ('highr', 1155), ('XLConnect', 434), ('sem', 228), ('rmarkdown', 997), ('rgl', 1084), ('relimp', 185), ('multcomp', 614), ('markdown', 1101), ('lmtest', 854), ('leaps', 446), ('knitr', 1483), ('effects', 323), ('pwr', 140), ('goftest', 61), ('memoise', 1640), ('xlsxjars', 1292), ('xlsx', 1475), ('elasticnet', 57), ('polyclip', 82), ('base64enc', 758), ('extrafontdb', 48), ('plyr', 3436), ('survival', 476), ('KMsurv', 54), ('gdata', 1429), ('randomSurvivalForest', 11), ('random', 33), ('randtoolbox', 52), ('rangeMapper', 23), ('rankhazard', 25), ('rasclass', 19), ('rasterVis', 55), ('raster', 587), ('rateratio.test', 27), ('rbenchmark', 62), ('rbounds', 27), ('rbugs', 35), ('rcdd', 32), ('rcdk', 30), ('rcdklibs', 26), ('rconifers', 8), ('rda', 42), ('rdatamarket', 23), ('rdetools', 26), ('readBrukerFlexData', 21), ('readMzXmlData', 22), ('realized', 9), ('rebmix', 19), ('recommenderlab', 27), ('ref', 35), ('refund', 20), ('registry', 1144), ('reglogit', 22), ('regress', 39), ('regsubseq', 26), ('regtest', 25), ('rela', 25), ('relaimpo', 43), ('relations', 40), ('relax', 35), ('relaxo', 35), ('reldist', 44), ('relevent', 23), ('reliaR', 25), ('relsurv', 32), ('remMap', 22), ('remix', 20), ('repolr', 49), ('reportr', 28), ('reporttools', 28), ('reshape2', 3205), ('reshapeGUI', 23), ('reshape', 556), ('review', 5), ('revoIPC', 2), ('reweight', 27), ('pglm', 24), ('pgs', 21), ('phangorn', 131), ('pheatmap', 187), ('pheno', 28), ('phitest', 4), ('phmm', 22), ('phpSerialize', 14), ('phull', 5), ('phybase', 5), ('phyclust', 31), ('phyext', 4), ('phylobase', 76), ('phyloclim', 21), ('phylosim', 7), ('phylotools', 20), ('phytools', 83), ('pi0', 20), ('picante', 34), ('pixmap', 74), ('pkDACLASS', 3), ('plRasch', 26), ('plan', 23), ('planar', 19), ('playitbyr', 4), ('playwith', 44), ('plgp', 22), ('plink', 11), ('plm', 207), ('plotGoogleMaps', 26), ('plotSEMM', 25), ('plotmo', 93), ('plotpc', 25), ('plotrix', 1066), ('plsRcox', 19), ('plsRglm', 24), ('pls', 216), ('plsdof', 21), ('plsgenomics', 33), ('plspm', 32), ('plugdensity', 31), ('plumbr', 18), ('plus', 22), ('pmg', 29), ('pmlr', 20), ('pmml', 47), ('pmr', 21), ('png', 442), ('poLCA', 58), ('poibin', 28), ('poilog', 26), ('poistweedie', 24), ('spatstat', 110), ('rgam', 21), ('rgcvpack', 25), ('rgdal', 440), ('rgenoud', 53), ('rgeos', 244), ('rggobi', 67), ('rgp', 25), ('rgr', 25), ('rgrs', 8), ('rhosp', 27), ('rich', 19), ('richards', 8), ('rimage', 13), ('rindex', 24), ('ringscale', 9), ('rioja', 22), ('risksetROC', 25), ('rjags', 234), ('rje', 20), ('rjson', 716), ('rlecuyer', 72), ('rmac', 5), ('rmeta', 65), ('rmetasim', 30), ('rminer', 26), ('rms', 171), ('rngWELL', 46), ('rngwell19937', 25), ('robCompositions', 53), ('robeth', 19), ('robfilter', 30), ('robustX', 23), ('robust', 70), ('robustbase', 344), ('robustreg', 22), ('rocc', 26), ('rococo', 20), ('rocplus', 5), ('rootSolve', 71), ('roxygen', 9), ('rpanel', 53), ('rpart.plot', 217), ('rpart', 497), ('rphast', 21), ('rpsychi', 23), ('rpubchem', 28), ('rqmcmb2', 17), ('chron', 1670), ('data.table', 1692), ('gplots', 582), ('httpuv', 721), ('polspline', 131), ('polySegratioMM', 21), ('polySegratio', 21), ('polyapost', 28), ('polycor', 118), ('polydect', 7), ('polynom', 95), ('polysat', 22), ('polytomous', 6), ('pomp', 29), ('pooh', 21), ('popPK', 6), ('popbio', 39), ('popgen', 29), ('portes', 28), ('portfolioSim', 28), ('portfolio', 35), ('potts', 21), ('powell', 27), ('powerGWASinteraction', 23), ('powerMediation', 20), ('powerSurvEpi', 24), ('funFEM', 15), ('Rttf2pt1', 48), ('extrafont', 53), ('crayon', 859), ('praise', 883), ('DBI', 2115), ('deldir', 215), ('bitops', 2357), ('R.utils', 519), ('RUnit', 210), ('spatial', 663), ('magrittr', 3265), ('RSQLite', 477), ('stringr', 3449), ('R.methodsS3', 249), ('aplpack', 175), ('Rcpp', 4783), ('R.oo', 245), ('jsonlite', 2799), ('quantmod', 395), ('SparseM', 1438), ('manipulate', 468), ('doSNOW', 867), ('randomForest', 578), ('zoo', 1722), ('curl', 2344), ('BH', 2061), ('readr', 303), ('GMD', 35), ('tidyr', 1042), ('RCurl', 2369), ('stringi', 3748), ('foreach', 2494), ('rrBLUP', 27), ('rrcovNA', 22), ('rrcov', 125), ('rrdf', 5), ('rrdflibs', 5), ('rredis', 26), ('rrlda', 24), ('rrp', 12), ('rrules', 8), ('rrv', 5), ('rsae', 18), ('rscproxy', 35), ('rsdepth', 16), ('rseedcalc', 20), ('rsem', 20), ('rsm', 45), ('rsprng', 7), ('rstream', 39), ('rtape', 18), ('rtf', 27), ('rtfbs', 18), ('rtiff', 32), ('rtv', 6), ('rugarch', 76), ('runjags', 59), ('rv', 28), ('rvgtest', 21), ('rvmbinary', 3), ('rwm', 9), ('rworldmap', 68), ('rwt', 32), ('rysgran', 19), ('s3x', 2), ('s4vd', 24), ('s20x', 27), ('sBF', 21), ('sabreR', 3), ('sac', 29), ('saemix', 18), ('safeBinaryRegression', 21), ('sampSurf', 19), ('sampfling', 14), ('sampleSelection', 62), ('samplesize', 20), ('sampling', 60), ('samplingbook', 21), ('samr', 42), ('sandwich', 907), ('sapa', 30), ('sas7bdat', 50), ('satin', 4), ('saves', 19), ('saws', 20), ('Hmisc', 1209), ('MASS', 1332), ('sbgcop', 27), ('scaRabee', 20), ('sca', 34), ('scagnostics', 49), ('scaleCoef', 2), ('scaleboot', 13), ('scales', 3007), ('scapeMCMC', 15), ('scape', 31), ('scatterplot3d', 380), ('schoolmath', 28), ('schwartz97', 25), ('sciplot', 61), ('scout', 24), ('scrapeR', 27), ('scrime', 28), ('scriptests', 21), ('scuba', 28), ('sculpt3d', 6), ('sda', 37), ('sdcMicroGUI', 19), ('sdcMicro', 29), ('sdcTable', 43), ('sddpack', 21), ('sde', 44), ('sdef', 21), ('sdtalt', 8), ('sdtoolkit', 22), ('seacarb', 39), ('seas', 33), ('season', 27), ('secr', 37), ('seewave', 33), ('seg', 20), ('segclust', 8), ('segmented', 74), ('selectMeta', 19), ('selectiongain', 23), ('semPLS', 22), ('semdiag', 19), ('sendmailR', 485), ('sendplot', 27), ('sensR', 30), ('sensitivityPStrat', 19), ('sensitivity', 31), ('separationplot', 18), ('colorspace', 2840), ('RColorBrewer', 3046), ('dichromat', 2665), ('munsell', 2663), ('labeling', 2661), ('digest', 3223), ('gtable', 2664), ('proto', 2712), ('ggplot2', 3913), ('TEQR', 21), ('TERAplusB', 19), ('tergm', 38), ('termstrc', 28), ('ternvis', 17), ('TESS', 24), ('tester', 28), ('TestingSimilarity', 13), ('testit', 57), ('TestScorer', 16), ('TestSurvRec', 18), ('testthatsomemore', 15), ('texmex', 21), ('texmexseq', 15), ('TExPosition', 18), ('texreg', 130), ('textcat', 29), ('textir', 23), ('textometry', 26), ('textreg', 21), ('textreuse', 16), ('TFDEA', 16), ('tfer', 20), ('TFMPvalue', 25), ('tfplot', 22), ('jpeg', 366), ('pbkrtest', 2522), ('wordcloud', 1070), ('quantreg', 1683), ('Matrix', 1248), ('rmongodb', 73), ('R6', 2405), ('httr', 2037), ('spdep', 189), ('rJava', 2691), ('DAAG', 128), ('nutshell.bbdb', 26), ('nutshell.audioscrobbler', 26), ('mvnormtest', 97), ('AlgDesign', 103), ('nutshell', 37), ('Rcmdr', 417), ('crossdes', 45), ('swirl', 566), ('agricolae', 94), ('GeneCycle', 32), ('dplyr', 2033), ('RcppArmadillo', 801), ('adimpro', 32), ('PET', 27), ('steepness', 23), ('stepPlr', 32), ('stepp', 19), ('stepwise', 31), ('stinepack', 33), ('stochmod', 11), ('stockPortfolio', 30), ('stoichcalc', 21), ('stratasphere', 3), ('stratification', 24), ('stratigraph', 22), ('stream.net', 10), ('stremo', 19), ('stringkernels', 5), ('strucchange', 254), ('subplex', 41), ('subselect', 92), ('sudoku', 33), ('sugaR', 7), ('supclust', 32), ('superMDS', 21), ('superpc', 89), ('support.CEs', 26), ('surv2sample', 9), ('survAUC', 22), ('arules', 246), ('nlme', 683), ('seqCBS', 19), ('seqRFLP', 22), ('seqmon', 33), ('seriation', 156), ('session', 34), ('setRNG', 81), ('sets', 47), ('sfa', 21), ('sfsmisc', 189), ('sgeostat', 101), ('shape', 126), ('shapefiles', 95), ('shapes', 46), ('sharx', 20), ('siar', 27), ('siatclust', 3), ('sideChannelAttack', 19), ('sifds', 5), ('sigclust', 23), ('signal', 62), ('signalextraction', 12), ('simFrame', 26), ('simPopulation', 6), ('simba', 28), ('simboot', 20), ('simco', 10), ('simctest', 23), ('simecol', 33), ('simex', 35), ('simexaft', 21), ('similarityRichards', 8), ('simone', 25), ('simpleboot', 39), ('sinartra', 5), ('sisus', 22), ('skellam', 21), ('skewt', 38), ('skills', 2), ('skmeans', 27), ('slam', 1006), ('sm', 145), ('smacof', 31), ('smatr', 30), ('smco', 19), ('smfsb', 19), ('smirnov', 20), ('smoothSurv', 37), ('smoothmest', 31), ('smoothtail', 27), ('sn', 81), ('sna', 173), ('snort', 4), ('snowFT', 25), ('snow', 839), ('snowfall', 95), ('snp.plotter', 29), ('softclassval', 19), ('soil.spec', 19), ('soiltexture', 22), ('solaR', 22), ('som', 68), ('soma', 31), ('someKfwer', 22), ('someMTP', 21), ('somplot', 18), ('sos4R', 20), ('sos', 52), ('sound', 20), ('spBayes', 34), ('spa', 19), ('spaa', 23), ('space', 28), ('spacetime', 74), ('spacodiR', 20), ('spam', 259), ('sparcl', 28), ('sparkTable', 29), ('sparr', 24), ('sparseLDA', 38), ('spatcounts', 26), ('spatgraphs', 33), ('spatialCovariance', 40), ('spatialsegregation', 26), ('spc', 38), ('spcosa', 25), ('spd', 56), ('spe', 33), ('spectralGP', 30), ('speedR', 3), ('speedRlibs', 4), ('speedglm', 35), ('spef', 4), ('speff2trial', 22), ('sperich', 19), ('spgrass6', 31), ('spgwr', 40), ('car', 1688), ('WriteXLS', 80), ('tframe', 32), ('tframePlus', 27), ('TFX', 17), ('git2r', 2398), ('sphet', 27), ('spi', 21), ('spikeSlabGAM', 19), ('spikeslab', 30), ('splancs', 153), ('splinesurv', 4), ('spls', 82), ('splus2R', 42), ('sporm', 20), ('spssDDI', 8), ('spsurvey', 36), ('spuRs', 39), ('sqldf', 262), ('squash', 24), ('sra', 20), ('ssanv', 33), ('ssize.fdr', 25), ('sspir', 15), ('sspline', 26), ('st', 31), ('stab', 13), ('stam', 21), ('startupmsg', 54), ('stashR', 31), ('statmod', 264), ('statnet', 57), ('tgcd', 13), ('tggd', 13), ('tglm', 13), ('tgp', 47), ('tgram', 21), ('Thermimage', 15), ('thermocouple', 15), ('thgenetics', 21), ('Thinknum', 18), ('ThreeArmedTrials', 15), ('threeboost', 15), ('ThreeGroups', 17), ('threejs', 41), ('ThreeWay', 19), ('threewords', 13), ('threg', 16), ('ThresholdROC', 23), ('thsls', 15), ('tibbrConnector', 17), ('TickExec', 13), ('tictoc', 15), ('TiddlyWikiR', 17), ('Tides', 18), ('TideTables', 13), ('tidyjson', 15), ('tiff', 60), ('tiger', 27), ('tigerstats', 25), ('tightClust', 17), ('tigris', 18), ('PBSddesolve', 27), ('assertthat', 1594), ('devtools', 2169), ('qvcalc', 64), ('tuneR', 50), ('rstudioapi', 2271), ('lazyeval', 1691), ('topicmodels', 62), ('topmodel', 25), ('topologyGSA', 18), ('tourrGui', 21), ('tourr', 25), ('tpr', 27), ('trackObjs', 11), ('track', 20), ('tractor.base', 23), ('traitr', 23), ('trapezoid', 22), ('tree', 183), ('treebase', 24), ('treecm', 19), ('treelet', 24), ('treemap', 50), ('fitdistrplus', 112), ('R.cache', 140), ('repmis', 24), ('class', 766), ('foreign', 815), ('alr3', 70), ('AER', 187), ('RcppEigen', 1315), ('DEoptimR', 323), ('mclust', 312), ('flexmix', 170), ('prabclus', 131), ('XLConnectJars', 293), ('MatrixModels', 1338), ('numDeriv', 323), ('permute', 158), ('vegan', 263), ('diptest', 148), ('trimcluster', 139), ('fpc', 150), ('moments', 133), ('survBayes', 17), ('survC1', 21), ('survJamda.data', 19), ('survJamda', 22), ('survPresmooth', 20), ('surveillance', 41), ('survey', 154), ('survivalBIV', 4), ('survivalROC', 29), ('survrec', 33), ('svDialogs', 36), ('svGUI', 32), ('svIDE', 23), ('svMisc', 26), ('svSocket', 24), ('svSweave', 22), ('svTools', 22), ('svUnit', 70), ('svWidgets', 23), ('svcR', 9), ('svcm', 27), ('svd', 36), ('svmpath', 37), ('swamp', 20), ('symbols', 23), ('symmoments', 22), ('systemfit', 92), ('taRifx', 30), ('tableplot', 23), ('tabplotGTK', 2), ('tabplot', 36), ('tau', 725), ('tawny', 24), ('tcltk2', 291), ('tclust', 22), ('tdm', 14), ('tdthap', 27), ('tensorA', 53), ('tensor', 85), ('tikzDevice', 50), ('tileHMM', 24), ('tilting', 4), ('timeDate', 602), ('timeSeries', 510), ('time', 13), ('timeordered', 22), ('timereg', 34), ('timsac', 30), ('tis', 70), ('titan', 27), ('tkrgl', 27), ('tkrplot', 107), ('tlemix', 23), ('tlnise', 31), ('tm.plugin.dc', 21), ('tm.plugin.mail', 23), ('tm', 1149), ('tmvtnorm', 69), ('tnet', 48), ('tolerance', 50), ('tonymisc', 3), ('xts', 598), ('ISLR', 121), ('gmodels', 200), ('webvis', 21), ('weightedScores', 22), ('weights', 28), ('weirs', 21), ('wgaim', 28), ('whisker', 1352), ('wikibooks', 30), ('wild1', 5), ('wle', 60), ('wmtsa', 40), ('wnominate', 29), ('wombsoft', 14), ('wordnet', 41), ('wq', 25), ('write.snns', 28), ('wvioplot', 4), ('x12', 27), ('xgrid', 4), ('xlsReadWrite', 11), ('xpose4', 24), ('xpose4classic', 5), ('xpose4data', 5), ('xpose4generic', 5), ('xpose4specific', 5), ('xterm256', 7), ('xtermStyle', 24), ('yaImpute', 31), ('yacca', 26), ('yest', 9), ('yhat', 24), ('zic', 22), ('zipcode', 37), ('zipfR', 33), ('zoeppritz', 26), ('zyp', 28), ('vowels', 28), ('TTR', 430), ('lsmeans', 112), ('quadprog', 616), ('wSVM', 23), ('gsubfn', 203), ('minqa', 1203), ('treethresh', 22), ('trex', 5), ('triads', 4), ('triangle', 44), ('trifield', 19), ('trio', 7), ('tripEstimation', 29), ('trip', 29), ('tripack', 79), ('truncSP', 20), ('truncgof', 29), ('truncnorm', 127), ('truncreg', 60), ('trust', 64), ('tsDyn', 37), ('tsModel', 29), ('tseriesChaos', 40), ('tseries', 571), ('tsfa', 32), ('tslars', 10), ('tsne', 32), ('ttime', 4), ('ttrTests', 6), ('ttutils', 22), ('twang', 30), ('tweedie', 59), ('twiddler', 23), ('twitteR', 142), ('two.stage.boot', 3), ('twopartqtl', 4), ('twslm', 10), ('txtplot', 20), ('ucminf', 88), ('ump', 30), ('unbalhaar', 28), ('uncompress', 8), ('uniCox', 23), ('uniPlot', 1), ('unknownR', 4), ('unmarked', 48), ('untb', 29), ('urca', 210), ('urn', 15), ('useful', 45), ('validator', 5), ('varSelRF', 38), ('varSelectIP', 7), ('varcompci', 4), ('vardiag', 32), ('vars', 97), ('vcdExtra', 48), ('vcd', 336), ('vegclust', 20), ('vegdata', 30), ('vegetarian', 23), ('venneuler', 696), ('verification', 54), ('vines', 23), ('violinmplot', 25), ('vioplot', 100), ('viopoints', 19), ('visualizationTools', 5), ('vmv', 5), ('voronoi', 3), ('vrmlgen', 27), ('vrtest', 31), ('vwr', 18), ('walkscoreAPI', 19), ('wasim', 23), ('waterfall', 8), ('waveband', 21), ('waveclock', 7), ('waved', 28), ('wavelets', 40), ('wavemulcor', 20), ('waveslim', 58), ('wavethresh', 60), ('wccsom', 27), ('websockets', 3), ('quanteda', 28), ('fpp', 110), ('financial', 33), ('e1071', 839), ('readxl', 339), ('RcmdrMisc', 261), ('ACCLMA', 28), ('ACNE', 28), ('ADGofTest', 55), ('ADM3', 24), ('AGSDest', 25), ('AICcmodavg', 62), ('AIGIS', 6), ('AIM', 26), ('ALS', 27), ('AMA', 3), ('AMORE', 40), ('ANN', 3), ('APSIMBatch', 22), ('ARTIVA', 20), ('AUCRF', 23), ('AWS.tools', 4), ('AcceptanceSampling', 35), ('Ace', 3), ('AdMit', 37), ('AdaptFit', 34), ('Aelasticnet', 2), ('Agreement', 25), ('AllPossibleSpellings', 25), ('Amelia', 170), ('AnalyzeFMRI', 39), ('AnnotLists', 23), ('AquaEnv', 27), ('AtelieR', 25), ('AutoSEARCH', 23), ('B2Z', 24), ('BACCO', 37), ('BAMD', 6), ('BARD', 9), ('BAS', 32), ('BAYSTAR', 32), ('BBMM', 25), ('BB', 73), ('BBmisc', 52), ('BCA', 38), ('BCBCSF', 24), ('BCE', 31), ('BGSIMD', 24), ('BHH2', 39), ('BLCOP', 31), ('BLR', 27), ('BMA', 74), ('BMN', 23), ('BMS', 39), ('BNPdensity', 20), ('BPHO', 8), ('BRugs', 52), ('BSDA', 63), ('BSagri', 25), ('BTSPAS', 23), ('BaBooN', 40), ('BaM', 31), ('BaSAR', 3), ('BaSTA', 26), ('Barnard', 21), ('BayHap', 23), ('BayHaz', 32), ('BayesDA', 30), ('BayesLCA', 24), ('BayesQTLBIC', 7), ('BayesTree', 41), ('BayesValidate', 34), ('BayesX', 46), ('Bchron', 28), ('Benchmarking', 39), ('Bergm', 25), ('BerkeleyEarth', 2), ('Bessel', 36), ('BiGGR', 4), ('BiasedUrn', 66), ('BinNor', 21), ('BioMark', 22), ('BioPhysConnectoR', 22), ('BioStatR', 27), ('Biodem', 32), ('BiodiversityR', 45), ('Biograph', 7), ('BiomarkeR', 4), ('BiplotGUI', 27), ('BlakerCI', 21), ('Bmix', 26), ('BoSSA', 25), ('Bolstad2', 25), ('Bolstad', 40), ('BoolNet', 26), ('BootPR', 28), ('Boruta', 38), ('BradleyTerry2', 112), ('BradleyTerry', 16), ('BrailleR', 20), ('Brobdingnag', 32), ('BsMD', 54), ('BurStFin', 26), ('TilePlot', 21), ('timedelay', 13), ('timeit', 17), ('timeline', 16), ('TimeMachine', 17), ('TimeProjection', 19), ('timeROC', 17), ('timesboot', 19), ('timeSeq', 13), ('timeseriesdb', 18), ('timetools', 25), ('timetree', 13), ('TimeWarp', 18), ('timma', 15), ('TIMP', 29), ('Tinflex', 19), ('TInPosition', 16), ('TipDatingBeast', 13), ('tipom', 17), ('titanic', 14), ('TKF', 15), ('TLBC', 13), ('tlm', 15), ('tlmec', 18), ('tmap', 79), ('TMB', 17), ('TMDb', 13), ('tmg', 29), ('Tmisc', 19), ('tmle', 17), ('tmlenet', 13), ('tmle.npvi', 16), ('tmod', 13), ('tm.plugin.alceste', 16), ('tm.plugin.europresse', 17), ('tm.plugin.factiva', 17), ('tm.plugin.lexisnexis', 17), ('bipartite', 34), ('tm.plugin.webmining', 31), ('tmvnsim', 13), ('modeltools', 350), ('kernlab', 377), ('nloptr', 1205), ('alr4', 59), ('nnet', 690), ('gnm', 60), ('CADFtest', 29), ('CADStat', 7), ('CALINE3', 5), ('CARE1', 19), ('CAVIAR', 5), ('CCA', 38), ('CCM', 19), ('CCMtools', 4), ('CCP', 23), ('CDFt', 28), ('CDM', 66), ('CDNmoney', 36), ('CDVine', 29), ('CFL', 6), ('CGIwithR', 17), ('CGene', 3), ('CHCN', 21), ('CHNOSZ', 33), ('CHsharp', 31), ('CITAN', 21), ('CLSOCP', 20), ('CMC', 21), ('CNVassoc', 21), ('COMPoissonReg', 20), ('CONORData', 4), ('CONOR', 3), ('COP', 10), ('CORElearn', 67), ('COSINE', 20), ('COUNT', 21), ('COZIGAM', 8), ('CPE', 27), ('CRM', 19), ('CRTSize', 20), ('CTT', 31), ('CVThresh', 30), ('Cairo', 123), ('CalciOMatic', 7), ('CarbonEL', 9), ('CatDyn', 19), ('MILC', 14), ('minpack.lm', 86), ('caret', 811), ('bayesm', 59), ('minimist', 14), ('MIICD', 16), ('migration.indices', 15), ('migui', 22), ('minque', 15), ('MindOnStats', 21), ('miniGUI', 21), ('miniCRAN', 18), ('Rmpfr', 141), ('minimax', 19), ('iterators', 2212), ('minerva', 19), ('stargazer', 129), ('minPtest', 18), ('minxent', 24), ('brew', 1365), ('xml2', 1492), ('roxygen2', 1535), ('rversions', 1450), ('matrixStats', 195), ('fastcluster', 61), ('latticeExtra', 930), ('MIPHENO', 18), ('pkgmaker', 1141), ('rngtools', 1142), ('NMF', 1162), ('gridBase', 1156), ('proxy', 186), ('MiRSEA', 12), ('MInt', 12), ('mipfp', 14), ('VGAM', 237), ('PKI', 190), ('miRtest', 19), ('mirt', 56), ('RGtk2', 215), ('rattle', 231), ('misc3d', 150), ('fdrtool', 92), ('miRada', 16), ('coda', 652), ('arm', 292), ('htmlwidgets', 476), ('visNetwork', 255), ('missForest', 42), ('compute.es', 38), ('MissingDataGUI', 19), ('mirtCAT', 41), ('miscF', 16), ('miscset', 14), ('miscFuncs', 23), ('pROC', 214), ('missDeaths', 12), ('MissMech', 16), ('missMDA', 35), ('MiST', 17), ('biasbetareg', 17), ('bibtex', 55), ('biclust', 61), ('BiDimRegression', 20), ('bifactorial', 26), ('BIFIEsurvey', 38), ('biganalytics', 28), ('bigdata', 21), ('BIGDAWG', 20), ('biglars', 23), ('biglm', 77), ('bigmemory', 56), ('bigmemory.sri', 40), ('bigml', 16), ('bigrquery', 14), ('bigRR', 21), ('bigsplines', 19), ('bigtabulate', 21), ('BigTSP', 20), ('bild', 20), ('mitml', 30), ('miscTools', 129), ('mistral', 16), ('mi', 205), ('mitools', 72), ('mistat', 22), ('MitISEM', 18), ('MixAll', 15), ('mix', 57), ('mixcat', 18), ('ROCR', 282), ('JavaGD', 85), ('mixdist', 26), ('fail', 49), ('corrplot', 261), ('mixexp', 19), ('MixGHD', 12), ('nortest', 183), ('mixedMem', 13), ('MixedPoisson', 12), ('parallelMap', 20), ('MixMAP', 15), ('boxr', 16), ('MixedTS', 20), ('igraph', 1294), ('mixer', 26), ('MIXFIM', 12), ('mixpack', 12), ('mixlm', 25), ('ParamHelpers', 35), ('RWeka', 137), ('Ckmeans.1d.dp', 43), ('mixsmsn', 28), ('iplots', 85), ('MixSim', 27), ('bootstrap', 85), ('mixtox', 18), ('gWidgets', 84), ('mixture', 18), ('MixtureInf', 16), ('mixreg', 34), ('mixtNB', 12), ('mixor', 14), ('mixPHM', 26), ('mixOmics', 63), ('ivpack', 27), ('irlba', 1138), ('mixRasch', 25), ('RgoogleMaps', 261), ('mapproj', 391), ('mizer', 14), ('ggmap', 353), ('MKLE', 28), ('mixtools', 46), ('MKmisc', 28), ('mlbench', 198), ('mkssd', 22), ('maxLik', 155), ('mkde', 15), ('memisc', 89), ('mlDNA', 15), ('bimetallic', 19), ('bimixt', 14), ('Binarize', 17), ('BinaryEPPM', 15), ('binda', 18), ('bindata', 37), ('binequality', 15), ('bingat', 16), ('binGroup', 34), ('binhf', 22), ('binMto', 27), ('BinNonNor', 18), ('binom', 44), ('binomen', 15), ('binomialcftp', 18), ('binomlogit', 18), ('binomSamSize', 25), ('binomTools', 21), ('BinOrdNonNor', 18), ('binr', 19), ('binseqtest', 18), ('bio.infer', 26), ('bio3d', 36), ('MLCIRTwithin', 12), ('mkin', 25), ('LearnBayes', 165), ('osmar', 52), ('MLCM', 22), ('checkmate', 68), ('coin', 316), ('shiny', 1041), ('mlr', 41), ('gridSVG', 80), ('sensitivity2x2xk', 12), ('MLEcens', 29), ('mlearning', 20), ('TSP', 169), ('gclus', 178), ('mldr', 22), ('mleur', 18), ('distr', 108), ('ncdf', 106), ('mlgt', 16), ('MLmetrics', 21), ('mlmmm', 25), ('mlma', 14), ('MLDS', 27), ('svgPanZoom', 53), ('gbm', 164), ('maptools', 381), ('mldr.datasets', 12), ('mlegp', 35), ('corrgram', 117), ('mlica2', 16), ('mlmRev', 55), ('mlogit', 103), ('mlogitBMA', 22), ('mlPhaser', 16), ('party', 258), ('nleqslv', 71), ('partykit', 131), ('FactoMineR', 188), ('mlsjunkgen', 12), ('MLRMPA', 14), ('mlVAR', 13), ('mlxR', 14), ('mma', 19), ('JGR', 93), ('MM', 17), ('fracdiff', 341), ('forecast', 435), ('packrat', 262), ('RODBC', 256), ('mmand', 17), ('mmap', 25), ('mmds', 17), ('DiceKriging', 29), ('pbivnorm', 106), ('KrigInv', 20), ('mmcm', 22), ('mme', 16), ('MM2Sdata', 13), ('mmeta', 17), ('Biocomb', 19), ('biogas', 19), ('BioGeoBEARS', 21), ('biogram', 15), ('biom', 29), ('BIOM.utils', 16), ('biomartr', 13), ('biomod2', 20), ('bionetdata', 21), ('bioPN', 17), ('biorxivr', 15), ('MMS', 16), ('mmc', 13), ('Rmisc', 61), ('mmod', 18), ('mmpp', 14), ('mmm', 16), ('openxlsx', 98), ('bestglm', 54), ('mmeln', 18), ('RMongo', 19), ('mmtfa', 12), ('MMWRweek', 12), ('MNS', 12), ('Mobilize', 17), ('mmm2', 16), ('mnormt', 489), ('glmnet', 244), ('MMMS', 15), ('mnormpow', 15), ('rio', 21), ('ElemStatLearn', 81), ('MOCCA', 23), ('MNM', 21), ('MNP', 34), ('modelfree', 20), ('modeest', 42), ('mnlogit', 20), ('modehunt', 26), ('Modalclust', 19), ('modMax', 15), ('MODISTools', 17), ('modiscloud', 16), ('Formula', 967), ('ModelGood', 21), ('modelObj', 12), ('llama', 25), ('ModelMap', 25), ('MOJOV', 16), ('mogavs', 12), ('RJDBC', 903), ('moduleColor', 25), ('modTempEff', 21), ('fftwtools', 48), ('plsdepot', 30), ('modQR', 12), ('mokken', 29), ('mombf', 29), ('statnet.common', 78), ('Momocs', 17), ('ddR', 28), ('kmeans.ddR', 15), ('acepack', 856), ('momentchi2', 13), ('MuMIn', 65), ('DT', 97), ('haven', 86), ('bios2mds', 20), ('biosignalEMG', 15), ('biotools', 26), ('biplotbootGUI', 17), ('MonetDB.R', 27), ('Deducer', 57), ('monitoR', 17), ('momr', 11), ('monographaR', 16), ('lpSolve', 199), ('BIPOD', 17), ('birdring', 19), ('birk', 15), ('bisectr', 17), ('BiSEp', 17), ('bisoreg', 24), ('bit', 870), ('bit64', 786), ('BiTrinA', 14), ('BivarP', 16), ('bivarRIpower', 21), ('biwavelet', 24), ('biwt', 25), ('bizdays', 17), ('BlandAltmanLeh', 20), ('blatr', 15), ('Blaunet', 17), ('blavaan', 17), ('mondate', 37), ('bdsmatrix', 119), ('monomvn', 32), ('classInt', 83), ('moonsun', 107), ('MonoPoly', 15), ('monmlp', 20), ('MonoPhy', 12), ('morgenstemning', 15), ('monreg', 31), ('Morpho', 17), ('KFAS', 34), ('limSolve', 38), ('Rglpk', 67), ('batchmeans', 27), ('Rmpi', 66), ('moonBook', 36), ('lattice', 616), ('MorseGen', 17), ('mopsocd', 15), ('MOrder', 14), ('VIF', 223), ('fields', 237), ('morse', 14), ('openNLPdata', 700), ('openNLP', 713), ('MortalitySmooth', 23), ('mosaic', 80), ('eigenmodel', 30), ('ergm', 94), ('MoTBFs', 12), ('mosaicData', 58), ('klaR', 165), ('MotilityLab', 12), ('mountainplot', 14), ('RMySQL', 272), ('mousetrack', 14), ('moult', 18), ('mpa', 18), ('blender', 21), ('blighty', 35), ('blkergm', 16), ('blm', 19), ('blme', 20), ('blmeco', 19), ('blockcluster', 23), ('blockmatrix', 18), ('BlockMessage', 19), ('blockmodeling', 29), ('blockmodels', 15), ('blockrand', 32), ('blocksdesign', 19), ('blockTools', 28), ('Blossom', 14), ('blowtorch', 16), ('blsAPI', 14), ('bmd', 25), ('bmem', 20), ('bmeta', 16), ('lava', 129), ('NLP', 956), ('prodlim', 142), ('corpcor', 201), ('moveHMM', 15), ('move', 17), ('mp', 14), ('huge', 62), ('network', 124), ('mpcv', 14), ('MPCI', 18), ('movMF', 23), ('ipred', 150), ('maxent', 38), ('RTextTools', 45), ('epitools', 69), ('mph', 15), ('MplusAutomation', 37), ('mpath', 22), ('MPDiR', 17), ('mpmcorrelogram', 20), ('MPAgenomics', 14), ('mpMap', 16), ('mpmi', 17), ('mplot', 18), ('MPINet', 15), ('mpm', 25), ('Mposterior', 14), ('networkDynamic', 51), ('networkTomography', 19), ('ngspatial', 25), ('mpoly', 19), ('MPTinR', 18), ('uuid', 67), ('df2json', 18), ('AzureML', 19), ('mra', 27), ('mppa', 14), ('MPV', 62), ('mratios', 30), ('mpt', 21), ('MRCE', 17), ('mQTL', 15), ('MPSEM', 15), ('Matching', 62), ('mreg', 15), ('mri', 12), ('MRMR', 16), ('mRm', 19), ('sand', 21), ('mrds', 34), ('MRCV', 14), ('qgraph', 65), ('MRH', 14), ('MRS', 12), ('MRQoL', 12), ('MRIaggr', 18), ('BMhyd', 18), ('bmk', 17), ('bmmix', 15), ('bmp', 20), ('bmrm', 20), ('bnclassify', 29), ('BNDataGenerator', 20), ('bnlearn', 68), ('bnormnlr', 15), ('bnpmr', 16), ('BNPTSclust', 16), ('BNSP', 15), ('bnstruct', 13), ('boa', 39), ('BOG', 17), ('mRMRe', 19), ('MRSP', 14), ('rotationForest', 17), ('ggdendro', 122), ('clue', 59), ('MRsurv', 17), ('msarc', 15), ('MRwarping', 15), ('msBP', 14), ('mseapca', 16), ('msgl', 15), ('installr', 207), ('MSG', 19), ('msda', 14), ('msap', 17), ('ape', 363), ('RANN', 93), ('StatMatch', 31), ('rpca', 14), ('MSBVAR', 38), ('msir', 18), ('ms.sev', 12), ('msgps', 19), ('boot', 347), ('cluster', 354), ('codetools', 258), ('diagram', 49), ('KernSmooth', 339), ('msgpackR', 15), ('msm', 140), ('MSIseq', 12), ('MSQC', 17), ('MSwM', 21), ('mstate', 52), ('R.matlab', 68), ('msos', 16), ('distcomp', 15), ('msme', 24), ('SweaveListingUtils', 51), ('msSurv', 20), ('ggvis', 93), ('mtsdi', 19), ('MTurkR', 22), ('MST', 21), ('MUCflights', 19), ('ROAuth', 63), ('RPostgreSQL', 205), ('muhaz', 47), ('shinyFiles', 25), ('mtk', 14), ('muir', 12), ('MTS', 26), ('multgee', 16), ('MuFiCokriging', 16), ('intervals', 84), ('FNN', 98), ('MultEq', 25), ('SnowballC', 287), ('multiAssetOptions', 14), ('multcompView', 63), ('gstat', 114), ('automap', 48), ('hydroTSM', 38), ('hydroGOF', 33), ('multiband', 14), ('MultiCNVDetect', 14), ('boilerpipeR', 30), ('BOIN', 18), ('bold', 37), ('boolean3', 15), ('Boom', 23), ('BoomSpikeSlab', 22), ('boostr', 14), ('boostSeq', 18), ('bootES', 19), ('bootLR', 16), ('bootnet', 13), ('bootRes', 23), ('bootruin', 22), ('bootspecdens', 23), ('bootsPLS', 16), ('bootStepAIC', 29), ('bootSVD', 15), ('boottol', 15), ('TeachingDemos', 179), ('multiDimBio', 15), ('ibmdbR', 31), ('loo', 59), ('Luminescence', 20), ('marmap', 37), ('pitchRx', 32), ('multicool', 97), ('multilevelPSA', 20), ('koRpus', 33), ('multigroup', 15), ('multic', 1), ('multicon', 15), ('MultinomialCI', 18), ('MultiMeta', 14), ('MultiLCIRT', 18), ('multilevel', 32), ('MultiGHQuad', 12), ('multipleNCC', 15), ('multimark', 16), ('MultiPhen', 21), ('MultiRR', 15), ('multinbmod', 15), ('multiPIM', 18), ('multiplex', 16), ('MultiOrd', 16), ('multinomRob', 34), ('multirich', 14), ('multispatialCCM', 16), ('multipol', 27), ('multisensi', 20), ('NbClust', 44), ('multivator', 17), ('multiwave', 12), ('MultiSV', 14), ('multitable', 17), ('multiway', 15), ('muma', 16), ('qdapDictionaries', 685), ('qdapRegex', 688), ('qdapTools', 698), ('gender', 686), ('reports', 680), ('stringdist', 731), ('qdap', 695), ('multitaper', 21), ('multxpert', 19), ('RRF', 26), ('multiwayvcov', 27), ('MultNonParam', 18), ('brainGraph', 14), ('brainR', 16), ('brainwaver', 29), ('breakage', 17), ('breakaway', 17), ('breakpoint', 17), ('munsellinterpol', 13), ('munfold', 20), ('muStat', 23), ('mutoss', 20), ('muRL', 19), ('mutossGUI', 20), ('ggthemes', 84), ('RSNNS', 57), ('boral', 16), ('boss', 18), ('boussinesq', 19), ('boxplotdbl', 18), ('bpca', 28), ('bpcp', 17), ('bPeaks', 16), ('bpkde', 16), ('bqtl', 37), ('MVar.pt', 14), ('ISwR', 80), ('MVB', 16), ('mvbutils', 37), ('seqinr', 62), ('languageR', 44), ('mvmeta', 17), ('MVA', 22), ('mvabund', 30), ('mvglmmRank', 19), ('MvBinary', 12), ('mvinfluence', 16), ('mvctm', 12), ('mvmesh', 14), ('mvc', 16), ('mvcwt', 17), ('filehash', 66), ('mvnfast', 24), ('mvProbit', 24), ('mvoutlier', 63), ('mvnmle', 39), ('mvMORPH', 16), ('MVN', 31), ('mvrtn', 16), ('mvsf', 21), ('mvna', 28), ('mvngGrAd', 20), ('covr', 51), ('rex', 189), ('mvnpermute', 14), ('mvShapiroTest', 28), ('mvtmeta', 17), ('MVR', 18), ('mvprpb', 15), ('ConConPiWiFun', 22), ('mvSLOUCH', 16), ('LDAvis', 20), ('mvtboost', 12), ('MVT', 12), ('mwaved', 14), ('bReeze', 19), ('brewdata', 16), ('brglm', 105), ('bride', 17), ('brms', 17), ('brnn', 22), ('broman', 18), ('broom', 108), ('brotli', 18), ('brr', 13), ('brranching', 13), ('BSGS', 15), ('BSGW', 17), ('bshazard', 16), ('mvtsplot', 20), ('Myrrix', 15), ('mwa', 16), ('MXM', 15), ('mxkssd', 21), ('mycobacrvR', 16), ('myepisodes', 17), ('insol', 23), ('selectr', 119), ('audio', 36), ('networkD3', 44), ('hwriter', 71), ('rvest', 210), ('mycor', 14), ('microbenchmark', 126), ('WDI', 62), ('locfit', 222), ('Myrrixjars', 16), ('rstan', 76), ('myTAI', 12), ('mztwinreg', 14), ('faraway', 102), ('NADA', 34), ('NAM', 18), ('nabor', 15), ('nanop', 22), ('mapdata', 104), ('NBDdirichlet', 18), ('nadiv', 19), ('nasaweather', 13), ('NAPPA', 17), ('nat.utils', 15), ('namespace', 17), ('bspec', 29), ('bspmma', 19), ('BSquare', 20), ('BSSasymp', 20), ('bssn', 13), ('bst', 31), ('bsts', 19), ('btergm', 23), ('btf', 13), ('BTLLasso', 15), ('BTYD', 26), ('bujar', 18), ('BurStMisc', 20), ('bursts', 17), ('bvarsv', 21), ('bvenn', 17), ('bvls', 27), ('naturalsort', 17), ('leaflet', 78), ('neuralnet', 119), ('nat.nblast', 14), ('TSA', 102), ('NB', 15), ('nbpMatching', 23), ('nCal', 15), ('cellranger', 21), ('plot3D', 75), ('haplo.stats', 44), ('benford.analysis', 21), ('BenfordTests', 20), ('bentcableAR', 30), ('BEQI2', 18), ('ber', 22), ('BerlinData', 20), ('AUC', 42), ('date', 72), ('berryFunctions', 20), ('BEST', 21), ('betafam', 21), ('betalink', 14), ('betapart', 24), ('betaper', 26), ('betareg', 80), ('betas', 16), ('betategarch', 22), ('bethel', 24), ('bezier', 18), ('bfa', 19), ('bfast', 27), ('bfp', 24), ('bgeva', 17), ('bglm', 18), ('mice', 182), ('meta', 60), ('HardyWeinberg', 32), ('splitstackshape', 22), ('CBPS', 19), ('stabledist', 224), ('BGLR', 24), ('bgmm', 26), ('BGPhazard', 18), ('nycflights13', 94), ('MatchIt', 87), ('readstata13', 59), ('RandomFieldsUtils', 83), ('psych', 575), ('RandomFields', 105), ('dismo', 56), ('WikipediR', 20), ('gmp', 124), ('geometry', 110), ('hexbin', 239), ('PerformanceAnalytics', 187), ('gdalUtils', 22), ('optextras', 55), ('Rcgmin', 56), ('Rvmmin', 58), ('dfoptim', 53), ('optimx', 75), ('Synth', 28), ('het.test', 20), ('usdm', 33), ('Bhat', 36), ('cclust', 40), ('beadarrayMSV', 24), ('rworldxtra', 27), ('Deriv', 22), ('ff', 129), ('fastmatch', 73), ('ffbase', 56), ('rappdirs', 23), ('RQuantLib', 65), ('RWekajars', 141), ('GISTools', 23), ('gmatrix', 14), ('AppliedPredictiveModeling', 56), ('Rquake', 17), ('Rramas', 25), ('Rrdrand', 14), ('Rserve', 109), ('bda', 22), ('rrcovHD', 19), ('RRreg', 22), ('rr', 14), ('rrepast', 13), ('rriskDistributions', 26), ('lars', 138), ('RRNA', 13), ('GGally', 210), ('rrBlupMethod6', 17), ('Bayesianbetareg', 21), ('RSA', 15), ('rqPen', 24), ('rsdmx', 17), ('streamR', 37), ('rscopus', 12), ('RRTCS', 16), ('RSAGA', 43), ('RSDA', 20), ('RSclient', 54), ('rsgcc', 16), ('R.rsp', 142), ('rSFA', 18), ('rSCA', 14), ('RSiena', 40), ('RSEIS', 37), ('RSADBE', 15), ('Rsampletrees', 14), ('rsatscan', 15), ('RSeed', 15), ('Lahman', 77), ('gvlma', 61), ('lmSupport', 27), ('RSiteCatalyst', 15), ('RSelenium', 55), ('combinat', 219), ('earth', 108), ('RSKC', 18), ('V8', 65), ('dygraphs', 70), ('RSGHB', 17), ('rsnps', 16), ('rsml', 14), ('rsggm', 12), ('RSofia', 21), ('lavaan', 162), ('TrackReconstruction', 17), ('BayesianAnimalTracker', 21), ('rsig', 16), ('effsize', 23), ('RSNPset', 23), ('RsimMosaic', 12), ('Rsolnp', 114), ('fastICA', 112), ('gam', 131), ('ellipse', 256), ('mda', 151), ('pamr', 102), ('Cubist', 87), ('A3', 26), ('abbyyR', 24), ('abc', 31), ('Rsomoclu', 23), ('RSpincalc', 14), ('rSPACE', 19), ('rspa', 16), ('RSQLServer', 15), ('rstackdeque', 14), ('RSocrata', 14), ('RSPS', 12), ('RStorm', 16), ('rstiefel', 17), ('fBasics', 320), ('doBy', 137), ('kknn', 63), ('shinydashboard', 47), ('lintr', 92), ('RStoolbox', 20), ('rsvd', 12), ('rsubgroup', 14), ('rstpm2', 15), ('rsunlight', 14), ('RStars', 16), ('rstatscn', 15), ('RSurveillance', 14), ('RSVGTipsDevice', 18), ('Rsurrogate', 12), ('RStata', 12), ('plotly', 143), ('rTableICC', 15), ('RTextureMetrics', 15), ('rtematres', 16), ('dendextend', 74), ('Rsundials', 24), ('RSurvey', 26), ('fanplot', 18), ('rTensor', 15), ('rtkore', 15), ('RSvgDevice', 19), ('StMoMo', 17), ('RTriangle', 17), ('rtdists', 15), ('rSymPy', 25), ('RTConnect', 15), ('RTDE', 16), ('rtable', 20), ('rtimes', 12), ('Rtwalk', 12), ('RTOMO', 24), ('rts', 18), ('rtson', 12), ('gss', 230), ('rtkpp', 16), ('rUnemploymentData', 19), ('runittotestthat', 13), ('fGarch', 124), ('RunuranGUI', 19), ('Rtts', 17), ('rtop', 18), ('RVAideMemoire', 32), ('Rtsne', 29), ('rtype', 14), ('Runuran', 47), ('Ruchardet', 14), ('rucm', 20), ('acopula', 21), ('acp', 33), ('aCRM', 21), ('acs', 33), ('ACSNMineR', 23), ('acss', 20), ('acss.data', 21), ('ACSWR', 20), ('ACTCD', 22), ('Actigraphy', 23), ('hash', 83), ('agop', 20), ('RBerkeley', 1), ('activity', 19), ('actuar', 79), ('ActuDistns', 25), ('ada', 71), ('adabag', 100), ('adagio', 38), ('Factoshiny', 19), ('Epi', 51), ('AdapEnetClass', 20), ('adaptDA', 23), ('AdaptFitOS', 22), ('AdaptGauss', 18), ('AdaptiveSparsity', 21), ('adaptivetau', 25), ('adaptMCMC', 21), ('adaptsmoFMRI', 19), ('adaptTest', 28), ('addhazard', 16), ('additivityTests', 21), ('addreg', 18), ('etm', 44), ('GWmodel', 18), ('aod', 95), ('PSCBS', 41), ('cmprsk', 71), ('ADDT', 21), ('ade4', 248), ('ade4TkGUI', 48), ('adegenet', 52), ('gwrr', 22), ('adegraphics', 31), ('adehabitat', 48), ('adehabitatHR', 28), ('adehabitatHS', 27), ('EpiEstim', 17), ('DCluster', 40), ('adehabitatLT', 31), ('adehabitatMA', 31), ('adephylo', 29), ('AdequacyModel', 25), ('adhoc', 20), ('adlift', 36), ('ADMMnet', 4), ('ADPclust', 24), ('ReporteRsjars', 29), ('ReporteRs', 29), ('mfp', 33), ('bvpSolve', 23), ('BVS', 21), ('bWGR', 17), ('c060', 17), ('c3net', 21), ('C50', 71), ('ca', 90), ('cabootcrs', 16), ('cacIRT', 20), ('CaDENCE', 19), ('cAIC4', 18), ('GPArotation', 112), ('fda', 98), ('ads', 34), ('adwave', 18), ('AEDForecasting', 23), ('aemo', 16), ('AF', 17), ('dataQualityR', 16), ('evir', 61), ('OutbreakTools', 18), ('afex', 42), ('AFLPsim', 20), ('AFM', 21), ('aftgee', 21), ('AGD', 38), ('AggregateR', 23), ('agRee', 19), ('shinyjs', 51), ('ResourceSelection', 50), ('polyCub', 19), ('AID', 25), ('aidar', 19), ('Ake', 18), ('shinyAce', 32), ('agridat', 21), ('agrmt', 27), ('agsemisc', 28), ('ahaz', 25), ('AHR', 19), ('SpatialEpi', 28), ('GMCM', 14), ('akima', 114), ('akmeans', 19), ('alabama', 46), ('ald', 19), ('ALDqr', 20), ('aLFQ', 19), ('AlgebraicHaploPackage', 16), ('algstat', 18), ('alineR', 20), ('ALKr', 20), ('allan', 23), ('allanvar', 21), ('alleHap', 19), ('allelematch', 22), ('AlleleRetain', 21), ('allelic', 32), ('alm', 19), ('alphahull', 49), ('alphaOutlier', 16), ('alphashape3d', 21), ('cairoDevice', 112), ('calACS', 13), ('CALF', 14), ('CALIBERrfimpute', 34), ('calibrate', 58), ('calibrator', 29), ('calmate', 22), ('CAM', 19), ('CAMAN', 18), ('camel', 16), ('camtrapR', 18), ('cancerTiming', 17), ('candisc', 44), ('Canopy', 13), ('CANSIM2R', 13), ('cape', 16), ('caper', 20), ('capm', 22), ('captioner', 14), ('captr', 15), ('capushe', 23), ('capwire', 17), ('ALSCPC', 20), ('ALTopt', 19), ('amap', 84), ('AMAP.Seq', 20), ('Quandl', 76), ('ameco', 15), ('amei', 25), ('amen', 19), ('AmericanCallOpt', 22), ('swirlify', 22), ('AMGET', 18), ('aml', 17), ('AMOEBA', 23), ('AmpliconDuo', 19), ('anacor', 26), ('shinyRGL', 21), ('shinystan', 32), ('analogsea', 14), ('analogue', 29), ('analogueExtra', 17), ('analyz', 16), ('AnalyzeTS', 18), ('anametrix', 19), ('outliers', 88), ('covRobust', 34), ('anapuce', 26), ('AncestryMapper', 20), ('anchors', 23), ('AnDE', 21), ('andrews', 22), ('anesrake', 22), ('anfis', 16), ('AnglerCreelSurveySimulation', 19), ('CARBayes', 22), ('CARBayesdata', 21), ('CARBayesST', 16), ('carcass', 21), ('cardidates', 18), ('cardioModel', 13), ('care', 22), ('caretEnsemble', 17), ('caribou', 17), ('CarletonStats', 16), ('CARLIT', 15), ('caroline', 23), ('caRpools', 22), ('cartography', 20), ('stsm', 26), ('listenv', 51), ('KFKSDS', 25), ('animalTrack', 20), ('animation', 126), ('anim.plots', 16), ('anoint', 16), ('ANOM', 19), ('tsoutliers', 27), ('anominate', 17), ('anonymizer', 14), ('AnthropMMD', 20), ('Anthropometry', 29), ('antitrust', 22), ('AntWeb', 35), ('aods3', 17), ('aoos', 18), ('aop', 14), ('aoristic', 17), ('ApacheLogProcessor', 17), ('apaStyle', 17), ('apaTables', 20), ('apc', 16), ('apcluster', 35), ('apex', 14), ('aplore3', 14), ('qtl', 65), ('HH', 96), ('apmsWAPP', 16), ('appell', 19), ('apple', 19), ('appnn', 14), ('approximator', 28), ('aprean3', 15), ('apricom', 14), ('aprof', 22), ('APSIM', 20), ('MALDIquant', 30), ('apsimr', 20), ('apsrtable', 30), ('apt', 24), ('apTreeshape', 32), ('aqfig', 25), ('aqp', 54), ('aqr', 20), ('kohonen', 54), ('caschrono', 19), ('caseMatch', 15), ('cat', 34), ('catdata', 34), ('cate', 12), ('catenary', 20), ('CateSelection', 15), ('cati', 16), ('catIrt', 16), ('catnet', 24), ('catR', 26), ('catspec', 33), ('causaldrf', 15), ('causaleffect', 14), ('CausalFX', 14), ('CausalGAM', 25), ('causalsens', 15), ('CAvariants', 15), ('cba', 57), ('CCAGFA', 22), ('ccaPP', 21), ('cccd', 22), ('ccChooser', 16), ('AR1seg', 18), ('ArArRedux', 15), ('archdata', 17), ('archetypes', 29), ('archiDART', 16), ('archivist', 28), ('EMCluster', 29), ('ArDec', 33), ('arf3DS4', 21), ('arfima', 21), ('ArfimaMLM', 18), ('argosfilter', 29), ('argparse', 24), ('argparser', 17), ('ArgumentCheck', 17), ('pander', 102), ('TraMineR', 39), ('future', 67), ('epiR', 57), ('arnie', 15), ('aroma.affymetrix', 30), ('aroma.apd', 35), ('aroma.cn', 25), ('aroma.core', 38), ('ARPobservation', 18), ('aRpsDCA', 17), ('arqas', 14), ('ArrayBin', 21), ('arrayhelpers', 21), ('ars', 29), ('viridis', 213), ('ART', 17), ('artfima', 19), ('ARTool', 23), ('ARTP', 18), ('arulesNBMiner', 30), ('arulesSequences', 33), ('arulesViz', 102), ('aRxiv', 18), ('asbio', 54), ('ascii', 44), ('asd', 26), ('asdreader', 14), ('ash', 60), ('asht', 14), ('ASMap', 20), ('aspace', 47), ('colorRamps', 50), ('CEC', 15), ('cec2005benchmark', 17), ('cec2013', 17), ('cccp', 16), ('cccrm', 19), ('ccda', 15), ('ccgarch', 35), ('cchs', 14), ('CCMnet', 20), ('CCpop', 18), ('CCTpack', 17), ('cda', 20), ('cdb', 15), ('cdcfluview', 15), ('cdcsis', 14), ('CDLasso', 17), ('cds', 12), ('shinythemes', 39), ('ASPBay', 18), ('aspect', 24), ('aSPU', 16), ('asremlPlus', 18), ('assertive', 28), ('assertive.base', 23), ('assertive.code', 23), ('assertive.data', 23), ('assertive.data.uk', 23), ('assertive.data.us', 23), ('assertive.datetimes', 23), ('assertive.files', 23), ('assertive.matrices', 23), ('assertive.models', 23), ('assertive.numbers', 23), ('assertive.properties', 23), ('assertive.reflection', 23), ('assertive.sets', 23), ('assertive.strings', 23), ('assertive.types', 23), ('assertr', 16), ('AssetPricing', 20), ('assist', 32), ('AssocTests', 16), ('AssotesteR', 19), ('aster', 32), ('aster2', 21), ('astro', 18), ('astrochron', 19), ('astrodatR', 17), ('astroFns', 19), ('astrolibR', 15), ('cubature', 103), ('astsa', 68), ('asVPC', 14), ('asympTest', 24), ('AsynchLong', 17), ('asypow', 35), ('ATE', 17), ('atmcmc', 16), ('ATmet', 19), ('AtmRay', 23), ('aTSA', 15), ('atsd', 14), ('attribrisk', 17), ('autoencoder', 20), ('geoRglm', 54), ('audiolyzR', 19), ('audit', 23), ('AutoModel', 17), ('autopls', 19), ('AutoregressionMDE', 15), ('autovarCore', 15), ('averisk', 14), ('aws', 36), ('awsMethods', 20), ('aylmer', 28), ('b6e6rl', 17), ('babar', 16), ('CEGO', 15), ('celestial', 17), ('CellularAutomaton', 27), ('cellVolumeDist', 23), ('cem', 29), ('cems', 16), ('CensMixReg', 13), ('censNID', 15), ('censReg', 31), ('CensRegMod', 16), ('cents', 15), ('CEoptim', 16), ('babel', 17), ('babynames', 28), ('BACA', 17), ('MCMCglmm', 44), ('compare', 35), ('BacArena', 16), ('backpipe', 16), ('backShift', 16), ('backtest', 37), ('shinyTree', 19), ('SHIP', 22), ('backtestGraphics', 16), ('BACprior', 21), ('bacr', 14), ('BAEssd', 19), ('Bagidis', 15), ('bagRboostR', 19), ('BalancedSampling', 18), ('bamdit', 20), ('BAMMtools', 30), ('bandit', 19), ('BANFF', 20), ('BANOVA', 18), ('bapred', 19), ('barcode', 31), ('stabs', 51), ('beanplot', 64), ('bartMachine', 22), ('base64', 70), ('baseline', 25), ('basicspace', 21), ('BASIX', 22), ('CePa', 18), ('cepp', 18), ('CerioliOutlierDetection', 17), ('cernn', 12), ('CFC', 16), ('CfEstimateQuantiles', 16), ('cg', 19), ('cgam', 17), ('cgAUC', 16), ('cgdsr', 23), ('cggd', 25), ('BAT', 19), ('batade', 21), ('batch', 25), ('BatchExperiments', 23), ('BatchJobs', 47), ('batman', 14), ('batteryreduction', 14), ('BayClone2', 17), ('BayesBD', 15), ('BayesBridge', 19), ('BayesComm', 19), ('bayescount', 30), ('BayesCR', 19), ('bayesDccGarch', 16), ('bayesDem', 23), ('pbapply', 66), ('PCDSpline', 15), ('dr', 38), ('BayesFactor', 29), ('bayesGARCH', 33), ('bayesGDS', 18), ('BayesGESM', 19), ('bayesLife', 31), ('hflights', 41), ('BayesLogit', 23), ('BayesMAMS', 16), ('bayesMCClust', 20), ('BayesMed', 20), ('nnls', 90), ('bayesmeta', 14), ('bayesmix', 38), ('BayesMixSurv', 17), ('BayesNI', 20), ('bayesPop', 18), ('bayespref', 20), ('bayesQR', 24), ('bayess', 20), ('BayesSAE', 19), ('BayesSingleSub', 20), ('cgh', 27), ('cghFLasso', 25), ('cghseg', 18), ('CGP', 20), ('cgwtools', 13), ('ChainLadder', 30), ('changepoint', 39), ('ChannelAttribution', 19), ('ChargeTransport', 15), ('BayesSummaryStatLM', 18), ('bayesSurv', 36), ('bayesTFR', 32), ('Bayesthresh', 21), ('BayesVarSel', 20), ('BayesXsrc', 23), ('BaylorEdPsych', 40), ('bayou', 19), ('BaySIC', 19), ('purrr', 19), ('bbefkr', 17), ('bbemkr', 23), ('BBEST', 18), ('bbmle', 80), ('bbo', 17), ('BBRecapture', 18), ('bc3net', 18), ('mboost', 69), ('BCDating', 20), ('BcDiag', 23), ('BCEA', 20), ('BCEE', 20), ('BCEs0', 19), ('Bclim', 20), ('bclust', 31), ('bcp', 34), ('bcpa', 20), ('bcpmeta', 16), ('BCRA', 15), ('bcRep', 14), ('bcrm', 26), ('bcrypt', 15), ('CHAT', 16), ('cheb', 25), ('chebpol', 19), ('CheckDigit', 17), ('checkpoint', 19), ('cheddar', 16), ('chemCal', 28), ('pedigreemm', 23), ('bcv', 24), ('bde', 16), ('BDgraph', 28), ('REEMtree', 25), ('bdots', 14), ('bdpv', 22), ('bdscale', 18), ('bdvis', 16), ('bdynsys', 17), ('beadarrayFilter', 20), ('flashClust', 116), ('BEANSP', 17), ('BEDASSLE', 19), ('BEDMatrix', 17), ('bedr', 14), ('beepr', 23), ('beeswarm', 35), ('benchden', 32), ('benchmark', 27), ('lsa', 39), ('chemometrics', 28), ('ChemometricsWithR', 23), ('PtProcess', 28), ('labdsv', 45), ('evd', 75), ('fUnitRoots', 64), ('MatrixEQTL', 19), ('gmm', 41), ('ecodist', 122), ('bigalgebra', 5), ('plot3Drgl', 18), ('VineCopula', 56), ('LiblineaR', 26), ('openintro', 50), ('copula', 92), ('ranger', 49), ('bioinactivation', 15), ('ChemometricsWithRData', 24), ('chemosensors', 15), ('infotheo', 35), ('inline', 106), ('ChemoSpec', 24), ('cherry', 19), ('childsds', 12), ('chillR', 15), ('chipPCR', 17), ('chngpt', 14), ('choiceDes', 14), ('ChoiceModelR', 19), ('mc2d', 53), ('futile.options', 149), ('futile.logger', 156), ('VIM', 73), ('lambda.r', 145), ('dpcR', 29), ('fda.usc', 45), ('choplump', 25), ('chopthin', 21), ('chords', 17), ('choroplethr', 30), ('geomorph', 23), ('msr', 26), ('SPmlficmcm', 31), ('SAFD', 38), ('RXMCDA', 34), ('choroplethrAdmin1', 14), ('choroplethrMaps', 23), ('chromer', 15), ('chromoR', 15), ('chunked', 12), ('CIDnetworks', 17), ('CIFsmry', 15), ('cin', 19), ('CINID', 16), ('CINOEDV', 16), ('CircE', 15), ('NPMPM', 20), ('geoCount', 17), ('hmeasure', 24), ('CARrampsOcl', 4), ('StanHeaders', 52), ('circlize', 48), ('CircNNTSR', 22), ('CircOutlier', 14), ('CircStats', 76), ('circular', 58), ('cIRT', 12), ('citbcmst', 19), ('ismev', 53), ('Causata', 5), ('energy', 59), ('JADE', 28), ('Rsymphony', 56), ('rneos', 32), ('fANCOVA', 22), ('fArma', 43), ('fAsianOptions', 43), ('fAssets', 45), ('fBonds', 34), ('fCertificates', 21), ('fCopulae', 48), ('fExoticOptions', 36), ('fExpressCertificates', 18), ('fExtremes', 54), ('fICA', 15), ('fImport', 35), ('fMultivar', 55), ('fNonlinear', 36), ('fOptions', 65), ('fPortfolio', 64), ('fRegression', 35), ('fTrading', 60), ('R2jags', 58), ('pastecs', 132), ('citccmst', 15), ('CityPlot', 19), ('cjoint', 16), ('ckanr', 13), ('cladoRcpp', 18), ('ClamR', 13), ('clarifai', 18), ('classGraph', 25), ('classifly', 29), ('classify', 18), ('classyfire', 14), ('SimplicialCubature', 16), ('FinancialInstrument', 26), ('accrued', 20), ('ddst', 23), ('ClickClust', 15), ('clickstream', 16), ('clifro', 17), ('ClimClass', 16), ('climdex.pcic', 20), ('clime', 19), ('cleangeo', 12), ('clere', 18), ('clhs', 17), ('ltm', 64), ('contrast', 43), ('climtrends', 12), ('climwin', 14), ('clinfun', 36), ('clinsig', 25), ('clinUtiDNA', 15), ('clipr', 13), ('clisymbols', 12), ('CLME', 17), ('clogitboost', 12), ('clogitL1', 16), ('cloudUtil', 16), ('profileModel', 103), ('deSolve', 124), ('SuppDists', 72), ('estimability', 64), ('pointdensityP', 13), ('gWidgetsRGtk2', 71), ('clpAPI', 20), ('clttools', 17), ('ClueR', 18), ('clues', 19), ('cluster.datasets', 22), ('clusterCrit', 17), ('clusterfly', 24), ('clusterGeneration', 58), ('clusterGenomics', 16), ('clustering.sc.dp', 12), ('clusterPower', 19), ('clusterRepro', 31), ('clusterSEs', 14), ('clusterSim', 55), ('ClusterStability', 15), ('clustertend', 14), ('clusteval', 14), ('ClustGeo', 13), ('clustMD', 14), ('ClustMMDD', 14), ('ClustOfVar', 28), ('clustrd', 14), ('clustsig', 19), ('ClustVarLV', 17), ('clustvarsel', 33), ('clv', 60), ('clValid', 30), ('cmaes', 22), ('CMF', 16), ('gRim', 25), ('pscl', 106), ('discretization', 21), ('googleVis', 201), ('glmmML', 68), ('exactci', 24), ('exact2x2', 24), ('erer', 29), ('cvTools', 33), ('lfe', 48), ('xgboost', 102), ('refGenome', 21), ('KoNLP', 162), ('granova', 29), ('dgof', 20), ('AOfamilies', 5), ('dnet', 18), ('eRm', 34), ('DistributionUtils', 61), ('GeneralizedHyperbolic', 60), ('ks', 107), ('SkewHyperbolic', 64), ('expm', 178), ('dynsurv', 18), ('R2wd', 60), ('rzmq', 12), ('ergm.count', 27), ('mongolite', 29), ('monogeneaGM', 11), ('gtrendsR', 48), ('nlsem', 16), ('lm.beta', 26), ('glasso', 71), ('d3Network', 55), ('ggm', 88), ('leafletR', 38), ('ecoengine', 30), ('HMM', 35), ('exactRankTests', 40), ('palettetown', 13), ('Ryacas', 31), ('mritc', 19), ('pcaPP', 113), ('MScombine', 11), ('MetABEL', 21), ('MSeasy', 17), ('MSeasyTkGUI', 17), ('gee', 98), ('ordinal', 49), ('cwhmisc', 31), ('TSMySQL', 17), ('ggfortify', 43), ('ez', 88), ('multibiplotGUI', 18), ('sROC', 47), ('RcmdrPlugin.EZR', 39), ('gsl', 132), ('OpenMx', 33), ('MBESS', 70), ('IDPmisc', 46), ('granovaGG', 19), ('musicNMR', 13), ('rdd', 20), ('Ecfun', 54), ('Ecdat', 83), ('locpol', 35), ('weatherr', 17), ('np', 69), ('openssl', 35), ('FuzzyToolkitUoN', 16), ('RockFab', 16), ('highfrequency', 88), ('OIsurv', 29), ('DMwR', 66), ('PAS', 17), ('mvQuad', 11), ('FuzzyNumbers', 18), ('JM', 32), ('qpcR', 32), ('RCassandra', 17), ('loopr', 15), ('ineq', 79), ('features', 30), ('geigen', 20), ('jmotif', 17), ('darch', 29), ('lessR', 27), ('EstCRM', 20), ('imputeTS', 22), ('kofnGA', 24), ('globals', 58), ('matchingR', 17), ('graphicalVAR', 12), ('R.devices', 61), ('R.huge', 37), ('R.filesets', 42), ('gsmoothr', 25), ('NeuralNetTools', 24), ('MM2S', 16), ('pracma', 104), ('paleoTS', 41), ('molaR', 18), ('homals', 36), ('randomForestSRC', 80), ('rARPACK', 29), ('Zelig', 126), ('kappalab', 37), ('ZeligChoice', 32), ('RGraphics', 48), ('shinyBS', 30), ('RPMG', 45), ('geoR', 93), ('SixSigma', 34), ('stochvol', 32), ('trend', 30), ('yuima', 29), ('Wats', 26), ('MARSS', 27), ('CR', 19), ('lavaan.survey', 51), ('CoCoAn', 3), ('Davies', 37), ('Design', 18), ('Devore5', 17), ('Devore6', 19), ('GRASS', 12), ('GenKern', 38), ('HI', 37), ('HyperbolicDist', 40), ('MCMCpack', 120), ('NISTnls', 32), ('Oarray', 35), ('PHYLOGR', 32), ('PTAk', 34), ('R2HTML', 100), ('RadioSonde', 33), ('Rwave', 37), ('SASmixed', 36), ('SenSrivastava', 33), ('StatDataML', 37), ('VaR', 13), ('adapt', 12), ('agce', 13), ('anm', 9), ('bim', 13), ('boolean', 16), ('brlr', 10), ('cfa', 22), ('classPP', 11), ('clim.pact', 17), ('clines', 9), ('cobs', 55), ('conf.design', 58), ('cramer', 38), ('dblcens', 33), ('deal', 40), ('diamonds', 17), ('lfstat', 24), ('tables', 70), ('lordif', 23), ('ftnonpar', 31), ('g.data', 35), ('gafit', 17), ('geepack', 110), ('genetics', 55), ('gld', 37), ('grasper', 8), ('gregmisc', 19), ('haplo.score', 4), ('hier.part', 34), ('hwde', 32), ('ifs', 34), ('its', 65), ('knnTree', 13), ('lasso2', 66), ('stylo', 25), ('dlm', 48), ('Metrics', 48), ('rainbow', 34), ('lgtdl', 36), ('linprog', 60), ('lmeSplines', 33), ('lmm', 33), ('logspline', 64), ('lokern', 76), ('lpridge', 36), ('maptree', 54), ('maxstat', 32), ('mclust1998', 1), ('merror', 35), ('mmlcr', 13), ('moc', 16), ('multiv', 2), ('ncomplete', 17), ('negenes', 34), ('nlmeODE', 36), ('nlrq', 5), ('nor1mix', 68), ('norm', 56), ('normalp', 36), ('noverlap', 17), ('npmc', 16), ('nprq', 4), ('odesolve', 18), ('orientlib', 32), ('oz', 44), ('pan', 52), ('panel', 17), ('pear', 35), ('pinktoe', 13), ('pls.pcr', 5), ('pps', 35), ('princurve', 33), ('pspline', 64), ('psy', 39), ('seao.gui', 4), ('seao', 4), ('serialize', 1), ('sma', 12), ('dispmod', 34), ('dse', 37), ('eha', 44), ('emme2', 32), ('emplik', 38), ('exactLoglinTest', 34), ('fdim', 16), ('forward', 46), ('PBSmodelling', 33), ('concord', 16), ('debug', 36), ('tapiR', 7), ('dbConnect', 16), ('doMPI', 9), ('Frames2', 21), ('ggRandomForests', 42), ('ora', 7), ('PAGWAS', 7), ('pathological', 12), ('pbdDEMO', 8), ('rCBA', 12), ('rcrypt', 7), ('mediation', 33), ('ROSE', 20), ('EMV', 10), ('GeneTS', 10), ('HighProbability', 8), ('Icens', 16), ('R2WinBUGS', 76), ('RArcInfo', 39), ('SIN', 36), ('SoPhy', 12), ('SparseLogReg', 10), ('VLMC', 33), ('metafor', 50), ('NanoStringNorm', 22), ('nat', 14), ('nat.templatebrains', 20), ('nbconvertR', 11), ('NBPSeq', 19), ('NCA', 14), ('ncappc', 21), ('ncbit', 24), ('ncdf4.helpers', 16), ('ncdf.tools', 24), ('nCDunnett', 21), ('ncf', 45), ('ncg', 16), ('NCmisc', 20), ('ncvreg', 30), ('ndl', 39), ('ndtv', 35), ('neariso', 19), ('NeatMap', 23), ('needy', 15), ('NEff', 15), ('neldermead', 38), ('neotoma', 14), ('nephro', 16), ('NEpiC', 12), ('NestedCohort', 25), ('nestedRanksTest', 14), ('netassoc', 19), ('netClass', 14), ('NetCluster', 22), ('NetComp', 17), ('iNEXT', 22), ('dynamicGraph', 34), ('evdbayes', 33), ('extRemes', 43), ('fortunes', 42), ('gap', 37), ('gllm', 28), ('gpclib', 52), ('gpls', 14), ('hapassoc', 32), ('proton', 17), ('Stat2Data', 26), ('hett', 36), ('httpRequest', 34), ('impute', 15), ('kza', 34), ('labstatR', 32), ('Hotelling', 19), ('treeglia', 8), ('twostage', 3), ('verify', 10), ('lazy', 32), ('ldDesign', 18), ('logistf', 43), ('mAr', 35), ('mathgraph', 35), ('meanscore', 3), ('mimR', 16), ('mvpart', 13), ('permax', 17), ('pgam', 31), ('phyloarray', 3), ('qcc', 61), ('REBayes', 6), ('SemiParSampleSel', 33), ('translate', 7), ('xgobi', 6), ('CoCo', 12), ('Geneland', 36), ('Malmig', 3), ('UNF', 25), ('VR', 12), ('accuracy', 15), ('MANCIE', 12), ('NLPutils', 14), ('nlreg', 21), ('NLRoot', 18), ('nlrr', 12), ('nls2', 31), ('nlsMicrobio', 14), ('nlsmsn', 16), ('nlstools', 38), ('NlsyLinks', 17), ('nlt', 24), ('nlts', 19), ('nLTT', 21), ('nlWaldTest', 14), ('nmcdr', 15), ('NMFN', 23), ('NMOF', 24), ('nnlasso', 12), ('NNTbiomarker', 13), ('nodeHarvest', 28), ('nodiv', 16), ('noia', 25), ('nomclust', 12), ('NominalLogisticBiplot', 15), ('noncensus', 19), ('nonlinearTseries', 18), ('nonnest2', 17), ('nonparaeff', 28), ('NonpModelCheck', 17), ('nonrandom', 22), ('nontarget', 16), ('nontargetData', 15), ('nopp', 16), ('geesmv', 17), ('NetData', 25), ('netgen', 17), ('netgsa', 14), ('NetIndices', 23), ('netmeta', 17), ('NetPreProc', 16), ('nets', 19), ('NetSim', 15), ('NetSwan', 12), ('nettools', 13), ('networkDynamicData', 15), ('networkreporting', 14), ('networksis', 27), ('neural', 23), ('neuroblastoma', 16), ('neuroim', 14), ('neuRosim', 17), ('Newdistns', 18), ('nFactors', 59), ('nFCA', 14), ('ngram', 16), ('ngramrr', 15), ('NHANES', 14), ('nhanesA', 14), ('NHEMOtree', 15), ('nhlscrapr', 18), ('NHMM', 14), ('NHMSAR', 12), ('NHPoisson', 18), ('nicheROVER', 14), ('NightDay', 19), ('Nippon', 40), ('NIPTeR', 12), ('NISTunits', 14), ('nivm', 12), ('NlcOptim', 12), ('nlmeU', 16), ('nlmrt', 15), ('nlnet', 12), ('SimRAD', 18), ('chplot', 16), ('clac', 12), ('climatol', 16), ('concor', 33), ('drfit', 33), ('eba', 32), ('ebayesthresh', 1), ('edci', 11), ('epsi', 11), ('Sim.DiffProc', 27), ('fSeries', 14), ('gRbase', 58), ('hierfstat', 44), ('hopach', 15), ('boost', 9), ('nordklimdata1', 15), ('NormalGamma', 20), ('NormalLaplace', 15), ('NormPsy', 14), ('NORMT3', 30), ('normtest', 17), ('normwhn.test', 21), ('NORRRM', 12), ('NORTARA', 12), ('nose', 16), ('NostalgiR', 12), ('notifyR', 16), ('novelist', 12), ('noweb', 14), ('Nozzle.R1', 20), ('nparACT', 12), ('nparcomp', 33), ('nparLD', 22), ('NPBayesImpute', 18), ('npbr', 16), ('NPC', 15), ('NPCD', 18), ('NPCirc', 17), ('npcp', 17), ('npde', 29), ('NPHMC', 18), ('npIntFactRep', 22), ('nplplot', 25), ('nplr', 16), ('NPMLEcmprsk', 16), ('npmlreg', 28), ('npmv', 17), ('NPMVCP', 16), ('nppbib', 22), ('npregfast', 13), ('NPS', 17), ('npsf', 13), ('NPsimex', 18), ('npsm', 17), ('npsp', 16), ('npst', 22), ('npsurv', 15), ('NSA', 18), ('nscancor', 16), ('NScluster', 17), ('nsga2R', 16), ('nsgp', 18), ('NSM3', 17), ('nsprcomp', 16), ('nsRFA', 29), ('NSUM', 14), ('nullabor', 19), ('numbers', 20), ('numOSL', 15), ('locfdr', 28), ('maanova', 14), ('magic', 78), ('matlab', 62), ('mcgibbsit', 31), ('mlica', 9), ('ouch', 34), ('pcurve', 15), ('pryr', 51), ('gistr', 19), ('ppcor', 56), ('glcm', 24), ('intcox', 32), ('kinship', 15), ('knncat', 30), ('vabayelMix', 11), ('SoDA', 28), ('psychomix', 21), ('fma', 92), ('expsmooth', 93), ('ppc', 11), ('qvalue', 14), ('EbayesThresh', 39), ('GeneNT', 9), ('HTMLapplets', 8), ('LDheatmap', 34), ('LogicReg', 45), ('MEMSS', 46), ('PK', 32), ('doMC', 102), ('oaColors', 13), ('oai', 38), ('OAIHarvester', 24), ('oapackage', 12), ('oaPlots', 13), ('OasisR', 14), ('oaxaca', 16), ('objectProperties', 18), ('objectSignals', 18), ('obliclus', 16), ('obliqueRF', 25), ('oblique.tree', 31), ('obs.agree', 15), ('nws', 57), ('changeLOS', 16), ('RcmdrPlugin.EBM', 23), ('RcmdrPlugin.NMBU', 20), ('woe', 26), ('ProbForecastGOP', 28), ('RII', 10), ('ResistorArray', 31), ('Rlab', 36), ('SciViews', 29), ('SemiPar', 38), ('SeqKnn', 14), ('OBsMD', 13), ('obsSens', 24), ('oc', 28), ('occ', 19), ('oce', 32), ('ocean', 15), ('OceanView', 14), ('ocedata', 19), ('ocomposition', 15), ('OData', 12), ('ODB', 18), ('odds.converter', 17), ('odeintr', 14), ('odfWeave', 47), ('odfWeave.survey', 25), ('ODMconverter', 15), ('OECD', 18), ('oem', 17), ('oglmx', 12), ('Ohmage', 17), ('OIdata', 21), ('DoE.base', 47), ('FrF2', 45), ('daewr', 18), ('RcmdrPlugin.temis', 22), ('rFerns', 36), ('ctv', 38), ('cyclones', 14), ('eco', 19), ('ensembleBMA', 31), ('far', 29), ('frailtypack', 42), ('gcmrec', 14), ('genalg', 42), ('mcmc', 42), ('micEcon', 36), ('mefa4', 25), ('megaptera', 18), ('meifly', 26), ('mem', 18), ('memgene', 15), ('memuse', 16), ('MenuCollection', 14), ('MergeGUI', 19), ('merTools', 15), ('MESS', 18), ('meta4diag', 11), ('MetabolAnalyze', 22), ('metabolomics', 14), ('metacom', 18), ('metacor', 23), ('MetaCycle', 12), ('MetaDE', 17), ('dynlm', 83), ('RegressionFactory', 15), ('pkgKitten', 29), ('proftools', 32), ('reader', 20), ('RQDA', 31), ('lifecontingencies', 21), ('metafolio', 12), ('metafuse', 12), ('metagear', 11), ('metagen', 17), ('MetaLandSim', 16), ('metaLik', 19), ('metaMA', 23), ('metamisc', 17), ('metaMix', 13), ('metansue', 12), ('metap', 17), ('MetaPath', 13), ('MetaPCA', 19), ('metaplus', 16), ('lmerTest', 81), ('QRM', 24), ('smss', 20), ('MetaQC', 19), ('metaRNASeq', 15), ('metaSEM', 14), ('metasens', 15), ('MetaSKAT', 16), ('metatest', 22), ('Metatron', 16), ('meteo', 13), ('meteoForecast', 19), ('meteogRam', 17), ('meteR', 14), ('MetFns', 14), ('Meth27QC', 19), ('MethComp', 20), ('Methplot', 15), ('MethylCapSig', 12), ('MetNorm', 14), ('metricsgraphics', 16), ('Kendall', 71), ('demography', 32), ('difR', 22), ('SDMTools', 52), ('metRology', 17), ('mets', 24), ('MetSizeR', 15), ('MetStaT', 15), ('mev', 12), ('mewAvg', 15), ('MExPosition', 16), ('MF', 15), ('MFAg', 13), ('MFHD', 15), ('mFilter', 38), ('MfUSampler', 14), ('mfx', 28), ('mglmn', 12), ('mgm', 12), ('mgpd', 24), ('mgraph', 17), ('MGRASTer', 15), ('MGSDA', 15), ('mGSZ', 15), ('MHadaptive', 20), ('mhde', 12), ('mHG', 12), ('mhsmm', 25), ('mht', 21), ('ggExtra', 25), ('knitcitations', 38), ('rgbif', 43), ('egcm', 24), ('IBrokers', 28), ('RNeo4j', 18), ('rncl', 24), ('mailR', 62), ('rotl', 13), ('mhurdle', 24), ('miceadds', 45), ('micEconAids', 24), ('micEconCES', 23), ('micEconSNQP', 23), ('MicroDatosEs', 15), ('micromap', 21), ('micromapST', 17), ('micropan', 14), ('MicroStrategyR', 14), ('MicSim', 20), ('midasr', 17), ('midrangeMCP', 13), ('MigClim', 17), ('migest', 18), ('MIIVsem', 17), ('MImix', 23), ('Miney', 19), ('PMCMR', 43), ('sjmisc', 66), ('turner', 27), ('fossil', 30), ('gamlss.data', 59), ('lda', 74), ('gamlss.dist', 69), ('stm', 25), ('gamlss', 55), ('gcookbook', 31), ('mixAK', 22), ('gamlss.tr', 28), ('zoom', 20), ('mixsep', 18), ('RH2', 30), ('QuantPsyc', 66), ('shinybootstrap2', 20), ('qdm', 12), ('QFRM', 12), ('qgtools', 14), ('qicharts', 16), ('qiimer', 16), ('qlcData', 12), ('qlcMatrix', 18), ('qlcVisualize', 12), ('qLearn', 16), ('qmap', 18), ('qmethod', 14), ('qmrparser', 17), ('QoLR', 15), ('viridisLite', 14), ('virtualspecies', 15), ('visreg', 31), ('visualFields', 17), ('visualize', 17), ('QCGWAS', 15), ('qclust', 14), ('qcr', 14), ('QCSIS', 12), ('epibasix', 28), ('EpiBayes', 13), ('EpiContactTrace', 15), ('epiDisplay', 17), ('vitality', 17), ('VizOR', 16), ('VLF', 16), ('vmsbase', 16), ('VNM', 15), ('Voss', 17), ('itertools', 758), ('vows', 17), ('VoxR', 17), ('Lambda4', 17), ('VPdtw', 22), ('vscc', 16), ('VSURF', 21), ('VTrack', 13), ('vtreat', 20), ('vudc', 15), ('W2CWM2C', 17), ('W3CMarkupValidator', 15), ('waffect', 17), ('waffle', 13), ('wahc', 16), ('wakefield', 13), ('walkr', 13), ('warbleR', 17), ('WARN', 16), ('OpenMPController', 18), ('water', 14), ('waterData', 21), ('WaterML', 13), ('EpiDynamics', 18), ('epifit', 16), ('EpiModel', 23), ('epinet', 23), ('episensr', 13), ('episplineDensity', 13), ('WaveletComp', 18), ('flare', 14), ('wBoot', 13), ('wbs', 17), ('wbsts', 13), ('WCE', 16), ('WCQ', 17), ('weatherData', 30), ('webchem', 20), ('gWidgetstcltk', 38), ('webreadr', 13), ('webuse', 13), ('webutils', 18), ('wec', 13), ('WeightedCluster', 19), ('WeightedPortTest', 19), ('psychometric', 34), ('weightTAPSPACK', 13), ('wellknown', 19), ('wesanderson', 25), ('wfe', 18), ('WGCNA', 38), ('wgsea', 17), ('Eplot', 13), ('epoc', 19), ('epr', 15), ('EQL', 23), ('eqs2lavaan', 15), ('eqtl', 22), ('equate', 31), ('WhatIf', 34), ('WhiteStripe', 15), ('whoami', 14), ('whoapi', 13), ('WhopGenome', 16), ('widals', 18), ('widenet', 16), ('WikidataR', 14), ('WikipediaR', 13), ('wikipediatrend', 16), ('qPCR.CT', 18), ('QPot', 13), ('qqman', 27), ('qqtest', 14), ('qrage', 12), ('qrcode', 13), ('qrfactor', 17), ('qrjoint', 12), ('qrLMM', 14), ('qrmtools', 16), ('qrng', 14), ('qrNLMM', 14), ('qrnn', 29), ('QSARdata', 23), ('qte', 12), ('WilcoxCV', 27), ('wildlifeDI', 15), ('wildpoker', 13), ('windex', 15), ('wingui', 13), ('TukeyC', 25), ('wiod', 13), ('WiSEBoot', 15), ('withr', 26), ('witness', 17), ('wkb', 17), ('WMCapacity', 21), ('WMDB', 17), ('dbmss', 54), ('prob', 38), ('wmlf', 13), ('wordbankr', 13), ('wordmatch', 16), ('WordPools', 17), ('wPerm', 13), ('wpp2008', 16), ('wpp2010', 18), ('wpp2012', 19), ('wpp2015', 20), ('wppExplorer', 15), ('wqs', 13), ('equateIRT', 24), ('equivalence', 30), ('erboost', 14), ('ergm.graphlets', 14), ('ergm.userterms', 19), ('ergmharris', 15), ('ERP', 15), ('wrassp', 13), ('WrightMap', 24), ('WRS2', 30), ('wrspathrow', 16), ('wrspathrowData', 17), ('likert', 36), ('wru', 12), ('wskm', 24), ('wsrf', 22), ('wtcrsk', 24), ('WufooR', 13), ('wux', 15), ('WWGbook', 29), ('x12GUI', 19), ('XBRL', 20), ('x.ent', 15), ('xergm', 26), ('xergm.common', 28), ('xhmmScripts', 15), ('XHWE', 14), ('XiMpLe', 24), ('xkcd', 18), ('erp.easy', 11), ('xmeta', 17), ('Xmisc', 13), ('XML2R', 21), ('qtlbook', 22), ('qtlcharts', 12), ('qtlDesign', 31), ('qtlhot', 16), ('qtlmt', 23), ('qtlnet', 16), ('QTLRel', 27), ('QuACN', 20), ('quad', 14), ('quadrupen', 16), ('qualCI', 14), ('QualInt', 14), ('qualV', 30), ('qualvar', 12), ('quantable', 12), ('quantchem', 33), ('quantification', 15), ('QuantifQuantile', 15), ('quantileDA', 12), ('ncdf4', 64), ('XMRF', 14), ('XNomial', 16), ('xoi', 20), ('xseq', 14), ('xtal', 16), ('yakmoR', 15), ('YaleToolkit', 31), ('ycinterextra', 18), ('yCrypticRNAs', 14), ('yhatr', 16), ('YieldCurve', 26), ('ykmeans', 18), ('YplantQMC', 17), ('YPmodel', 21), ('YuGene', 23), ('yummlyr', 15), ('zCompositions', 16), ('ZeBook', 18), ('ZeligMultilevel', 20), ('zendeskR', 17), ('zetadiv', 13), ('erpR', 13), ('ES', 18), ('esaBcv', 13), ('ZIM', 17), ('zoib', 20), ('zooaRch', 17), ('zooimage', 18), ('zoon', 14), ('ZRA', 13), ('ztable', 15), ('Segmentor3IsBack', 17), ('ESEA', 15), ('dynamicTreeCut', 48), ('quantregForest', 41), ('quantregGrowth', 17), ('quantspec', 21), ('QuantumClone', 16), ('QuasiSeq', 16), ('questionr', 28), ('queueing', 24), ('QUIC', 18), ('quickmapr', 12), ('quickpsy', 15), ('quint', 14), ('quipu', 14), ('Quor', 12), ('qut', 17), ('qVarSel', 14), ('qwraps2', 16), ('QZ', 15), ('RcppProgress', 19), ('Imap', 20), ('hypergeo', 44), ('pso', 40), ('compoisson', 27), ('lsei', 17), ('irtoys', 27), ('ESG', 17), ('ESGtoolkit', 15), ('ESKNN', 13), ('EstHer', 11), ('estout', 22), ('EstSimPDMP', 15), ('GANPAdata', 19), ('EnsembleBase', 16), ('lfda', 14), ('getopt', 45), ('fastclime', 15), ('scholar', 24), ('intamap', 24), ('filenamer', 13), ('R2SWF', 18), ('imputeYn', 16), ('logcondens', 43), ('orthopolynom', 34), ('gWidgets2', 15), ('CompQuadForm', 46), ('etable', 18), ('etasFLP', 14), ('ETC', 26), ('ETLUtils', 18), ('etma', 11), ('eulerian', 15), ('euroMix', 16), ('EurosarcBayes', 11), ('DAAGxtras', 29), ('optimbase', 35), ('DPpackage', 33), ('HSAUR2', 42), ('R0', 16), ('R1magic', 18), ('R2admb', 31), ('R2BayesX', 19), ('R2Cuba', 23), ('r2d2', 15), ('r2dRue', 21), ('R2G2', 17), ('R2GUESS', 15), ('r2lh', 21), ('R2MLwiN', 20), ('R2OpenBUGS', 41), ('R2PPT', 22), ('R2STATS', 17), ('r2stl', 16), ('Rfit', 39), ('mco', 26), ('pvclust', 70), ('MCPAN', 24), ('drc', 38), ('findpython', 22), ('optimsimplex', 35), ('lpSolveAPI', 66), ('fingerprint', 31), ('SLC', 29), ('eurostat', 12), ('EvalEst', 22), ('Evapotranspiration', 14), ('EvCombR', 14), ('rJython', 27), ('sysfonts', 24), ('OpenStreetMap', 41), ('omd', 22), ('R330', 16), ('R4CDISC', 14), ('R4CouchDB', 15), ('r4ss', 23), ('race', 30), ('RAD', 19), ('RADami', 15), ('radar', 14), ('radiomics', 13), ('radir', 14), ('RadOnc', 14), ('RadTran', 14), ('RAdwords', 16), ('rafalib', 38), ('rags2ridges', 19), ('RAHRS', 13), ('raincpc', 14), ('rainfreq', 14), ('rAltmetric', 16), ('RAM', 21), ('Rambo', 16), ('SuperLearner', 24), ('pssm', 15), ('TreeSim', 24), ('isotone', 22), ('eVenn', 27), ('eventInterval', 17), ('events', 18), ('eventstudies', 15), ('googlesheets', 20), ('Iso', 27), ('elliptic', 49), ('lmomco', 33), ('rglwidget', 56), ('rglobi', 17), ('Rook', 25), ('histogram', 24), ('ivfixed', 18), ('GenSA', 42), ('linkcomm', 20), ('EcoHydRology', 22), ('log4r', 23), ('pdist', 20), ('crossmatch', 20), ('rAmCharts', 14), ('Ramd', 14), ('ramify', 14), ('RAMP', 14), ('RAMpath', 17), ('ramps', 28), ('randaes', 31), ('randNames', 12), ('random.polychor.pa', 20), ('randomForest.ddR', 15), ('randomGLM', 20), ('randomizationInference', 15), ('randomizeBE', 17), ('randomizeR', 12), ('randomizr', 19), ('randomLCA', 40), ('randomNames', 18), ('randomUniformForest', 16), ('randtests', 22), ('DoseFinding', 29), ('RNetCDF', 40), ('SKAT', 21), ('evmix', 14), ('evobiR', 15), ('evolqg', 20), ('evolvability', 13), ('EvoRAG', 14), ('evt0', 14), ('HadoopStreaming', 30), ('Rfacebook', 38), ('qtbase', 7), ('PearsonDS', 28), ('pipeR', 22), ('evtree', 28), ('EW', 11), ('EWGoF', 16), ('Exact', 19), ('ore', 21), ('RMAWGEN', 24), ('RandVar', 32), ('rangemodelR', 13), ('RankAggreg', 25), ('Rankcluster', 16), ('rankdist', 12), ('RankResponse', 15), ('RANKS', 14), ('RANN.L1', 12), ('RAP', 15), ('RapidPolygonLookup', 15), ('RAPIDR', 14), ('RApiSerialize', 18), ('rapport', 25), ('rapportools', 19), ('rareGE', 14), ('rareNMtests', 15), ('Rarity', 17), ('heatmap.plus', 34), ('kyotil', 22), ('dplR', 35), ('IMIS', 22), ('ExactCIdiff', 15), ('exactmeta', 15), ('ExactPath', 16), ('exams', 30), ('ExceedanceTools', 16), ('loglognorm', 30), ('excel.link', 26), ('exCon', 15), ('excursions', 14), ('ExomeDepth', 17), ('FGN', 28), ('RaschSampler', 29), ('rase', 16), ('RateDistortion', 12), ('raters', 15), ('rationalfun', 17), ('RAtmosphere', 19), ('rAverage', 20), ('rAvis', 14), ('rbamtools', 19), ('rbefdata', 17), ('rBeta2009', 16), ('rbhl', 15), ('RbioRXN', 14), ('rbiouml', 16), ('rbison', 30), ('Rbitcoin', 16), ('rbitcoinchartsapi', 14), ('Rblpapi', 27), ('expands', 21), ('ExpDes', 16), ('ExpDes.pt', 14), ('lawstat', 71), ('rpivotTable', 17), ('pgirmess', 77), ('lsr', 61), ('expectreg', 19), ('experiment', 28), ('expert', 23), ('ExplainPrediction', 11), ('expoRkit', 15), ('ExPosition', 17), ('rbmn', 15), ('Rborist', 15), ('RBPcurve', 19), ('rbundler', 16), ('RCALI', 17), ('rcanvec', 14), ('Rcapture', 32), ('rCarto', 16), ('rcbalance', 21), ('RCEIM', 15), ('gmnl', 17), ('countrycode', 36), ('expoTree', 16), ('expp', 14), ('exptest', 16), ('exreport', 11), ('exsic', 14), ('ABCoptim', 25), ('ABCanalysis', 26), ('RcmdrPlugin.FactoMineR', 38), ('pedigree', 24), ('Rcell', 16), ('RcellData', 13), ('Rcereal', 12), ('rchallenge', 16), ('rchess', 16), ('Rchoice', 16), ('rChoiceDialogs', 20), ('rcicr', 14), ('RCircos', 21), ('RClimMAWGEN', 16), ('rClinicalCodes', 14), ('rclinicaltrials', 14), ('RClone', 12), ('Rclusterpp', 19), ('rCMA', 16), ('RcmdrPlugin.BCA', 33), ('RcmdrPlugin.coin', 26), ('RcmdrPlugin.depthTools', 26), ('RcmdrPlugin.DoE', 31), ('RcmdrPlugin.doex', 27), ('RcmdrPlugin.EACSPIR', 21), ('RcmdrPlugin.EcoVirtual', 20), ('RcmdrPlugin.epack', 39), ('RcmdrPlugin.Export', 28), ('partitions', 55), ('ssym', 20), ('ExtDist', 14), ('extfunnel', 18), ('extlasso', 12), ('extraBinomial', 16), ('extracat', 27), ('rinat', 16), ('trimTrees', 17), ('isa2', 43), ('crossval', 18), ('soilphysics', 16), ('prefmod', 43), ('QCA', 31), ('ExtremeBounds', 16), ('extremevalues', 23), ('extremogram', 11), ('extWeibQuant', 13), ('eyetracking', 17), ('eyetrackingR', 11), ('ezec', 11), ('ezglm', 15), ('ezknitr', 15), ('ezsim', 18), ('ezsummary', 11), ('FacPad', 15), ('FactMixtAnalysis', 18), ('FACTMLE', 11), ('hdi', 33), ('gamm4', 42), ('gputools', 13), ('UScensus2010', 25), ('extraTrees', 22), ('DescTools', 61), ('fftw', 37), ('FactoClass', 23), ('factorplot', 15), ('factorQR', 22), ('FACTscorer', 11), ('factualR', 19), ('FADA', 13), ('FAdist', 22), ('Fahrmeir', 46), ('FAiR', 25), ('faisalconjoint', 16), ('falcon', 13), ('falsy', 14), ('fame', 28), ('Familias', 22), ('FAMILY', 13), ('FAmle', 16), ('FrF2.catlg128', 24), ('RcmdrPlugin.HH', 40), ('RcmdrPlugin.IPSUR', 35), ('RcmdrPlugin.KMggplot2', 30), ('RcmdrPlugin.lfstat', 20), ('RcmdrPlugin.MA', 22), ('RcmdrPlugin.mosaic', 26), ('RcmdrPlugin.MPAStats', 21), ('RcmdrPlugin.orloca', 30), ('RcmdrPlugin.plotByGroup', 21), ('RcmdrPlugin.pointG', 24), ('RcmdrPlugin.qual', 30), ('RcmdrPlugin.RMTCJags', 19), ('RcmdrPlugin.ROC', 19), ('RcmdrPlugin.sampling', 21), ('RcmdrPlugin.SCDA', 21), ('RcmdrPlugin.seeg', 21), ('RcmdrPlugin.SLC', 28), ('RcmdrPlugin.SM', 21), ('RcmdrPlugin.sos', 26), ('RcmdrPlugin.steepness', 25), ('RcmdrPlugin.survival', 31), ('RcmdrPlugin.TeachingDemos', 32), ('RcmdrPlugin.UCA', 24), ('RCMIP5', 13), ('Rcolombos', 19), ('RConics', 14), ('rcorpora', 14), ('RCPmod', 15), ('Rcpp11', 15), ('RcppAnnoy', 17), ('RcppBDT', 19), ('rcppbugs', 18), ('RcppClassic', 18), ('RcppClassicExamples', 15), ('RcppCNPy', 17), ('js', 16), ('fontcm', 16), ('GANPA', 18), ('paleofire', 21), ('opencpu', 22), ('GeneNet', 33), ('GEOmap', 36), ('soilwater', 18), ('lgarch', 16), ('HSAUR', 66), ('gWidgets2RGtk2', 16), ('lmom', 34), ('rdrop2', 24), ('Rlof', 15), ('ppls', 37), ('interval', 24), ('synbreed', 20), ('colorfulVennPlot', 17), ('FAMT', 19), ('fanc', 15), ('fancycut', 11), ('fanovaGraph', 18), ('FAOSTAT', 16), ('faoutlier', 23), ('farsi', 15), ('fast', 27), ('FastBandChol', 11), ('fastcox', 16), ('fastdigest', 12), ('fastGHQuad', 17), ('FastGP', 16), ('FastHCS', 16), ('fastHICA', 14), ('FastImputation', 15), ('FastKM', 12), ('FastKNN', 13), ('fastM', 13), ('crs', 18), ('crskdiag', 11), ('crunch', 18), ('cruts', 12), ('CrypticIBDcheck', 18), ('CryptRndTest', 14), ('csampling', 16), ('cSFM', 14), ('cshapes', 30), ('cslogistic', 31), ('csn', 15), ('csrplus', 13), ('csSAM', 17), ('cstar', 15), ('csvread', 16), ('ctmcmove', 11), ('ctmm', 16), ('RcppRoll', 18), ('semTools', 41), ('cts', 28), ('ctsem', 13), ('CTTShiny', 14), ('CUB', 12), ('cubfits', 13), ('IPSUR', 29), ('splm', 28), ('rGammaGamma', 21), ('lisrelToR', 35), ('rockchalk', 49), ('semPlot', 58), ('TSmisc', 16), ('cudaBayesregData', 21), ('cudia', 15), ('CUMP', 16), ('cumplyr', 15), ('cumSeg', 20), ('GWG', 16), ('DirichletReg', 27), ('currentSurvival', 17), ('curvetest', 22), ('curvHDR', 19), ('cusp', 18), ('phenology', 16), ('phia', 29), ('phom', 5), ('phonR', 20), ('phonTools', 17), ('phtt', 18), ('phyloland', 15), ('phylolm', 17), ('phyreg', 15), ('pkgutils', 2), ('pks', 17), ('planor', 17), ('plfm', 16), ('plmDE', 16), ('plmm', 16), ('pln', 19), ('plot2groups', 16), ('plotKML', 23), ('plotMCMC', 18), ('plsRbeta', 17), ('pmcgd', 15), ('pmmlTransformations', 22), ('pnmtrem', 17), ('pnn', 15), ('pocrm', 17), ('poisson.glm.mix', 17), ('polyaAeppli', 16), ('polywog', 17), ('pom', 15), ('popRange', 15), ('popReconstruct', 16), ('popgraph', 17), ('poppr', 22), ('popsom', 15), ('postCP', 3), ('poweRlaw', 18), ('powerAnalysis', 15), ('powerpkg', 28), ('ppstat', 5), ('pqantimalarials', 15), ('prLogistic', 18), ('pragma', 17), ('praktikum', 15), ('predmixcor', 25), ('prettyGraphs', 17), ('prettyR', 76), ('prevR', 16), ('prim', 43), ('primer', 22), ('prinsimp', 15), ('probsvm', 17), ('processdata', 5), ('profdpm', 24), ('profr', 28), ('prognosticROC', 15), ('proj4', 35), ('propagate', 15), ('prospectr', 18), ('protViz', 18), ('proteomicdesign', 16), ('protiq', 16), ('protoclass', 18), ('protoclust', 19), ('protr', 22), ('psbcGroup', 16), ('psd', 17), ('pseudo', 25), ('psgp', 23), ('psidR', 17), ('pspearman', 27), ('psychotools', 28), ('psychotree', 28), ('psyphy', 26), ('psytabs', 18), ('pt', 3), ('ptinpoly', 21), ('ptw', 27), ('pubmed.mineR', 15), ('pumilioR', 15), ('pvar', 16), ('pvclass', 25), ('pvsR', 15), ('pwt8', 17), ('pwt', 30), ('pxR', 20), ('pyramid', 24), ('qat', 18), ('qfa', 1), ('qlspack', 12), ('qp', 13), ('qtlbim', 15), ('rentrez', 19), ('referenceIntervals', 15), ('regpro', 19), ('qualityTools', 8), ('rCUR', 22), ('rDNA', 19), ('rEMM', 20), ('rHpcc', 16), ('rLakeAnalyzer', 15), ('rLindo', 14), ('rPlant', 19), ('rawFasta', 4), ('rdryad', 17), ('rdyncall', 2), ('readMLData', 20), ('readbitmap', 20), ('reams', 17), ('rebird', 31), ('reccsim', 4), ('recluster', 16), ('recommenderlabBX', 17), ('recommenderlabJester', 17), ('entropy', 55), ('genderizeR', 14), ('rfigshare', 23), ('sanon', 16), ('sbioPN', 15), ('scalreg', 31), ('scam', 18), ('scar', 15), ('schoRsch', 20), ('scidb', 16), ('scio', 16), ('scoring', 16), ('rehh', 16), ('relSim', 16), ('relaxnet', 15), ('repfdr', 15), ('reportRx', 17), ('represent', 16), ('resample', 17), ('restlos', 16), ('restorepoint', 16), ('retimes', 18), ('rexpokit', 20), ('rfPermute', 19), ('rfishbase', 22), ('rfisheries', 15), ('rforensicbatwing', 17), ('rgabriel', 15), ('rgauges', 3), ('rgexf', 18), ('ri', 16), ('ridge', 32), ('ringbuffer', 4), ('risaac', 2), ('riskRegression', 24), ('rite', 15), ('riv', 22), ('riverplot', 17), ('rivervis', 15), ('rknn', 21), ('rkt', 18), ('rlme', 4), ('rmaf', 17), ('rmatio', 15), ('rmmseg4j', 2), ('rmngb', 15), ('rmp', 15), ('rms.gof', 16), ('rnoaa', 30), ('robcor', 16), ('robumeta', 16), ('robustHD', 20), ('robustfa', 16), ('robustgam', 20), ('robustlmm', 16), ('robustloggamma', 17), ('ror', 18), ('rotations', 19), ('royston', 15), ('rpartScore', 16), ('rpartitions', 16), ('rpf', 45), ('rplos', 25), ('rplotengine', 17), ('rportfolios', 17), ('rspear', 4), ('rvHPDT', 15), ('rvertnet', 40), ('sExtinct', 16), ('sGPCA', 16), ('sae', 16), ('samplesize4surveys', 18), ('samplingVarEst', 17), ('sdnet', 16), ('sdprisk', 19), ('sealasso', 16), ('seasonal', 24), ('seawaveQ', 17), ('seeg', 20), ('seem', 16), ('semGOF', 16), ('semiArtificial', 15), ('semisupKernelPCA', 16), ('sensitivitymv', 16), ('seqMeta', 15), ('seqPERM', 16), ('seqminer', 19), ('sequences', 15), ('servr', 24), ('sesem', 15), ('severity', 16), ('sft', 17), ('sglOptim', 15), ('sgof', 20), ('sgr', 18), ('SunterSampling', 18), ('perm', 38), ('PopGenome', 22), ('shotGroups', 23), ('showtext', 26), ('shrink', 16), ('shuffle', 16), ('sidier', 17), ('sig', 16), ('sigora', 2), ('simMSM', 16), ('simSummary', 17), ('simplexreg', 16), ('simsem', 35), ('siplab', 18), ('sirad', 23), ('sirt', 37), ('sitools', 19), ('sjPlot', 62), ('sjdbc', 16), ('skatMeta', 17), ('skda', 16), ('sltl', 1), ('smaa', 16), ('smart', 17), ('smcUtils', 18), ('smcure', 18), ('smdata', 19), ('smdc', 17), ('sme', 16), ('smoothHR', 21), ('sms', 21), ('snapshot', 16), ('snpEnrichment', 18), ('soc.ca', 16), ('softImpute', 16), ('soilDB', 31), ('soilprofile', 16), ('solr', 28), ('soobench', 19), ('soundecology', 15), ('source.gist', 17), ('spMC', 17), ('spTimer', 20), ('spaMM', 21), ('spaceExt', 18), ('spacejam', 16), ('spacom', 20), ('resemble', 16), ('FKF', 30), ('ghyp', 31), ('sparc', 16), ('sparseBC', 16), ('sparseHessianFD', 17), ('sparseLTSEigen', 19), ('sparsediscrim', 16), ('sparsenet', 17), ('spartan', 20), ('spate', 17), ('spatial.tools', 22), ('spatialkernel', 27), ('spatialprobit', 23), ('spatsurv', 21), ('spcadjust', 26), ('spcov', 18), ('spcr', 16), ('speccalt', 16), ('specificity', 16), ('speedRlibTF', 2), ('sperrorest', 17), ('spfrontier', 17), ('sphereplot', 20), ('spider', 18), ('splusTimeDate', 16), ('splusTimeSeries', 16), ('sprsmdl', 17), ('spsmooth', 16), ('spt', 18), ('sqliter', 19), ('sqlshare', 4), ('sqlutils', 23), ('ssfit', 16), ('ssmrob', 17), ('sss', 18), ('ssvd', 16), ('stacomirtools', 16), ('standGL', 3), ('VarianceGamma', 31), ('RGtk2Extras', 39), ('RNCEP', 23), ('contfrac', 43), ('gPdtest', 30), ('tab', 20), ('table1xls', 16), ('tableone', 25), ('tabplotd3', 17), ('tabuSearch', 18), ('tawny.types', 20), ('taxize', 50), ('tbart', 16), ('tbdiag', 16), ('teigen', 25), ('tempdisagg', 21), ('stellaR', 17), ('stilt', 16), ('stocc', 20), ('stppResid', 17), ('stpp', 17), ('strap', 17), ('straweib', 16), ('stream', 21), ('structSSI', 22), ('strum', 16), ('strvalidator', 16), ('suRtex', 17), ('subtype', 17), ('superbiclust', 16), ('superdiag', 17), ('support.BWS', 16), ('surface', 17), ('surv2sampleComp', 16), ('survIDINRI', 19), ('survMisc', 21), ('survSNP', 17), ('survexp.fr', 17), ('surveydata', 18), ('survivalMPL', 16), ('survsim', 19), ('svDialogstcltk', 17), ('svHttp', 17), ('svKomodo', 17), ('svapls', 17), ('svdvisual', 16), ('svyPVpack', 30), ('sweSCB', 1), ('switchnpreg', 16), ('sybilDynFBA', 17), ('sybilEFBA', 16), ('sybilSBML', 15), ('sybil', 26), ('sybilccFBA', 16), ('sybilcycleFreeFlux', 16), ('symbolicDA', 19), ('synbreedData', 18), ('synchrony', 16), ('synlik', 16), ('taRifx.geo', 17), ('spocc', 29), ('trioGxE', 16), ('truncdist', 34), ('trustOptim', 17), ('tsbridge', 16), ('tsbugs', 18), ('tspmeta', 16), ('ttScreening', 16), ('tth', 18), ('ttwa', 16), ('turboEM', 19), ('twoStageGwasPower', 17), ('twostageTE', 17), ('udunits2', 17), ('unbalanced', 16), ('upclass', 17), ('usl', 16), ('utility', 20), ('vacem', 18), ('varbvs', 17), ('vcf2geno', 2), ('vec2dtransf', 19), ('vecsets', 16), ('vectoptim', 3), ('vimcom', 1), ('waldwolf', 1), ('ridigbio', 27), ('RISmed', 29), ('weathermetrics', 2), ('weightedKmeans', 5), ('wethepeople', 2), ('topsis', 17), ('tosls', 16), ('tpe', 17), ('transnet', 2), ('pegas', 32), ('HiCseg', 15), ('revealedPrefs', 16), ('gapminder', 17), ('dummies', 42), ('flexclust', 88), ('descr', 63), ('fisheyeR', 19), ('gRain', 35), ('SphericalCubature', 17), ('optparse', 42), ('ABCExtremes', 3), ('ABCp2', 3), ('ACD', 23), ('geonames', 27), ('orgR', 16), ('d3heatmap', 25), ('RDieHarder', 5), ('hapsim', 16), ('VennDiagram', 64), ('BHMSMAfMRI', 2), ('rbvs', 16), ('JBTools', 19), ('imputeR', 14), ('RcppDE', 21), ('RcppDL', 15), ('RcppExamples', 22), ('RcppFaddeeva', 12), ('RcppGSL', 20), ('RcppMLPACK', 14), ('RcppParallel', 28), ('RcppRedis', 17), ('RcppShark', 12), ('RcppSMC', 16), ('RcppStreams', 14), ('SynchWave', 17), ('RDataCanvas', 16), ('RcppXts', 16), ('RcppZiggurat', 15), ('RCriteo', 12), ('rcrossref', 16), ('RCryptsy', 14), ('Rcsdp', 36), ('Rd2roxygen', 20), ('versions', 14), ('rddtools', 12), ('rDEA', 14), ('RDIDQ', 16), ('Rdistance', 18), ('RDML', 14), ('RDota', 12), ('Rdpack', 15), ('rdrobust', 18), ('RDS', 25), ('Rdsdp', 14), ('RDSTK', 17), ('rDVR', 14), ('ReacTran', 24), ('readGenalex', 17), ('readODS', 25), ('TTAinterfaceTrendAnalysis', 21), ('RealVAMS', 14), ('rebus', 13), ('RECA', 14), ('recalls', 14), ('ReCiPa', 17), ('recoder', 12), ('functional', 720), ('reconstructr', 15), ('RecordLinkage', 29), ('Records', 19), ('recosystem', 12), ('reda', 12), ('REdaS', 20), ('redcapAPI', 14), ('REDCapR', 14), ('RedditExtractoR', 17), ('redist', 12), ('RefFreeEWAS', 16), ('cmm', 21), ('CMPControl', 15), ('CMplot', 14), ('cmrutils', 23), ('cmsaf', 12), ('cmvnorm', 22), ('RefManageR', 32), ('refset', 14), ('refund.shiny', 13), ('refund.wave', 14), ('RegClust', 14), ('reGenotyper', 12), ('REGENT', 15), ('regexr', 13), ('regRSM', 11), ('Relatedness', 16), ('cna', 14), ('cncaGUI', 20), ('cnmlcd', 11), ('CNOGpro', 15), ('relen', 12), ('Reliability', 27), ('ReliabilityTheory', 20), ('relMix', 11), ('RelValAnalysis', 14), ('remote', 14), ('REndo', 12), ('prc', 15), ('Renext', 21), ('RenextGUI', 15), ('Reol', 15), ('ReorderCluster', 14), ('RepeatABEL', 12), ('RepeatedHighDim', 19), ('repijson', 13), ('replicatedpp2w', 12), ('replicationInterval', 14), ('repo', 12), ('CNprep', 17), ('REPPlab', 22), ('reproducer', 12), ('REQS', 25), ('rerddap', 14), ('reReg', 12), ('reservoir', 12), ('RESS', 17), ('REST', 14), ('restimizeapi', 12), ('resumer', 13), ('rethinker', 13), ('retistruct', 12), ('retrosheet', 16), ('reutils', 16), ('reval', 12), ('RevEcoR', 12), ('rFDSN', 13), ('RFGLS', 15), ('RFgroove', 12), ('RFinanceYJ', 26), ('RFLPtools', 21), ('RFmarkerDetector', 14), ('rfoaas', 18), ('RFOC', 26), ('CNVassocData', 16), ('coala', 15), ('coalescentMCMC', 16), ('coarseDataTools', 21), ('COBRA', 17), ('CoClust', 19), ('cocor', 18), ('RForcecom', 19), ('rfordummies', 18), ('RFormatter', 12), ('RFreak', 23), ('rfUtilities', 15), ('RGA', 26), ('Rgbp', 13), ('RGCCA', 21), ('cocorresp', 30), ('cocron', 16), ('codadiags', 14), ('cOde', 13), ('codep', 22), ('codyn', 12), ('coefficientalpha', 16), ('coefplot', 37), ('RGENERATE', 17), ('RGENERATEPREC', 14), ('RGenetics', 15), ('rgeolocate', 17), ('dlnm', 29), ('pcse', 31), ('RGIFT', 17), ('Rgnuplot', 13), ('RGoogleAnalytics', 22), ('RGoogleAnalyticsPremium', 12), ('rgpui', 14), ('coenocliner', 13), ('coexist', 16), ('CoImp', 17), ('CoinMinD', 16), ('cold', 14), ('CollocInfer', 21), ('rgrass7', 19), ('rGroovy', 12), ('fslr', 17), ('oro.nifti', 28), ('coloc', 16), ('coloredICA', 13), ('colorhcplot', 11), ('ColorPalette', 12), ('colorscience', 12), ('colortools', 21), ('colourlovers', 15), ('comato', 14), ('COMBIA', 13), ('rhandsontable', 21), ('rHealthDataGov', 15), ('Rhpc', 12), ('RhpcBLASctl', 15), ('RHRV', 25), ('RHT', 17), ('RI2by2', 14), ('riceware', 12), ('RidgeFusion', 14), ('Ridit', 18), ('RIFS', 16), ('RIGHT', 18), ('RImageJROI', 15), ('RImpala', 16), ('RInside', 26), ('RInSp', 17), ('ripa', 22), ('riskR', 15), ('riskSimul', 16), ('Ritc', 17), ('RItools', 34), ('rivernet', 14), ('Rivivc', 16), ('rivr', 19), ('RJaCGH', 28), ('rjade', 15), ('RJafroc', 13), ('rJPSGCS', 15), ('Rjpstatdb', 15), ('RJSDMX', 23), ('rjstat', 15), ('rkafka', 14), ('rkafkajars', 14), ('RKEA', 23), ('Combine', 13), ('CombinePValue', 14), ('CombinS', 15), ('CombMSC', 27), ('comclim', 13), ('cometExactTest', 13), ('ComICS', 13), ('commandr', 14), ('commentr', 13), ('RKEAjars', 14), ('RKlout', 12), ('rkvo', 14), ('Rlabkey', 25), ('rleafmap', 13), ('Rlibeemd', 21), ('rLiDAR', 12), ('Rlinkedin', 15), ('rlist', 17), ('rlm', 14), ('RLRsim', 38), ('rLTP', 14), ('RLumShiny', 13), ('RM2', 24), ('RMallow', 17), ('Rmalschains', 23), ('RMark', 19), ('RMC', 21), ('rmdformats', 12), ('rmgarch', 27), ('Rmixmod', 21), ('RmixmodCombi', 16), ('RMixpanel', 12), ('RMKdiscrete', 15), ('RMOA', 14), ('RMOAjars', 14), ('Rmonkey', 15), ('RMRAINGEN', 15), ('RMTstat', 25), ('rnaseqWrapper', 14), ('RnavGraph', 19), ('RnavGraphImageData', 20), ('RNaviCell', 12), ('rnbn', 14), ('CommonJavaJars', 20), ('commonmark', 11), ('CommonTrend', 20), ('RNCBIEUtilsLibs', 20), ('RND', 17), ('rnetcarto', 12), ('RNetLogo', 24), ('RNeXML', 27), ('rngSetSeed', 15), ('RNiftyReg', 25), ('rNMF', 17), ('rNOMADS', 20), ('rnrfa', 20), ('RobAStBase', 25), ('RobLox', 26), ('RobLoxBioC', 21), ('RobPer', 16), ('RobRex', 26), ('RobRSVD', 16), ('RObsDat', 15), ('RobustAFT', 31), ('robustDA', 18), ('RobustEM', 12), ('RobustRankAggreg', 20), ('robustvarComp', 14), ('ROC632', 15), ('ROCS', 16), ('ROCt', 15), ('ROCwoGS', 19), ('RODBCDBI', 13), ('RODBCext', 13), ('rodd', 14), ('RODM', 21), ('ROI', 32), ('ROI.plugin.glpk', 25), ('ROI.plugin.quadprog', 22), ('ROI.plugin.symphony', 16), ('rollply', 14), ('ROMIplot', 12), ('RootsExtremaInflections', 14), ('ropensecretsapi', 14), ('ROptEst', 27), ('ROptEstOld', 24), ('ROptimizely', 13), ('ROptRegTS', 26), ('COMMUNAL', 18), ('CommunityCorrelogram', 15), ('Comp2ROC', 17), ('compactr', 14), ('compareC', 13), ('CompareCausalNetworks', 13), ('rosm', 17), ('rorcid', 13), ('rorutadis', 20), ('Rothermel', 15), ('roughrf', 14), ('RoughSetKnowledgeReduction', 14), ('RoughSets', 23), ('rowr', 16), ('RPANDA', 14), ('rpart.utils', 14), ('RPCLR', 16), ('Rpdb', 14), ('rpdo', 14), ('RPEnsemble', 13), ('rpg', 17), ('Rphylip', 15), ('Rphylopars', 14), ('rplexos', 14), ('RPMM', 30), ('rpnf', 13), ('rPowerSampleSize', 12), ('RPPairwiseDesign', 15), ('RPPanalyzer', 19), ('rPref', 19), ('rprime', 12), ('rprintf', 17), ('RProtoBuf', 30), ('RPublica', 14), ('RPushbullet', 18), ('RPyGeo', 27), ('compareGroups', 20), ('compareODM', 14), ('CompareTests', 19), ('rscala', 20), ('Rssa', 26), ('comparison', 16), ('compeir', 19), ('compendiumdb', 13), ('CompGLM', 16), ('compHclust', 25), ('Compind', 15), ('ComplexAnalysis', 13), ('complmrob', 16), ('CompLognormal', 17), ('Runiversal', 21), ('rusda', 12), ('ruv', 15), ('rvalues', 14), ('Rvcg', 15), ('compositions', 38), ('compound.Cox', 18), ('Compounding', 19), ('CompR', 13), ('CompRandFld', 25), ('Conake', 20), ('concreg', 18), ('rwirelesscom', 14), ('RVFam', 14), ('RVideoPoker', 16), ('RViennaCL', 19), ('RVsharing', 17), ('rvTDT', 14), ('RVtests', 16), ('rWBclimate', 18), ('RWBP', 15), ('RWeather', 20), ('RWebLogo', 15), ('rwfec', 11), ('RWiener', 15), ('Rwinsteps', 18), ('rwunderground', 12), ('RxCEcolInf', 23), ('RXKCD', 19), ('RxnSim', 14), ('RxODE', 10), ('RXshrink', 32), ('RYoudaoTranslate', 15), ('rYoutheria', 14), ('Rz', 19), ('s2dverification', 15), ('Sabermetrics', 14), ('saccades', 14), ('SACCR', 12), ('SACOBRA', 12), ('sadists', 17), ('sads', 19), ('sae2', 15), ('SAENET', 15), ('saery', 14), ('saeSim', 12), ('safi', 14), ('SAGA', 17), ('SALTSampler', 13), ('SAM', 16), ('Sample.Size', 17), ('SamplerCompare', 21), ('cond', 20), ('condGEE', 22), ('condmixt', 15), ('condMVNorm', 15), ('SampleSizeMeans', 21), ('SampleSizeProportions', 21), ('samplingEstimates', 15), ('SamplingStrata', 19), ('SAMUR', 14), ('SAMURAI', 17), ('sanitizers', 14), ('SAPP', 20), ('SAScii', 22), ('SASPECT', 25), ('satellite', 12), ('saturnin', 14), ('SAVE', 15), ('sbmSDP', 12), ('SBRect', 14), ('SBSA', 18), ('Scale', 20), ('CondReg', 16), ('coneproj', 18), ('confidence', 13), ('conformal', 13), ('confreq', 14), ('conicfit', 13), ('conics', 15), ('conjoint', 23), ('scatterD3', 18), ('SCBmeanfd', 15), ('SCEPtER', 16), ('SCEPtERbinary', 17), ('SCGLR', 15), ('SchemaOnRead', 14), ('schumaker', 12), ('SCI', 16), ('SciencesPo', 24), ('SCMA', 20), ('scmamp', 18), ('score', 12), ('ScoreGGUM', 14), ('scorer', 12), ('SCORER2', 15), ('ScottKnott', 26), ('SCperf', 18), ('ScrabbleScore', 15), ('ScreenClean', 17), ('scrm', 12), ('SCRT', 20), ('scrypt', 15), ('SCVA', 20), ('SDaA', 24), ('icd9', 11), ('sdcTarget', 14), ('SDD', 17), ('SDDE', 14), ('sdmvspecies', 14), ('sdPrior', 12), ('SDR', 12), ('sdwd', 17), ('searchable', 14), ('searchConsoleR', 12), ('SearchTrees', 19), ('SEAsic', 12), ('SEchart', 16), ('SECP', 16), ('secrdesign', 14), ('secrlinear', 15), ('seeclickfixr', 12), ('seedy', 19), ('SEER2R', 17), ('SEERaBomb', 16), ('ConjointChecks', 16), ('connect3', 14), ('ConnMatTools', 16), ('conover.test', 12), ('ConSpline', 15), ('ConsRank', 14), ('constrainedKriging', 25), ('conting', 14), ('contoureR', 11), ('controlTest', 11), ('ConvCalendar', 22), ('ConvergenceConcepts', 25), ('convevol', 13), ('convoSPAT', 11), ('cooccur', 14), ('cooptrees', 13), ('SegCorr', 18), ('segmag', 14), ('SEHmodel', 17), ('seismic', 13), ('seismicRoll', 14), ('sejmRP', 14), ('Sejong', 51), ('SEL', 22), ('selectiveInference', 12), ('selectspm', 14), ('SeleMix', 19), ('selfea', 12), ('selfingTree', 14), ('SelvarMix', 14), ('SemiCompRisks', 19), ('SEMID', 16), ('SemiMarkov', 17), ('SemiParBIVProbit', 24), ('SEMModComp', 24), ('semsfa', 14), ('statnetWeb', 19), ('HelpersMG', 22), ('COPASutils', 15), ('SensitivityCaseControl', 17), ('sensitivitymw', 15), ('SensMixed', 12), ('SensoMineR', 32), ('sensory', 12), ('SensusR', 14), ('seqDesign', 14), ('SeqFeatR', 11), ('SeqGrapheR', 15), ('Sequential', 19), ('sequenza', 18), ('seroincidence', 14), ('SetMethods', 16), ('SETPath', 14), ('SetRank', 11), ('settings', 18), ('SGCS', 22), ('sgd', 25), ('SGL', 17), ('sglasso', 20), ('sglr', 15), ('SGP', 28), ('SGPdata', 26), ('sgPLS', 20), ('sgRSEA', 13), ('sgt', 16), ('ShapeChange', 18), ('shapeR', 15), ('ShapeSelectForest', 14), ('SharpeR', 16), ('sharpshootR', 22), ('SHELF', 13), ('copBasic', 20), ('copCAR', 14), ('cope', 13), ('signmedian.test', 13), ('SigTree', 13), ('SII', 21), ('simcausal', 14), ('SimComp', 43), ('SimCorMultRes', 16), ('SimDesign', 18), ('simest', 15), ('shopifyr', 15), ('showtextdb', 21), ('shp2graph', 16), ('Shrinkage', 13), ('ShrinkCovMat', 15), ('SIBER', 14), ('SID', 15), ('sievetest', 13), ('SightabilityModel', 17), ('sigloc', 15), ('signalHsmm', 13), ('SimHaz', 13), ('SimilarityMeasures', 15), ('Simile', 19), ('simmer', 12), ('simmr', 13), ('SIMMS', 16), ('simPH', 15), ('simplegraph', 22), ('simpleNeural', 13), ('SimpleTable', 24), ('simplr', 13), ('simPop', 16), ('Simpsons', 17), ('simr', 13), ('SimReg', 13), ('simrel', 16), ('simsalapar', 15), ('SimSeq', 24), ('simTool', 16), ('SimuChemPC', 17), ('SimultAnR', 22), ('sinaplot', 18), ('siRSM', 15), ('SIS', 24), ('sisal', 13), ('sisVIVE', 15), ('sitar', 15), ('sivipm', 17), ('SiZer', 27), ('Skillings.Mack', 17), ('sla', 15), ('slackr', 16), ('sld', 16), ('sleekts', 13), ('Sleuth2', 43), ('Sleuth3', 19), ('slfm', 13), ('SLHD', 17), ('SLOPE', 19), ('slp', 15), ('smac', 15), ('smacpod', 13), ('smallarea', 13), ('smam', 15), ('SmarterPoland', 22), ('smbinning', 14), ('SMC', 23), ('smcfcs', 19), ('SMCP', 21), ('SMCRM', 16), ('smds', 15), ('smerc', 17), ('SMFI5', 17), ('smint', 13), ('SMIR', 24), ('SmithWilsonYieldCurve', 17), ('SML', 16), ('SMNCensReg', 17), ('smnet', 15), ('smoof', 18), ('smoother', 17), ('SmoothHazard', 17), ('smoothie', 17), ('SMPracticals', 29), ('SMR', 19), ('SMVar', 24), ('SNFtool', 17), ('snht', 16), ('snipEM', 15), ('snn', 16), ('imager', 47), ('Copula.Markov', 14), ('CopulaDTA', 11), ('copulaedas', 21), ('CopulaRegression', 17), ('CopulaREMADA', 15), ('CopyDetect', 18), ('CopyNumber450kCancer', 12), ('corclass', 14), ('corcounts', 22), ('GMMBoost', 21), ('dtwclust', 33), ('forestmodel', 13), ('icenReg', 24), ('grpreg', 28), ('glmpath', 29), ('grplasso', 33), ('hda', 29), ('Libra', 14), ('pnea', 20), ('provenance', 20), ('rnn', 15), ('intergraph', 40), ('StrainRanking', 16), ('Rmosek', 3), ('RWinEdt', 21), ('LogicForest', 23), ('GenABEL.data', 22), ('GenABEL', 34), ('Distance', 31), ('dsm', 29), ('install.load', 12), ('ecb', 14), ('ssa', 15), ('perturb', 52), ('ibdreg', 31), ('laercio', 24), ('cplexAPI', 4), ('cudaBayesreg', 5), ('gamsel', 4), ('gpuR', 28), ('OpenCL', 4), ('pbdBASE', 3), ('penalized', 56), ('LaF', 29), ('laGP', 14), ('pbdDMAT', 3), ('pmclust', 3), ('qtpaint', 5), ('qtutils', 3), ('penalizedLDA', 28), ('penalizedSVM', 30), ('Rcplex', 4), ('RcppOctave', 3), ('ROracle', 6), ('RSAP', 3), ('EMD', 36), ('LakeMetabolizer', 13), ('lakemorpho', 14), ('laketemps', 13), ('lambda.tools', 14), ('LambertW', 25), ('hht', 18), ('fmsb', 40), ('lamW', 19), ('LANDD', 10), ('landest', 12), ('landpred', 13), ('landsat', 25), ('landsat8', 11), ('Langevin', 15), ('LaplaceDeconv', 13), ('lar', 14), ('LARF', 17), ('laser', 27), ('lassoscore', 14), ('lassoshooting', 23), ('lasvmR', 12), ('latdiag', 21), ('latentnet', 35), ('Laterality', 15), ('latex2exp', 30), ('latticeDensity', 22), ('LatticeKrig', 23), ('intsvy', 38), ('maxlike', 30), ('lava.tobit', 23), ('lawn', 13), ('lazyData', 15), ('lazyWeave', 18), ('lba', 11), ('lbfgs', 15), ('lbfgsb3', 13), ('lbiassurv', 15), ('LCA', 18), ('LCAextend', 19), ('lcd', 21), ('lcda', 22), ('LCFdata', 20), ('datautils', 17), ('lcmm', 24), ('lcopula', 11), ('lctools', 13), ('ldamatch', 11), ('ldatuning', 13), ('dataframes2xls', 35), ('dataview', 21), ('PP', 32), ('jomo', 34), ('emdbook', 47), ('inlinedocs', 36), ('ldbounds', 30), ('LDcorSV', 17), ('ldlasso', 18), ('LDOD', 15), ('LDPD', 13), ('ldr', 17), ('LDRTools', 13), ('LDtests', 23), ('leaderCluster', 15), ('LeafAngle', 16), ('LeafArea', 13), ('fuzzyFDR', 27), ('LEAPFrOG', 16), ('leapp', 17), ('learningr', 16), ('learNN', 12), ('learnstats', 11), ('lefse', 13), ('leiv', 17), ('DEoptim', 44), ('LeLogicielR', 19), ('lestat', 16), ('letsR', 21), ('lfactors', 12), ('LFDR.MLE', 11), ('lfl', 11), ('lhs', 49), ('libamtrack', 18), ('vcrpart', 17), ('lga', 26), ('lgcp', 24), ('LGEWIS', 11), ('LGRF', 11), ('JMbayes', 22), ('LICORS', 16), ('LICurvature', 14), ('LifeHist', 11), ('LifeTables', 17), ('lift', 13), ('liftr', 13), ('LightningR', 12), ('SOAR', 24), ('JMdesign', 14), ('LIHNPSD', 16), ('likelihood', 22), ('likelihoodAsy', 12), ('likeLTD', 14), ('LIM', 23), ('limitplot', 20), ('hexView', 28), ('linbin', 17), ('LinCal', 13), ('LindenmayeR', 13), ('LinearizedSVR', 15), ('LinearRegressionMDE', 12), ('lineup', 15), ('PDQutils', 17), ('PortfolioAnalytics', 33), ('CorReg', 26), ('CorrBin', 22), ('Correlplot', 19), ('CosmoPhotoz', 15), ('CountsEPPM', 18), ('CovSel', 21), ('CoxBoost', 35), ('CoxRidge', 16), ('Coxnet', 22), ('CpGFilter', 14), ('CpGassoc', 18), ('Cprob', 23), ('CreditMetrics', 29), ('Crossover', 15), ('D2C', 15), ('DAAGbio', 27), ('DAGGER', 21), ('DAKS', 23), ('DALY', 18), ('DAMOCLES', 16), ('DAMisc', 23), ('DATforDCEMRI', 20), ('DBFTest', 3), ('DBGSA', 18), ('DBKGrad', 16), ('DCGL', 21), ('DCL', 17), ('DDD', 23), ('DDHFm', 28), ('DDIwR', 16), ('DECIDE', 19), ('DEEPR', 15), ('DEMEtics', 20), ('DESnowball', 15), ('DFIT', 16), ('DIFlasso', 17), ('DIME', 21), ('DIRECT', 16), ('DLMtool', 19), ('DMR', 18), ('DNAprofiles', 15), ('DNAtools', 21), ('DNMF', 17), ('DOBAD', 20), ('DOvalidation', 14), ('DPw', 4), ('DSBayes', 16), ('DSL', 18), ('DSpat', 27), ('DSsim', 19), ('DStree', 17), ('DTComPair', 17), ('DTDA', 22), ('DTK', 27), ('DTMCPack', 15), ('DTR', 18), ('DVHmetrics', 20), ('Daim', 23), ('DandEFA', 18), ('DatABEL', 27), ('DataCombine', 29), ('DeducerExtras', 37), ('DeducerPlugInExample', 20), ('DeducerPlugInScaling', 21), ('DeducerSpatial', 23), ('DeducerSurvival', 16), ('DeducerText', 17), ('Delaporte', 20), ('Demerelate', 16), ('DendSer', 17), ('Density.T.HoldOut', 14), ('DepthProc', 15), ('DescribeDisplay', 29), ('DetMCD', 15), ('DetSel', 15), ('Devore7', 29), ('DiagTest3Grp', 19), ('DiceDesign', 36), ('DiceEval', 27), ('DiceOptim', 24), ('DiceView', 27), ('DiffCorr', 15), ('Digiroo2', 17), ('Disake', 15), ('DiscML', 16), ('DiscreteInverseWeibull', 19), ('DiscreteLaplace', 18), ('DiscreteWeibull', 19), ('DiscriMiner', 20), ('DistatisR', 16), ('DivE', 15), ('DivMelt', 17), ('DiversitySampler', 22), ('DnE', 16), ('Brq', 4), ('CLAG', 3), ('DoE.wrapper', 32), ('Dodge', 21), ('Dominance', 17), ('DoubleCone', 16), ('DoubleExpSeq', 14), ('DunnettTests', 17), ('DynClust', 16), ('DynNom', 18), ('DynamicDistribution', 15), ('EBEN', 17), ('EBMAforecast', 17), ('EBS', 17), ('EBglmnet', 21), ('EDISON', 17), ('EDR', 28), ('EGRET', 15), ('EIAdata', 18), ('EILA', 16), ('ELT', 16), ('ELYP', 15), ('EL', 17), ('EMA', 19), ('EMCC', 23), ('EMC', 24), ('EMJumpDiffusion', 10), ('EMMAgeo', 15), ('EMMIXcontrasts', 15), ('EMMIXskew', 17), ('EMMIXuskew', 16), ('EMMREML', 17), ('EMP', 15), ('EMT', 22), ('EMVC', 15), ('ENMeval', 15), ('ENiRG', 15), ('ENmisc', 29), ('ETAS', 4), ('CORE', 15), ('CORM', 16), ('CPHshape', 17), ('CPMCGLM', 18), ('CP', 14), ('CRAC', 15), ('CRF', 16), ('CSS', 3), ('CVST', 17), ('CVTuningCov', 15), ('CVcalibration', 15), ('hmm.discnp', 36), ('EasyABC', 18), ('EasyHTMLReport', 17), ('EasyMARK', 15), ('EasyStrata', 14), ('EcoGenetics', 15), ('EcoSimR', 16), ('EcoTroph', 17), ('EcoVirtual', 19), ('EffectStars', 17), ('EffectTreat', 13), ('EffectsRelBaseline', 14), ('EloRating', 14), ('ElstonStewart', 13), ('EnQuireR', 23), ('EngrExpt', 21), ('EnsembleCV', 13), ('EnsemblePCReg', 13), ('EnsemblePenReg', 13), ('EntropyEstimation', 14), ('EntropyExplorer', 14), ('EnvNicheR', 14), ('EnvStats', 29), ('EnviroStat', 14), ('FAwR', 22), ('FBFsearch', 14), ('FBN', 21), ('FCMapper', 13), ('FDGcopulas', 13), ('FDRreg', 13), ('FD', 31), ('FDboost', 13), ('FFD', 18), ('FField', 17), ('FGSG', 12), ('FGalgorithm', 14), ('FHtest', 14), ('FITSio', 22), ('FI', 15), ('FLIM', 13), ('FLLat', 16), ('FLR', 12), ('FLSSS', 13), ('FME', 31), ('FMStable', 16), ('FPDclustering', 12), ('FRACTION', 15), ('FRAPO', 19), ('FRB', 40), ('FRCC', 14), ('FREQ', 13), ('FRESA.CAD', 12), ('FSelector', 32), ('FTICRMS', 23), ('FWDselect', 19), ('FastPCS', 14), ('FastRCS', 18), ('FastRWeb', 18), ('FeaLect', 18), ('FedData', 19), ('FeedbackTS', 15), ('FieldSim', 27), ('FinAsym', 15), ('FinCal', 20), ('FinCovRegularization', 12), ('FinTS', 39), ('FindAllRoots', 14), ('FindIt', 13), ('FindMinIC', 13), ('FisHiCal', 12), ('FisherEM', 20), ('FitARMA', 23), ('FitAR', 32), ('FlexParamCurve', 16), ('FluOMatic', 4), ('Flury', 29), ('ForIT', 12), ('ForImp', 16), ('ForeCA', 15), ('FormalSeries', 14), ('ForwardSearch', 13), ('FourScores', 15), ('FunChisq', 13), ('FunCluster', 28), ('FuncMap', 18), ('Funclustering', 14), ('FunctionalNetworks', 12), ('FusedPCA', 13), ('FuzzyStatProb', 13), ('G1DBN', 23), ('G2Sd', 25), ('GA4Stratification', 19), ('GABi', 14), ('GAD', 23), ('GAIPE', 14), ('GAMBoost', 47), ('GAR', 15), ('GA', 28), ('GAabbreviate', 13), ('GCAI.bias', 13), ('GCD', 14), ('GCPM', 13), ('GDAtools', 14), ('GDELTtools', 14), ('GENEAread', 15), ('GESTr', 14), ('GEVStableGarch', 15), ('GEVcdn', 20), ('GExMap', 22), ('GGEBiplotGUI', 18), ('GGIR', 21), ('GGMselect', 20), ('GHQp', 14), ('GIGrvg', 15), ('GLDEX', 19), ('GLDreg', 13), ('GLSME', 13), ('GMDH', 14), ('GNE', 13), ('GOGANPA', 16), ('GOplot', 14), ('GPCSIV', 15), ('GPC', 13), ('GPFDA', 13), ('GPLTR', 13), ('GPareto', 14), ('GPfit', 18), ('GPseq', 21), ('GPvam', 16), ('GRTo', 15), ('GRaF', 16), ('GSA', 33), ('GSAgm', 13), ('GSE', 17), ('GSIF', 14), ('GSM', 28), ('GUIDE', 18), ('GUILDS', 13), ('GUIProfiler', 14), ('GUTS', 16), ('GUniFrac', 19), ('GWAF', 20), ('GWASExactHW', 25), ('GWRM', 19), ('GWsignif', 14), ('GaDiFPT', 13), ('GameTheory', 14), ('Gammareg', 14), ('GenBinomApps', 15), ('GenForImp', 14), ('GenOrd', 16), ('GeneF', 25), ('GeneFeST', 14), ('GeneReg', 21), ('GeneticSubsetter', 15), ('GeneticTools', 14), ('GeoDE', 14), ('GeoGenetix', 14), ('GeoLight', 17), ('GeoXp', 29), ('GetR', 16), ('GetoptLong', 31), ('GhcnDaily', 18), ('GibbsACOV', 14), ('GillespieSSA', 25), ('Giza', 15), ('GlobalDeviance', 14), ('GlobalOptions', 25), ('Gmisc', 14), ('GoFKernel', 16), ('GrammR', 13), ('GraphPCA', 18), ('GrapheR', 24), ('GrassmannOptim', 22), ('Grid2Polygons', 18), ('GriegSmith', 21), ('GroupSeq', 32), ('GuardianR', 15), ('Guerry', 23), ('GxM', 14), ('HAC', 22), ('HAP.ROR', 14), ('HAPim', 22), ('HBSTM', 14), ('HDMD', 20), ('HDPenReg', 13), ('HDclassif', 30), ('HDtweedie', 14), ('HEAT', 14), ('HGNChelper', 15), ('HHG', 15), ('HIV.LifeTables', 14), ('HIest', 15), ('HK80', 13), ('HLMdiag', 35), ('HLSM', 18), ('HMMCont', 15), ('HMMpa', 15), ('HMPTrees', 17), ('HMP', 17), ('HMR', 21), ('HPbayes', 18), ('HSAUR3', 14), ('HSROC', 19), ('HSSVD', 13), ('HTMLUtils', 21), ('HTSCluster', 17), ('HUM', 14), ('HW.pval', 15), ('flexsurv', 31), ('hglm', 23), ('hglm.data', 19), ('kedd', 23), ('HiClimR', 13), ('HiDimDA', 24), ('HiDimMaxStable', 14), ('HiLMM', 13), ('HiddenMarkov', 25), ('HierO', 13), ('HighDimOut', 13), ('HistogramTools', 18), ('HiveR', 17), ('Holidays', 17), ('HomoPolymer', 13), ('HotDeckImputation', 16), ('HyPhy', 17), ('HybridMC', 21), ('HydroMe', 26), ('IASD', 15), ('IAT', 14), ('IBDLabels', 13), ('IBDhaploRtools', 15), ('IBDsim', 16), ('IBHM', 15), ('IC2', 16), ('ICAFF', 13), ('ICC', 23), ('ICE', 29), ('ICEbox', 14), ('ICEinfer', 24), ('ICGE', 14), ('ICSNP', 29), ('ICS', 34), ('ICsurv', 15), ('IDPSurvival', 14), ('IFP', 17), ('IM', 15), ('INLABMA', 15), ('IPMpack', 17), ('IQCC', 24), ('IRTShiny', 16), ('ISBF', 15), ('ISDA.R', 21), ('ISOcodes', 25), ('ISOweek', 24), ('IUPS', 14), ('Iboot', 15), ('IgorR', 16), ('ImpactIV', 19), ('InPosition', 14), ('IndependenceTests', 18), ('InfDim', 18), ('InferenceSMR', 14), ('IntLik', 14), ('InterVA4', 14), ('Interact', 15), ('InteractiveIGraph', 15), ('Interatrix', 12), ('Interpol.T', 17), ('Interpol', 18), ('InvariantCausalPrediction', 14), ('InventorymodelPackage', 13), ('IsingFit', 13), ('IsingSampler', 17), ('IsoCI', 13), ('IsoGene', 21), ('IsotopeR', 23), ('JAGUAR', 14), ('JASPAR', 15), ('JGL', 15), ('JOP', 19), ('JPSurv', 16), ('Jmisc', 16), ('JoSAE', 17), ('JohnsonDistribution', 16), ('Johnson', 16), ('JointRegBC', 14), ('Julia', 19), ('KANT', 14), ('KATforDCEMRI', 14), ('KMDA', 13), ('KODAMA', 13), ('KOGMWU', 13), ('KRLS', 23), ('KappaGUI', 17), ('KappaV', 15), ('KernSmoothIRT', 22), ('Kernelheaping', 20), ('Kmisc', 18), ('Kpart', 15), ('L1pack', 13), ('LGS', 6), ('LINselect', 14), ('LIStest', 23), ('LLSR', 14), ('LMERConvenienceFunctions', 21), ('LMest', 16), ('LOGICOIL', 13), ('LOST', 16), ('LPCM', 18), ('LPS', 14), ('LPStimeSeries', 16), ('LPTime', 13), ('LPmerge', 14), ('LS2W', 18), ('LS2Wstat', 14), ('LSAfun', 14), ('LSC', 15), ('LSD', 23), ('LSMonteCarlo', 15), ('LTPDvar', 17), ('LTR', 16), ('LVMMCOR', 14), ('LVQTools', 8), ('HWEBayes', 21), ('HWEintrinsic', 20), ('HWxtest', 2), ('HandTill2001', 17), ('Hankel', 13), ('HapEstXXR', 19), ('Haplin', 21), ('HaploSim', 22), ('HarmonicRegression', 15), ('dtt', 25), ('emoa', 27), ('MaxPro', 13), ('McParre', 6), ('McSpatial', 20), ('Mcomp', 25), ('MedOr', 15), ('MAclinical', 24), ('MAd', 26), ('MBA', 41), ('MBCluster.Seq', 17), ('MBI', 16), ('MBmca', 15), ('MC2toPath', 13), ('MCAPS', 22), ('MCAvariants', 2), ('MCDA', 21), ('MCL', 16), ('MCMC.OTU', 13), ('MCMC.qpcr', 18), ('MCMC4Extremes', 13), ('MCPMod', 26), ('MCPerm', 15), ('MCS', 15), ('MChtest', 27), ('MConjoint', 14), ('MDM', 16), ('MDPtoolbox', 16), ('MDR', 19), ('MDSGUI', 15), ('MEET', 15), ('MFDA', 15), ('MGLM', 3), ('MGL', 2), ('MMIX', 9), ('MaXact', 20), ('Maeswrap', 17), ('ManyTests', 16), ('Map2NCBI', 20), ('MapGAM', 15), ('MareyMap', 12), ('MarkowitzR', 14), ('MasterBayes', 29), ('MatchingFrontier', 14), ('flsa', 27), ('holdem', 19), ('fastR', 21), ('LinRegInteractive', 14), ('Lmoments', 44), ('Lock5Data', 18), ('LogConcDEAD', 26), ('LogisticDx', 15), ('LogitNet', 20), ('LogrankA', 15), ('LoopAnalyst', 29), ('LowRankQP', 30), ('MADAM', 8), ('MAINT.Data', 22), ('MALDIquantForeign', 19), ('MAMA', 18), ('MAMSE', 21), ('MAMS', 21), ('MAPA', 65), ('MAPLES', 17), ('MAR1', 16), ('MASSTIMATE', 17), ('MATTOOLS', 14), ('MAT', 18), ('MAVIS', 15), ('MAVTgsa', 15), ('MAc', 23), ('Rip46', 3), ('GDAdata', 14), ('MsatAllele', 7), ('Multiclasstesting', 10), ('OLScurve', 17), ('ONETr', 14), ('OOmisc', 18), ('OPDOE', 15), ('OPE', 11), ('OPI', 21), ('ORCI', 15), ('ORCME', 17), ('ORDER2PARENT', 21), ('ORIClust', 24), ('ORMDR', 26), ('OUwie', 18), ('OjaNP', 21), ('OligoSpecificitySystem', 21), ('OmicKriging', 16), ('Oncotree', 22), ('OneTwoSamples', 15), ('OpasnetUtils', 16), ('OpenRepGrid', 18), ('OptHedging', 20), ('OptInterim', 18), ('OptimalCutpoints', 20), ('OptionPricing', 16), ('OrdFacReg', 22), ('OrdLogReg', 14), ('OrdMonReg', 22), ('OrdNor', 24), ('OrdinalLogisticBiplot', 15), ('OrgMassSpecR', 21), ('OutlierDC', 17), ('OutlierDM', 16), ('OutrankingTools', 14), ('PAFit', 15), ('PAGI', 15), ('PANICr', 15), ('PASWR2', 15), ('PASWR', 29), ('PAWL', 18), ('PBC', 2), ('PBD', 16), ('PBImisc', 19), ('PBSadmb', 21), ('PBSmapping', 52), ('PCAmixdata', 16), ('PCGSE', 14), ('PCICt', 23), ('PCIT', 23), ('PCPS', 15), ('PCS', 22), ('PCovR', 16), ('PDSCE', 16), ('PEIP', 17), ('PEMM', 15), ('PERregress', 7), ('PF', 4), ('PGICA', 14), ('PGM2', 15), ('PGRdup', 14), ('PHENIX', 14), ('PHeval', 14), ('PIGE', 15), ('PIGShift', 17), ('PIPS', 18), ('PKPDmodels', 28), ('PKfit', 16), ('PKgraph', 19), ('PKreport', 19), ('PLIS', 22), ('PLRModels', 15), ('PLSbiplot1', 14), ('PLordprob', 14), ('PMA', 27), ('PPtree', 15), ('PRISMA', 16), ('PROFANCY', 15), ('PROTOLIDAR', 16), ('PRROC', 15), ('PReMiuM', 19), ('PResiduals', 16), ('PSAboot', 18), ('PSAgraphics', 28), ('PSM', 24), ('PST', 17), ('PTE', 14), ('PVAClone', 16), ('PVR', 16), ('PairViz', 25), ('PairedData', 19), ('Paneldata', 17), ('ParDNAcopy', 16), ('ParallelForest', 15), ('ParentOffspring', 15), ('ParetoPosStable', 15), ('PatternClass', 16), ('Peaks', 24), ('PearsonICA', 28), ('PedCNV', 15), ('PepPrep', 14), ('Peptides', 21), ('PerFit', 14), ('PerMallows', 20), ('PerfMeas', 17), ('PermAlgo', 20), ('PhViD', 29), ('PharmPow', 16), ('PhaseType', 20), ('PhyActBedRest', 14), ('PhyloMeasures', 15), ('PhysicalActivity', 22), ('PivotalR', 17), ('PlayerRatings', 17), ('PlotRegionHighlighter', 15), ('PogromcyDanych', 17), ('PoiClaClu', 18), ('PoisBinNonNor', 14), ('PoisBinOrd', 14), ('PoisNonNor', 14), ('PoisNor', 15), ('PoissonSeq', 19), ('PolyPatEx', 15), ('PolynomF', 30), ('Pomic', 25), ('PopED', 16), ('PopGenKit', 18), ('PopGenReport', 17), ('PopVar', 14), ('PortRisk', 18), ('PottsUtils', 18), ('PoweR', 14), ('Power2Stage', 21), ('PowerTOST', 27), ('PracTools', 24), ('PredictABEL', 21), ('PredictiveRegression', 26), ('PresenceAbsence', 28), ('PrevMap', 21), ('PrivateLR', 17), ('ProDenICA', 21), ('ProfessR', 26), ('ProfileLikelihood', 19), ('ProgGUIinR', 16), ('hive', 25), ('RMediation', 7), ('PubMedWordcloud', 15), ('PurBayes', 16), ('PwrGSD', 24), ('QCA3', 21), ('QCAGUI', 33), ('RCA', 3), ('deepnet', 23), ('desirability', 27), ('ProjectTemplate', 32), ('PropCIs', 21), ('PropClust', 16), ('PropScrRand', 16), ('PsumtSim', 16), ('PubBias', 15), ('frbs', 22), ('Rdsm', 9), ('Rhh', 9), ('RcmdrPlugin.StatisticalURV', 4), ('FCNN4R', 16), ('SE.IGE', 8), ('SINGLE', 3), ('SNPMClust', 3), ('SNPassoc', 31), ('SNPmaxsel', 28), ('SNPtools', 17), ('SNSequate', 20), ('SODC', 16), ('SOD', 15), ('SOLOMON', 17), ('SOR', 15), ('SOUP', 15), ('SPA3G', 18), ('SPACECAP', 23), ('SPARQL', 24), ('SPAr', 16), ('SPECIES', 20), ('SPEI', 20), ('SPIAssay', 19), ('SPIn', 18), ('SPMS', 3), ('SPODT', 16), ('SPOT', 21), ('SPREDA', 15), ('SPRT', 15), ('SPSL', 17), ('SQDA', 15), ('SQN', 23), ('SQUAREM', 23), ('SRCS', 15), ('SRRS', 16), ('SSDforR', 21), ('SSN', 18), ('SSrat', 15), ('SSsimple', 20), ('STAR', 27), ('STEPCAM', 15), ('STPGA', 15), ('SUE', 18), ('SVMMaj', 20), ('SVMMatch', 15), ('SWATmodel', 17), ('SYNCSA', 19), ('SASxport', 13), ('SocialMediaMineR', 15), ('SocialNetworks', 16), ('SocialPosition', 15), ('SoftClustering', 15), ('SoilR', 17), ('SortableHTMLTables', 22), ('SoundexBR', 15), ('SparseGrid', 21), ('SparseTSCGM', 15), ('SpatPCA', 17), ('SpatialExtremes', 31), ('SpatialNP', 28), ('SpatialPack', 19), ('SpatialTools', 34), ('cyphid', 18), ('SurvLong', 15), ('SurvRegCensCov', 18), ('Survgini', 19), ('SvyNom', 17), ('SwissAir', 30), ('SyNet', 25), ('SynergizeR', 18), ('TAM', 36), ('TANOVA', 21), ('TAQMNGR', 16), ('TBEST', 16), ('TBSSurvival', 17), ('TDA', 16), ('TDD', 17), ('TDMR', 19), ('TDboost', 16), ('TED', 17), ('TEEReg', 16), ('TPmsm', 22), ('TR8', 15), ('TRAMPR', 27), ('TRD', 19), ('TRSbook', 15), ('TSEN', 17), ('TSHRC', 25), ('TSPostgreSQL', 25), ('TSPred', 15), ('TSSQLite', 27), ('TSTutorial', 19), ('TSclust', 23), ('TScompare', 17), ('TSdata', 18), ('TSdbi', 30), ('TSdist', 17), ('TSfame', 24), ('TSgetSymbol', 7), ('TShistQuote', 10), ('TSodbc', 23), ('TSsql', 19), ('TSxls', 7), ('TSzip', 6), ('TUWmodel', 17), ('Table1Heatmap', 17), ('TableMonster', 15), ('TableToLongForm', 17), ('TaoTeProgramming', 16), ('TapeR', 16), ('TauP.R', 19), ('Taxonstand', 17), ('TeachNet', 17), ('TeachingSampling', 29), ('TopKLists', 20), ('TraMineRextras', 18), ('TreatmentSelection', 16), ('TreePar', 21), ('TreeSimGM', 17), ('TriMatch', 15), ('TrialSize', 17), ('TripleR', 23), ('Tsphere', 20), ('TunePareto', 28), ('TurtleGraphics', 17), ('TwoCop', 17), ('SpatialVx', 19), ('SpatioTemporal', 19), ('SpeciesMix', 19), ('SpecsVerification', 18), ('SpherWave', 27), ('SphericalK', 16), ('SportsAnalytics', 22), ('StAMPP', 18), ('StMoSim', 21), ('StableEstim', 16), ('Stack', 19), ('StandardizeText', 17), ('StatDA', 34), ('StatMethRank', 15), ('StatRank', 16), ('Statomica', 15), ('Stem', 25), ('StereoMorph', 15), ('Storm', 16), ('StratSel', 15), ('StreamMetabolism', 26), ('StressStrength', 18), ('SubCultCon', 16), ('SubLasso', 16), ('Sunder', 15), ('Surrogate', 20), ('SurvCorr', 15), ('TwoStepCLogit', 28), ('UBCRM', 16), ('UPMASK', 15), ('UScancer', 15), ('UScensus2000cdp', 20), ('UScensus2000tract', 22), ('UWHAM', 17), ('Unicode', 23), ('VAR.etp', 19), ('VBLPCM', 18), ('VDA', 18), ('VGAMdata', 45), ('VHDClassification', 21), ('VIMGUI', 16), ('VaRES', 17), ('VarEff', 4), ('VarSelLCM', 15), ('VarSwapPrice', 19), ('VariABEL', 18), ('VdgRsm', 15), ('Vdgraph', 21), ('VecStatGraphs2D', 21), ('VecStatGraphs3D', 21), ('VideoComparison', 16), ('Watersheds', 2), ('WaveCD', 8), ('YourCast', 8), ('ZeligGAM', 4), ('abcdeFBA', 23), ('abctools', 23), ('abd', 40), ('abf2', 21), ('accrual', 21), ('acid', 19), ('acm4r', 21), ('acnr', 19), ('parsedate', 16), ('coxme', 49), ('markovchain', 40), ('cranlogs', 22), ('gdm', 20), ('gkmSVM', 18), ('outbreaker', 24), ('pacman', 26), ('okmesonet', 17), ('olctools', 1), ('highlight', 38), ('onemap', 25), ('omics', 12), ('oncomodel', 19), ('onion', 32), ('OneArmPhaseTwoStudy', 18), ('onls', 14), ('opefimor', 19), ('onewaytests', 17), ('onlinePCA', 17), ('openair', 41), ('rPython', 39), ('downloader', 62), ('switchr', 25), ('optmatch', 42), ('opentraj', 14), ('irr', 52), ('operators', 24), ('ops', 17), ('OptGS', 12), ('operator.tools', 21), ('optAUC', 15), ('optifunset', 12), ('optBiomarker', 22), ('optCluster', 14), ('optigrab', 12), ('parfm', 19), ('parfossil', 19), ('parma', 16), ('parmigene', 17), ('parsec', 12), ('partDSA', 23), ('partialAR', 14), ('partialOR', 16), ('partitionMap', 19), ('partitionMetric', 20), ('partools', 13), ('partsm', 25), ('parviol', 21), ('Pasha', 14), ('pass', 16), ('pastis', 15), ('pca3d', 18), ('PCA4TS', 13), ('pcaBootPlot', 12), ('pcadapt', 17), ('pcaL1', 15), ('pcalg', 31), ('epade', 18), ('pathClass', 19), ('pathdiagram', 14), ('pathmox', 20), ('patPRO', 12), ('pcg', 15), ('pch', 12), ('pcIRT', 15), ('pcnetmeta', 20), ('pco', 12), ('DiffusionRgqd', 11), ('DIFtree', 14), ('digitalPCR', 13), ('dils', 15), ('pdc', 24), ('pdfCluster', 21), ('pdfetch', 16), ('pdmod', 15), ('pdR', 22), ('peacots', 14), ('peakPick', 11), ('pearson7', 16), ('pec', 35), ('pedantics', 22), ('pedgene', 18), ('pedometrics', 20), ('pencopula', 20), ('pendensity', 22), ('penDvine', 17), ('penMSM', 14), ('pensim', 19), ('peperr', 26), ('peplib', 16), ('peptider', 15), ('pequod', 23), ('perARMA', 17), ('hasseDiagram', 14), ('Perc', 13), ('performanceEstimation', 15), ('perry', 19), ('persiandictionary', 15), ('personograph', 17), ('perspectev', 12), ('pesticides', 19), ('pez', 14), ('dina', 11), ('dinamic', 16), ('Directional', 14), ('directlabels', 55), ('directPA', 15), ('pGLS', 20), ('pgmm', 34), ('pgnorm', 14), ('patchDVI', 18), ('patchPlot', 16), ('patchSynctex', 14), ('phalen', 15), ('PharmacoGx', 15), ('phaseR', 15), ('phcfM', 16), ('phenability', 14), ('phenex', 15), ('phenmod', 15), ('pheno2geno', 16), ('phonenumber', 12), ('phreeqc', 15), ('dirmult', 23), ('disclap', 16), ('disclapmix', 15), ('discreteMTP', 16), ('discreteRV', 14), ('Phxnlme', 12), ('phyext2', 12), ('phylin', 20), ('phylocurve', 14), ('phylometrics', 12), ('phylosignal', 12), ('phyndr', 12), ('pauwels2014', 14), ('pavo', 17), ('pawacc', 14), ('pbatR', 28), ('pbdMPI', 18), ('pbdNCDF4', 15), ('pbdPROF', 16), ('pbdSLAP', 17), ('pbdZMQ', 12), ('pbo', 14), ('pBrackets', 14), ('pbs', 15), ('physiology', 14), ('phytotools', 15), ('picasso', 14), ('pid', 13), ('piecewiseSEM', 15), ('pingr', 14), ('pinnacle.API', 18), ('pipe.design', 14), ('pixiedust', 14), ('pkgconfig', 13), ('PKNCA', 12), ('pla', 12), ('discrimARTs', 15), ('discSurv', 16), ('diseasemapping', 27), ('plantecophys', 17), ('plaqr', 12), ('plfMA', 11), ('PlotPrjNetworks', 12), ('plotROC', 20), ('plusser', 15), ('disp2D', 15), ('disparityfilter', 11), ('displayHTS', 16), ('disposables', 13), ('dissUtils', 13), ('distfree.cr', 16), ('pmc', 13), ('jtrans', 15), ('pnf', 12), ('pogit', 12), ('pointRes', 12), ('PoisBinOrdNonNor', 12), ('PoisBinOrdNor', 12), ('poisDoubleSamp', 14), ('poisson', 12), ('polidata', 15), ('pollstR', 14), ('polyfreqs', 12), ('distillery', 25), ('distory', 20), ('distrDoc', 28), ('distrEllipse', 23), ('distrEx', 43), ('popdemo', 15), ('popEpi', 12), ('popKorn', 14), ('poplite', 12), ('popprxl', 17), ('PortfolioEffectEstim', 13), ('PortfolioEffectHFT', 16), ('ppiPre', 12), ('ppmlasso', 13), ('PPtreeViz', 12), ('prais', 14), ('prclust', 12), ('precintcon', 14), ('precrec', 12), ('predictmeans', 18), ('distrMod', 26), ('distrom', 18), ('distrRmetrics', 17), ('distrSim', 32), ('distrTeach', 30), ('prepdat', 17), ('preprocomb', 12), ('presens', 14), ('preseqR', 14), ('prettymapr', 17), ('prettyunits', 15), ('prevalence', 15), ('pRF', 15), ('primerTree', 15), ('primes', 12), ('PRIMsrc', 17), ('prism', 12), ('pro', 12), ('probemod', 13), ('probFDA', 14), ('profileR', 16), ('profilr', 12), ('progenyClust', 13), ('progress', 12), ('ProNet', 13), ('prop.comb.RR', 12), ('properties', 12), ('distrTEst', 30), ('divagis', 22), ('propOverlap', 14), ('proteomics', 15), ('ProTrackR', 17), ('prozor', 12), ('pRSR', 14), ('pscore', 12), ('psData', 18), ('pse', 15), ('pSI', 15), ('PsiHat', 12), ('jiebaRD', 24), ('diveMove', 30), ('diverse', 13), ('diversitree', 23), ('ptycho', 12), ('pullword', 14), ('purge', 14), ('pushoverr', 14), ('pvrank', 15), ('pweight', 13), ('pwrRasch', 12), ('jiebaR', 28), ('diveRsity', 23), ('divo', 11), ('dixon', 19), ('DJL', 16), ('pxweb', 15), ('pycno', 17), ('pystr', 13), ('PythonInR', 18), ('qap', 12), ('QCAfalsePositive', 12), ('QCAtools', 12), ('dkDNA', 15), ('dlmap', 23), ('ggsn', 12), ('dlmodeler', 21), ('dma', 14), ('dml', 12), ('dmm', 13), ('dMod', 11), ('dmt', 20), ('dna', 15), ('docopt', 17), ('docopulae', 13), ('documair', 13), ('pacose', 3), ('docxtractr', 12), ('domino', 14), ('knitLatex', 16), ('hybridHclust', 32), ('datastepr', 12), ('dave', 15), ('dawai', 15), ('dbarts', 13), ('dbEmpLikeGOF', 18), ('dbEmpLikeNorm', 14), ('TCGA2STAT', 22), ('dbscan', 23), ('dbstats', 18), ('dc3net', 13), ('DCchoice', 15), ('dcemriS4', 19), ('dcGOR', 11), ('dclone', 24), ('dcmle', 19), ('dcmr', 13), ('dcv', 18), ('ddalpha', 15), ('ddeploy', 11), ('fdth', 21), ('deamer', 15), ('decctools', 15), ('decisionSupport', 11), ('decode', 11), ('decompr', 13), ('decon', 19), ('deducorrect', 19), ('deformula', 11), ('degenes', 19), ('degreenet', 29), ('delt', 26), ('deltaPlotR', 15), ('demi', 15), ('deming', 13), ('demoKde', 14), ('dendextendRcpp', 15), ('dendroextras', 15), ('dendsort', 15), ('denovolyzeR', 11), ('denpro', 32), ('mcsm', 25), ('densityClust', 13), ('denstrip', 38), ('depend.truncation', 16), ('depmix', 31), ('depmixS4', 30), ('depth', 25), ('depthTools', 24), ('dequer', 11), ('descomponer', 13), ('describer', 12), ('label.switching', 15), ('kriging', 19), ('deseasonalize', 18), ('designGG', 17), ('desiR', 11), ('desire', 20), ('DESP', 18), ('detect', 16), ('devEMF', 19), ('dfcomb', 11), ('detector', 11), ('deTestSet', 18), ('detrendeR', 20), ('dfcrm', 24), ('dfexplore', 14), ('dfmta', 13), ('dga', 13), ('dglars', 15), ('dglm', 34), ('dgmb', 19), ('dhglm', 17), ('diagonals', 13), ('diaplt', 14), ('dice', 27), ('dicionariosIBGE', 19), ('dielectric', 17), ('diezeit', 11), ('DIFboost', 13), ('diffdepprop', 15), ('EPGLM', 16), ('diffEq', 16), ('diffeR', 13), ('diffIRT', 14), ('diffr', 11), ('diffractometry', 25), ('diffusionMap', 22), ('longurl', 14), ('labeltodendro', 21), ('geiger', 38), ('GroupTest', 14), ('gdtools', 30), ('svglite', 31), ('fueleconomy', 37), ('mapplots', 17), ('fSRM', 15), ('kinship2', 42), ('lmomRFA', 26), ('stmBrowser', 14), ('stmCorrViz', 16), ('orloca', 32), ('orloca.es', 29), ('tnam', 23), ('toaster', 16), ('TOC', 13), ('tolBasis', 13), ('toOrdinal', 15), ('toxtestD', 15), ('TP.idm', 13), ('dyn', 39), ('translateR', 16), ('tracheideR', 13), ('TRADER', 13), ('traits', 13), ('Traitspace', 17), ('traj', 15), ('trajectories', 16), ('transcribeR', 13), ('translateSPSS2R', 14), ('translation.ko', 13), ('fts', 44), ('georob', 28), ('TransModel', 13), ('transport', 18), ('treatSens', 13), ('treeclim', 22), ('treeClust', 15), ('treeperm', 13), ('lqa', 34), ('jSonarR', 18), ('gamlr', 19), ('igraphdata', 48), ('treescape', 17), ('trib', 13), ('trimr', 13), ('fit.models', 43), ('gdistance', 25), ('TROM', 12), ('trotter', 15), ('trueskill', 15), ('TruncatedNormal', 13), ('tsallisqexp', 16), ('tsBSS', 13), ('tsc', 15), ('tscount', 17), ('bstats', 1), ('tseriesEntropy', 15), ('tsintermittent', 66), ('TSMining', 14), ('tsna', 14), ('gMCP', 20), ('TSTr', 15), ('tsPI', 14), ('TSsdmx', 13), ('maptpx', 20), ('heplots', 46), ('TTmoment', 14), ('TTS', 13), ('tuber', 13), ('tufterhandout', 16), ('tumblR', 15), ('tumgr', 13), ('tuple', 15), ('turfR', 16), ('tvd', 13), ('tvm', 15), ('tweet2r', 14), ('federalregister', 15), ('ucbthesis', 14), ('ukgasapi', 13), ('umx', 16), ('UncerIn2', 13), ('unfoldr', 13), ('uniftest', 15), ('uniqtag', 13), ('uniqueAtomMat', 13), ('dataRetrieval', 15), ('uniReg', 15), ('unitedR', 17), ('unittest', 15), ('uplift', 15), ('UpSetR', 21), ('uptimeRobot', 13), ('urlshorteneR', 13), ('urltools', 16), ('USAboundaries', 18), ('userfriendlyscience', 17), ('uskewFactors', 15), ('ustyc', 15), ('drm', 28), ('doRedis', 21), ('doRNG', 46), ('dpmixsim', 21), ('elec', 20), ('elec.strat', 18), ('elliplot', 14), ('elmNN', 20), ('ELMR', 11), ('EloChoice', 11), ('elrm', 25), ('dti', 24), ('dvn', 16), ('dynatopmodel', 14), ('dynaTree', 21), ('earlywarnings', 19), ('ebdbNet', 22), ('ecolMod', 25), ('ecosim', 17), ('laeken', 26), ('ecospat', 14), ('ecoval', 14), ('eigeninv', 18), ('emulator', 27), ('GB2', 20), ('EMbC', 13), ('embryogrowth', 16), ('emdist', 18), ('emg', 19), ('emil', 20), ('emIRT', 13), ('emma', 18), ('emov', 13), ('empiricalFDR.DESeq2', 14), ('emplik2', 21), ('enaR', 15), ('endogMNP', 21), ('fbRanks', 16), ('fechner', 21), ('fgac', 31), ('flowfield', 14), ('fishMod', 14), ('flexCWM', 15), ('flora', 14), ('hts', 24), ('fmri', 29), ('fpca', 23), ('fractal', 26), ('fractalrock', 23), ('endorse', 16), ('english', 19), ('enigma', 13), ('enpls', 22), ('enRich', 14), ('enrichvs', 17), ('ensembleMOS', 15), ('ensurer', 14), ('entropart', 23), ('enviPat', 14), ('frailtyHL', 18), ('frm', 15), ('frmqa', 17), ('frontier', 25), ('fso', 26), ('funHDDC', 15), ('futile.matrix', 20), ('fwdmsa', 20), ('fxregime', 27), ('gamboostMSM', 16), ('gaussDiff', 22), ('gaussquad', 19), ('gdimap', 16), ('gems', 16), ('enviPick', 13), ('epandist', 16), ('epanetReader', 11), ('geomapdata', 27), ('geotools', 17), ('geozoo', 25), ('giRaph', 30), ('glmmBUGS', 29), ('glmulti', 38), ('globalboosttest', 19), ('globalOptTests', 15), ('glogis', 20), ('glpkAPI', 22), ('gmailr', 19), ('gmt', 32), ('goalprog', 25), ('gof', 29), ('gogarch', 23), ('govStatJPN', 15), ('gpairs', 27), ('gRapHD', 24), ('gRc', 25), ('gsarima', 27), ('gsDesign', 25), ('haplo.ccs', 28), ('harvestr', 16), ('hazus', 14), ('hbsae', 16), ('hddplot', 29), ('hdeco', 28), ('hdrcde', 39), ('hydroPSO', 16), ('hyperdirichlet', 25), ('hyperSpec', 23), ('ic.infer', 28), ('ifultools', 37), ('igraphtosonia', 20), ('ihs', 14), ('imguR', 21), ('insuranceData', 16), ('intReg', 18), ('investr', 16), ('invGauss', 16), ('ipdmeta', 21), ('ips', 16), ('FSA', 19), ('irtProb', 24), ('irtrees', 16), ('isopam', 21), ('iteRates', 18), ('iterLap', 19), ('ivbma', 18), ('ivlewbel', 17), ('ivpanel', 16), ('ivprobit', 16), ('joineR', 16), ('kaps', 16), ('kdetrees', 15), ('km.ci', 31), ('kmconfband', 15), ('kmi', 24), ('knitrBootstrap', 20), ('kst', 22), ('ktsolve', 16), ('lmec', 23), ('lmodel2', 28), ('localsolver', 14), ('locits', 18), ('logconcens', 18), ('lomb', 16), ('longmemo', 32), ('longpower', 20), ('lpc', 24), ('lspls', 29), ('lss', 27), ('luca', 26), ('m4fe', 12), ('mada', 16), ('mar1s', 24), ('maRketSim', 19), ('mblm', 33), ('mcclust', 23), ('mcga', 19), ('mcGlobaloptim', 17), ('mcIRT', 17), ('imputeMDR', 23), ('cord', 11), ('coreNLP', 11), ('coreTDT', 13), ('corHMM', 17), ('corkscrew', 11), ('corpora', 29), ('corregp', 13), ('CorrMixed', 20), ('corrsieve', 20), ('corTools', 14), ('parspatstat', 1), ('cosinor', 13), ('cosmoFns', 16), ('cosmosR', 15), ('cosso', 19), ('costat', 21), ('cotrend', 16), ('couchDB', 13), ('covBM', 11), ('covLCA', 15), ('covmat', 11), ('covreg', 14), ('covTest', 14), ('cowplot', 29), ('cowsay', 11), ('coxinterval', 13), ('coxphf', 27), ('coxphw', 24), ('CoxPlus', 15), ('coxrobust', 29), ('coxsei', 13), ('cp4p', 13), ('cpa', 16), ('cpca', 13), ('cpgen', 11), ('cpk', 14), ('cplm', 24), ('cpm', 15), ('cqrReg', 2), ('cquad', 13), ('crackR', 13), ('crank', 28), ('crantastic', 20), ('crawl', 22), ('crblocks', 15), ('crch', 15), ('creditr', 11), ('credule', 13), ('crimCV', 17), ('crimelinkage', 11), ('crmn', 21), ('crmPack', 12), ('crn', 18), ('crop', 11), ('abc.data', 28), ('crossReg', 13), ('crp.CSFP', 18), ('crqa', 15), ('crrp', 11), ('crrSC', 19), ('crrstep', 24), ('CUSUMdesign', 12), ('cutoffR', 11), ('cuttlefish.model', 13), ('cvAUC', 16), ('cvplogistic', 17), ('cvq2', 16), ('cvxbiclustr', 11), ('cvxclustr', 14), ('cwm', 15), ('cxxfunplus', 15), ('cycleRtools', 16), ('cycloids', 14), ('cymruservices', 11), ('cytoDiv', 16), ('D3M', 13), ('dad', 11), ('dae', 30), ('daff', 13), ('dafs', 19), ('dagbag', 13), ('dagR', 19), ('DAISIE', 12), ('dams', 13), ('Dark', 13), ('darts', 19), ('dashboard', 15), ('datacheck', 15), ('datafsm', 12), ('DataLoader', 13), ('datamap', 21), ('datamart', 17), ('dataonderivatives', 11), ('data.tree', 22), ('SpecHelpers', 14), ('dosresmeta', 14), ('dostats', 16), ('dotenv', 13), ('dotwhisker', 12), ('downscale', 13), ('dpa', 18), ('dpglasso', 15), ('dplRCon', 13), ('dpmr', 11), ('dprep', 19), ('drat', 34), ('drawExpression', 18), ('drgee', 14), ('DRIP', 13), ('drLumi', 11), ('drmdel', 14), ('dropR', 13), ('drsmooth', 14), ('ds', 17), ('dsample', 22), ('dslice', 18), ('dst', 13), ('DSviaDRM', 13), ('DTRlearn', 13), ('dtw', 55), ('dtwSat', 11), ('dualScale', 14), ('dunn.test', 22), ('dupiR', 14), ('dvfBm', 21), ('DWreg', 12), ('dummy', 15), ('DYM', 13), ('dynBiplotGUI', 14), ('dynCorr', 22), ('dynia', 13), ('dynpred', 14), ('dynRB', 12), ('dynsim', 14), ('DynTxRegime', 13), ('eaf', 21), ('easyanova', 15), ('easynls', 14), ('easypower', 11), ('easyVerification', 11), ('ebal', 17), ('ebGenotyping', 11), ('ebSNP', 13), ('gromovlab', 12), ('ecespa', 26), ('ecipex', 14), ('ecoreg', 20), ('ecoretriever', 18), ('ECOSolveR', 13), ('ecospace', 11), ('ecotoxicology', 11), ('ecp', 18), ('edcc', 17), ('edeR', 16), ('edesign', 14), ('EDFIR', 13), ('edgar', 18), ('edgebundleR', 14), ('edgeRun', 15), ('EditImputeCont', 14), ('editrules', 19), ('edmr', 11), ('edrGraphicalTools', 19), ('eegAnalysis', 14), ('eegkit', 11), ('eegkitdata', 14), ('eel', 11), ('EEM', 17), ('eemR', 11), ('eeptools', 26), ('EFDR', 13), ('EffectLiteR', 16), ('efflog', 11), ('ega', 13), ('eggCounts', 14), ('egonet', 19), ('EGRETci', 13), ('eHOF', 21), ('eigenprcomp', 15), ('eiPack', 26), ('eive', 15), ('eiwild', 15), ('elasso', 11), ('elastic', 16), ('growcurves', 22), ('lmmlasso', 18), ('ic50', 26), ('paleotree', 26), ('feature', 33), ('forensic', 28), ('futile.any', 20), ('futile.paradigm', 19), ('gamlss.mx', 28), ('gumbel', 24), ('logging', 24), ('longitudinal', 37), ('ltsa', 31), ('meboot', 28), ('osDesign', 20), ('pack', 26), ('paran', 26), ('parcor', 24), ('bigrf', 2), ('frair', 15), ('longitudinalData', 40), ('gglasso', 17), ('knorm', 10), ('fastpseudo', 11), ('fastSOM', 15), ('fasttime', 11), ('fat2Lpoly', 16), ('FatTailsR', 20), ('favnums', 11), ('fbati', 23), ('fbroc', 13), ('fcd', 15), ('FCGR', 11), ('fclust', 17), ('fcros', 19), ('fdakma', 14), ('fdaMixed', 17), ('fdasrvf', 21), ('fdatest', 15), ('fdrci', 17), ('fdrDiscreteNull', 11), ('fds', 20), ('FeatureHashing', 15), ('FENmlm', 11), ('fermicatsR', 11), ('ffmanova', 27), ('Fgmutils', 13), ('fgof', 16), ('fgpt', 13), ('fgui', 24), ('fheatmap', 19), ('FIACH', 13), ('fifer', 14), ('filehashSQLite', 26), ('filematrix', 10), ('finiteruinprob', 12), ('orcutt', 21), ('fishmethods', 25), ('fishmove', 14), ('fit4NM', 20), ('fitbitScraper', 14), ('fitDRC', 16), ('fitTetra', 13), ('flacco', 13), ('flam', 12), ('flexPM', 15), ('flip', 17), ('flowDiv', 10), ('flower', 12), ('flowr', 18), ('flows', 10), ('flux', 17), ('fmt', 14), ('foba', 26), ('foodweb', 14), ('forams', 16), ('ForecastCombinations', 12), ('forecTheta', 13), ('forensim', 22), ('forestFloor', 19), ('forestplot', 23), ('formattable', 12), ('formula.tools', 19), ('fourPNO', 12), ('fpCompare', 11), ('fpow', 22), ('fptdApprox', 18), ('fracprolif', 12), ('fractaldim', 17), ('FractalParameterEstimation', 10), ('Fragman', 14), ('frailtySurv', 10), ('franc', 10), ('freeknotsplines', 14), ('FreeSortR', 10), ('freestats', 13), ('freqdom', 10), ('freqMAP', 20), ('freqparcoord', 13), ('freqweights', 13), ('frmhet', 12), ('frmpd', 12), ('frontiles', 14), ('frt', 15), ('FSAdata', 16), ('fscaret', 14), ('fsia', 12), ('FSInteract', 10), ('ftsa', 37), ('ftsspec', 11), ('fugeR', 14), ('fulltext', 10), ('fun', 19), ('functools', 10), ('funcy', 10), ('fungible', 10), ('funr', 15), ('funreg', 12), ('funtimes', 12), ('FuzzyLP', 12), ('fuzzyRankTests', 27), ('fwi.fbp', 15), ('fwsim', 16), ('gains', 14), ('galts', 18), ('gamair', 34), ('gambin', 20), ('gamboostLSS', 20), ('gamclass', 16), ('games', 18), ('gamlss.add', 22), ('gamlss.cens', 25), ('gamlss.demo', 18), ('gamlss.nl', 26), ('gamlss.spatial', 16), ('gamlss.util', 20), ('gammSlice', 15), ('gaoptim', 15), ('gapmap', 22), ('gaselect', 9), ('gaston', 15), ('gazepath', 13), ('gb', 17), ('gbm2sas', 16), ('gbRd', 17), ('gCat', 13), ('gcdnet', 15), ('gcmr', 22), ('gconcord', 14), ('geeM', 19), ('gelnet', 11), ('gemtc', 20), ('gemtc.jar', 15), ('genasis', 13), ('GenCAT', 11), ('gendata', 14), ('gendist', 11), ('geneListPie', 20), ('genepi', 20), ('GeneralOaxaca', 11), ('generator', 11), ('geneSignatureFinder', 15), ('genlasso', 16), ('GENLIB', 11), ('genMOSS', 14), ('genoPlotR', 19), ('genpathmox', 11), ('genridge', 17), ('gensemble', 15), ('genSurv', 20), ('GenWin', 11), ('geo', 11), ('geoBayes', 21), ('GeoBoxplot', 11), ('geocodeHERE', 13), ('geofd', 14), ('heatmap3', 17), ('geojsonio', 19), ('geoknife', 11), ('geophys', 19), ('geoscale', 17), ('geospacom', 16), ('geospt', 17), ('geosptdb', 11), ('geostatsp', 22), ('geotopbricks', 15), ('GERGM', 16), ('gesis', 11), ('getMet', 11), ('gets', 24), ('gettingtothebottom', 17), ('gfcanalysis', 20), ('GFD', 11), ('ggenealogy', 13), ('ggmcmc', 21), ('ggparallel', 15), ('ggplot2movies', 19), ('ggROC', 16), ('ggsubplot', 16), ('ggswissmaps', 14), ('ggtern', 24), ('GiANT', 10), ('gibbs.met', 24), ('gimme', 16), ('gimms', 13), ('gIPFrm', 15), ('gitlabr', 11), ('gitter', 15), ('glamlasso', 11), ('glarma', 16), ('glba', 11), ('gldist', 16), ('glinternet', 15), ('glm2', 28), ('glmc', 24), ('glm.ddR', 11), ('glmdm', 20), ('glmgraph', 14), ('glmlep', 14), ('glmm', 12), ('glmmGS', 17), ('glmmLasso', 26), ('glmnetcr', 19), ('glmpathcr', 18), ('glmvsd', 13), ('glmx', 21), ('GlobalFit', 11), ('globalGSA', 14), ('gmum.r', 12), ('gmwm', 11), ('gMWT', 14), ('glrt', 16), ('glycanr', 11), ('gmapsdistance', 12), ('gnmf', 15), ('gnumeric', 22), ('gofCopula', 11), ('goft', 14), ('googleAuthR', 11), ('googlePublicData', 14), ('goric', 18), ('Goslate', 11), ('gPCA', 16), ('gpk', 14), ('gplm', 14), ('gpmap', 14), ('gpr', 14), ('gProfileR', 16), ('gptk', 20), ('gquad', 11), ('Grace', 11), ('grade', 23), ('gramEvol', 18), ('gRapfa', 13), ('graphicsQC', 31), ('graphscan', 13), ('graticule', 11), ('greport', 14), ('greyzoneSurv', 11), ('gridDebug', 20), ('gridGraphics', 17), ('gridGraphviz', 15), ('grImport', 30), ('grnn', 14), ('groc', 14), ('grofit', 21), ('grouped', 32), ('groupRemMap', 13), ('growfunctions', 15), ('growthcurver', 11), ('growthmodels', 14), ('growthrate', 18), ('grppenalty', 14), ('grpregOverlap', 11), ('grt', 19), ('gsalib', 14), ('gsbDesign', 15), ('gSeg', 19), ('gset', 13), ('gsg', 16), ('gsheet', 18), ('gskat', 15), ('gsscopu', 14), ('GSSE', 11), ('gsw', 20), ('GsymPoint', 11), ('gtcorr', 17), ('gte', 15), ('gtop', 14), ('gtx', 18), ('gvc', 17), ('gvcm.cat', 16), ('gwerAM', 17), ('gWidgets2tcltk', 14), ('GWLelast', 12), ('gyriq', 11), ('h5', 13), ('haarfisz', 19), ('iterpc', 19), ('sorvi', 20), ('abcrf', 19), ('abn', 25), ('abodOutlier', 18), ('abundant', 22), ('acc', 18), ('accelerometry', 21), ('ACDm', 25), ('acmeR', 17), ('snplist', 23), ('snpStatsWriter', 1), ('snpar', 15), ('snowboot', 13), ('SocialMediaLab', 14), ('Sofi', 13), ('snpRF', 15), ('sns', 15), ('sodium', 13), ('solarius', 13), ('sodavis', 13), ('somebm', 15), ('SOMbrero', 18), ('sotkanet', 16), ('SoyNAM', 18), ('homtest', 28), ('nlrwr', 11), ('influence.ME', 23), ('JacobiEigen', 18), ('overlap', 17), ('netmodels', 4), ('nltm', 11), ('nonbinROC', 9), ('normwn.test', 4), ('ofw', 4), ('openNLPmodels', 3), ('orth', 9), ('pARtial', 4), ('pairwiseCI', 25), ('paltran', 8), ('papply', 13), ('permtest', 19), ('pga', 5), ('Information', 18), ('poplab', 5), ('predbayescor', 10), ('proptest', 10), ('qAnalyst', 8), ('qgen', 6), ('r2lUniv', 4), ('rPorta', 8), ('rake', 12), ('rankreg', 7), ('rcompgen', 3), ('resper', 9), ('rggm', 4), ('rjacobi', 6), ('scope', 6), ('sigma2tools', 8), ('singlecase', 4), ('spatclus', 7), ('staRt', 6), ('stochasticGEM', 7), ('surveyNG', 7), ('tdist', 10), ('titecrm', 7), ('tradeCosts', 6), ('AIS', 5), ('tutoR', 7), ('uroot', 8), ('varmixt', 9), ('vbmp', 8), ('FKBL', 4), ('FracSim', 9), ('FunNet', 9), ('GDD', 9), ('GOSim', 10), ('HFWutils', 8), ('ISA', 5), ('JointGLM', 8), ('JointModeling', 11), ('JudgeIt', 11), ('LLAhclust', 9), ('LLN', 3), ('LMGene', 11), ('ARES', 5), ('BioIDMapper', 7), ('BootCL', 6), ('CORREP', 10), ('CTFS', 7), ('mcmcplots', 22), ('ComPairWise', 5), ('CompetingRiskFrailty', 11), ('Containers', 4), ('CvM2SL1Test', 8), ('CvM2SL2Test', 8), ('DEA', 4), ('DICOM', 9), ('Defaults', 12), ('DiagnosisMed', 7), ('DierckxSpline', 10), ('EVER', 9), ('EffectiveDose', 5), ('MSVAR', 3), ('MarkedPointProcess', 15), ('Metabonomic', 8), ('MiscPsycho', 12), ('NMMAPSlite', 12), ('NRAIA', 12), ('PKtools', 12), ('POT', 15), ('PhySim', 6), ('matlabr', 14), ('RcmdrPlugin.SurvivalT', 7), ('Read.isi', 8), ('ResearchMethods', 9), ('Rfwdmv', 9), ('RiboSort', 5), ('Rigroup', 11), ('Rmdr', 6), ('Rpad', 13), ('Rsac', 7), ('Rsge', 7), ('Rvelslant', 10), ('SDDA', 11), ('SNPMaP.cdm', 5), ('SNPMaP', 4), ('SQLiteDF', 10), ('SQLiteMap', 7), ('SRPM', 12), ('SharedHT2', 9), ('SimHap', 6), ('Snowball', 11), ('StatFingerprints', 7), ('TwoWaySurvival', 11), ('TwslmSpikeWeight', 5), ('MCE', 7), ('MDD', 2), ('MIfuns', 8), ('MLDA', 8), ('MMG', 8), ('ProbeR', 4), ('QRMlib', 9), ('RBGL', 10), ('RFA', 13), ('RGrace', 2), ('RHmm', 11), ('RLMM', 12), ('RSeqMeth', 5), ('RTisean', 13), ('TWIX', 12), ('TinnR', 8), ('biopara', 18), ('birch', 8), ('bise', 9), ('bivpois', 9), ('bs', 8), ('caMassClass', 13), ('cacheSweave', 13), ('cacher', 10), ('calib', 8), ('caretNWS', 3), ('catmap', 10), ('celsius', 6), ('USPS', 14), ('Umacs', 4), ('VDCutil', 7), ('VhayuR', 7), ('WaveCGH', 1), ('WeedMap', 5), ('XReg', 4), ('ZIGP', 8), ('aaMI', 9), ('adk', 9), ('agreement', 2), ('arrayImpute', 9), ('arrayMissPattern', 9), ('asuR', 6), ('backfitRichards', 8), ('bark', 9), ('bear', 11), ('biOpsGUI', 10), ('biOps', 10), ('bicreduc', 9), ('cir', 4), ('clustTool', 10), ('cobs99', 15), ('compOverlapCorr', 11), ('connectedness', 8), ('convexHaz', 9), ('copas', 10), ('corrperm', 9), ('crq', 7), ('ddesolve', 10), ('demogR', 5), ('dirichlet', 2), ('distributions', 8), ('dynamo', 8), ('empiricalBayes', 3), ('emu', 9), ('kml', 30), ('forecasting', 6), ('fuzzyOP', 7), ('gWidgetsWWW', 9), ('gWidgetsrJava', 7), ('gbev', 11), ('gbs', 13), ('gcl', 6), ('gene2pathway', 4), ('epicalc', 16), ('exactmaxsel', 12), ('fCalendar', 12), ('fUtilities', 8), ('femmeR', 6), ('grnnR', 8), ('gtm', 3), ('hbim', 24), ('hdf5', 11), ('helloJavaWorld', 23), ('hints', 11), ('hlr', 12), ('hoa', 19), ('hot', 11), ('howmany', 29), ('hsmm', 22), ('hydrogeo', 19), ('hydrosanity', 6), ('icomp', 10), ('identity', 26), ('ifa', 15), ('ig', 5), ('iid.test', 13), ('imprProbEst', 22), ('inetwork', 5), ('ipptoolbox', 6), ('ivivc', 12), ('jit', 8), ('kerfdr', 8), ('kernelPop', 11), ('kin.cohort', 26), ('klin', 25), ('knnFinder', 6), ('knnflex', 10), ('kzft', 27), ('kzs', 24), ('lago', 8), ('lancet.iraqmortality', 12), ('glmmAK', 11), ('glpk', 12), ('gmaps', 7), ('gmvalid', 9), ('graph', 7), ('grasp', 5), ('latentnetHRT', 3), ('latticist', 9), ('lda.cv', 7), ('lnMLE', 4), ('lodplot', 13), ('logilasso', 5), ('logregperm', 10), ('lvplot', 7), ('mapLD', 12), ('marelac', 22), ('marginTree', 9), ('marginalmodelplots', 9), ('mclust02', 6), ('mefa', 35), ('minet', 6), ('mirf', 6), ('mixlow', 11), ('mixnet', 1), ('mixstock', 12), ('mlCopulaSelection', 6), ('monoProc', 14), ('mota', 3), ('mprobit', 12), ('msBreast', 8), ('msDilution', 8), ('msProcess', 8), ('msProstate', 8), ('muS2RC', 10), ('muUtil', 7), ('multtest', 11), ('muscor', 4), ('mvtnormpcs', 12), ('nFDR', 14), ('opentick', 3), ('hypothesestest', 17), ('pARccs', 4), ('packClassic', 23), ('ascrda', 6), ('bams', 6), ('bayesclust', 10), ('bdoc', 6), ('branchLars', 2), ('clustergas', 4), ('cmprskQR', 2), ('correlate', 3), ('datalist', 2), ('datamerge', 4), ('db.r', 2), ('diskmemoiser', 2), ('emdatr', 2), ('epi2loc', 2), ('esotericR', 7), ('evora', 5), ('fuzzyMM', 2), ('genMOSSplus', 4), ('ggHorizon', 2), ('loa', 16), ('glassomix', 2), ('gooJSON', 7), ('hpcwld', 13), ('hpoPlot', 13), ('hqmisc', 13), ('hrr', 14), ('hsdar', 13), ('hsicCCA', 15), ('hsphase', 14), ('htmlTable', 22), ('httk', 15), ('humanFormat', 15), ('hwriterPlus', 15), ('oro.dicom', 20), ('oro.pet', 16), ('orsk', 21), ('orthogonalsplinebasis', 22), ('p2distance', 16), ('p3state.msm', 22), ('pa', 17), ('pacbpred', 16), ('packHV', 17), ('packS4', 22), ('packdep', 21), ('pairedCI', 16), ('pairheatmap', 17), ('pairwise', 23), ('palaeoSig', 20), ('paleoMAS', 20), ('pamm', 23), ('parser', 6), ('pcenum', 3), ('pcrcoal', 6), ('nga', 5), ('nlADG', 8), ('nnclust', 7), ('nricens', 2), ('numConversion', 3), ('odprism', 3), ('openNLPmodels.en', 6), ('openNLPmodels.es', 6), ('opencpu.demo', 2), ('opencpu.encode', 3), ('opm', 2), ('opmdata', 2), ('oposSOM', 4), ('optpart', 24), ('orQA', 20), ('orclus', 20), ('ordPens', 20), ('orddom', 19), ('postgwas', 1), ('pfa', 2), ('papeR', 24), ('rlandscape', 1), ('rolasized', 1), ('ropensnp', 1), ('roxyPackage', 1), ('rriskBayes', 1), ('ppMeasures', 5), ('probemapper', 3), ('productplots', 3), ('profanal', 1), ('rHadoopClient', 1), ('rImpactStory', 1), ('rcqp', 1), ('lucid', 14), ('sessionTools', 1), ('skewtools', 1), ('spclust', 1), ('SpatialPosition', 21), ('subscore', 18), ('surveyplanning', 14), ('sweidnumbr', 21), ('VCA', 20), ('ARAMIS', 1), ('ltmle', 16), ('Animal', 7), ('BMAmevt', 1), ('CVD', 1), ('DRI', 7), ('DWD', 3), ('ENA', 2), ('ESPRESSO', 5), ('hamlet', 16), ('imputeMissings', 12), ('in2extRemes', 14), ('inarmix', 14), ('inbreedR', 16), ('indicspecies', 27), ('inegiR', 11), ('inference', 18), ('inferference', 11), ('inflection', 15), ('influence.SEM', 14), ('influenceR', 12), ('infoDecompuTE', 19), ('InformationValue', 19), ('informR', 17), ('infra', 13), ('infuser', 12), ('infutil', 15), ('injectoR', 11), ('insideRODE', 17), ('InSilicoVA', 11), ('instaR', 14), ('intamapInteractive', 20), ('IntegratedJM', 16), ('interactionTest', 11), ('interAdapt', 13), ('interferenceCI', 13), ('internetarchive', 12), ('interplot', 11), ('interpretR', 14), ('InterSIM', 11), ('interventionalDBN', 15), ('intpoint', 15), ('inTrees', 18), ('intRegGOF', 16), ('introgress', 22), ('invLT', 11), ('io', 13), ('ioncopy', 11), ('ionflows', 13), ('iosmooth', 13), ('iotools', 11), ('ipdw', 14), ('ipflasso', 11), ('ipfp', 14), ('ipw', 17), ('iqLearn', 15), ('irace', 15), ('iRefR', 18), ('iRegression', 17), ('iRepro', 13), ('IRISMustangMetrics', 11), ('IRISSeismic', 11), ('hwwntest', 15), ('hybridEnsemble', 14), ('HydeNet', 13), ('hydroApps', 14), ('hydrostats', 16), ('hyfo', 11), ('hypergea', 16), ('hypervolume', 22), ('longCatEDA', 15), ('longclust', 16), ('lookupTable', 11), ('loop', 16), ('lorec', 16), ('LotkasLaw', 11), ('lpbrim', 11), ('lpint', 15), ('LPM', 15), ('lpme', 13), ('lpmodeler', 15), ('lqmm', 16), ('lqr', 14), ('LRcontrast', 11), ('lrgs', 11), ('lrmest', 14), ('lsbclust', 11), ('LSDinterface', 12), ('lsdv', 14), ('lsgl', 13), ('lshorth', 14), ('lsl', 16), ('LSTS', 12), ('ltbayes', 13), ('ltsbase', 14), ('ltsk', 14), ('lucr', 11), ('lulcc', 12), ('lunar', 13), ('luzlogr', 12), ('lvm4net', 13), ('LW1949', 11), ('lxb', 15), ('lymphclon', 14), ('M3', 12), ('maboost', 13), ('kdecopula', 16), ('kelvin', 16), ('kequate', 17), ('kerdiest', 18), ('KERE', 11), ('kergp', 11), ('kernDeepStackNet', 11), ('kerndwd', 14), ('kernelFactory', 18), ('keyplayer', 12), ('keypress', 11), ('kfigr', 12), ('kimisc', 15), ('kineticF', 11), ('kinfit', 19), ('kintone', 14), ('kissmig', 13), ('kitagawa', 15), ('klausuR', 17), ('kmc', 20), ('kml3d', 20), ('kmlcov', 14), ('kmodR', 16), ('knnGarden', 16), ('isdals', 20), ('isingLenzMC', 13), ('isocir', 17), ('isopat', 17), ('isoph', 12), ('ISOpureR', 11), ('isotonic.pen', 14), ('isva', 20), ('ITEMAN', 11), ('itertools2', 13), ('itree', 14), ('itsadug', 14), ('itsmr', 19), ('ivmodel', 11), ('iWeigReg', 15), ('jaatha', 23), ('jackknifeKME', 15), ('jackstraw', 18), ('jagsUI', 16), ('james.analysis', 13), ('jetset', 10), ('JGEE', 15), ('jmetrik', 14), ('joint.Cox', 15), ('jointDiag', 21), ('jointPm', 14), ('JPEN', 11), ('JRF', 11), ('jrvFinance', 11), ('jug', 11), ('jvnVaR', 11), ('kappaSize', 15), ('kcirt', 13), ('knnIndep', 15), ('knockoff', 13), ('kobe', 14), ('kolmim', 16), ('KoulMde', 11), ('kpodclustr', 11), ('kriens', 11), ('krm', 13), ('kSamples', 18), ('kselection', 13), ('ksrlive', 11), ('ktspair', 21), ('kulife', 18), ('kwb.hantush', 11), ('l2boost', 14), ('labeledLoop', 15), ('labelrank', 11), ('mallet', 20), ('managelocalrepo', 13), ('manifestoR', 15), ('ManlyMix', 11), ('mapDK', 13), ('mapfit', 13), ('mapmisc', 22), ('mapStats', 15), ('marg', 16), ('marked', 22), ('marketeR', 16), ('markophylo', 15), ('marl', 13), ('marqLevAlg', 16), ('LinkedMatrix', 11), ('linkim', 14), ('linkR', 14), ('linLIR', 16), ('lint', 15), ('lira', 12), ('liso', 16), ('lisp', 16), ('list', 18), ('listWithDefaults', 11), ('lle', 17), ('lllcrc', 14), ('lm.br', 14), ('lmeNB', 14), ('lmeNBBayes', 14), ('lmenssp', 13), ('lmeVarComp', 13), ('lmf', 15), ('lmfor', 13), ('lmmot', 17), ('lmms', 13), ('LncMod', 11), ('localdepth', 21), ('localgauss', 15), ('LocFDRPois', 11), ('lodGWAS', 18), ('logbin', 13), ('logcondens.mode', 14), ('logcondiscr', 17), ('logconPH', 13), ('logisticPCA', 13), ('LOGIT', 12), ('logitchoice', 13), ('logitnorm', 18), ('logmult', 15), ('mcemGLM', 15), ('mcheatmaps', 13), ('mcll', 16), ('mclogit', 20), ('mcmcse', 15), ('mcparallelDo', 10), ('mcprofile', 18), ('mcr', 17), ('MCTM', 11), ('mdatools', 20), ('mded', 15), ('MDimNormn', 11), ('mdscore', 13), ('mdsdt', 14), ('measuRing', 14), ('mederrRank', 19), ('medflex', 12), ('Mediana', 16), ('medicalrisk', 15), ('medSTC', 16), ('maddison', 10), ('mads', 13), ('madsim', 15), ('magclass', 12), ('magicaxis', 17), ('maGUI', 10), ('mail', 19), ('makeProject', 17), ('maSAE', 13), ('MATA', 11), ('matchingMarkets', 14), ('MatchLinReg', 11), ('matie', 17), ('matlib', 10), ('matpow', 13), ('matR', 13), ('matrixpls', 22), ('MaxentVariableSelection', 12), ('MazamaSpatialUtils', 13), ('mbbefd', 15), ('mbest', 17), ('mbmdr', 21), ('MBTAr', 11), ('mBvs', 11), ('spBayesSurv', 18), ('SPCALDA', 13), ('spduration', 16), ('spdynmod', 20), ('speaq', 12), ('speciesgeocodeR', 15), ('specmine', 12), ('spectral.methods', 16), ('spectrino', 12), ('spgs', 15), ('spiders', 15), ('spinyReg', 13), ('mcbiopi', 21), ('mcc', 13), ('MCDM', 11), ('solidearthtide', 13), ('sonicLength', 16), ('SOPIE', 13), ('sortinghat', 17), ('sp23design', 15), ('SpaDES', 12), ('spanel', 13), ('spanr', 15), ('spareserver', 15), ('spark', 16), ('sparktex', 16), ('SparseFactorAnalysis', 13), ('SparseLearner', 15), ('sparseMVN', 16), ('sparsereg', 13), ('sparseSEM', 15), ('spatial.gev.bma', 16), ('spatialEco', 16), ('spatialfil', 13), ('spatialnbda', 16), ('spatialTailDep', 16), ('ssfa', 14), ('ssizeRNA', 13), ('sspse', 15), ('SSRMST', 13), ('stackoverflow', 13), ('stagePop', 15), ('STAND', 13), ('starma', 18), ('statar', 13), ('statcheck', 15), ('statebins', 15), ('statfi', 15), ('stationaRy', 15), ('StatMeasures', 14), ('staTools', 16), ('stcm', 13), ('steadyICA', 13), ('stepR', 16), ('stheoreme', 15), ('STI', 13), ('stima', 15), ('spm12r', 13), ('spnet', 15), ('spoccutils', 13), ('sprex', 15), ('sprinter', 15), ('sprm', 17), ('spsann', 15), ('spsi', 13), ('spTDyn', 13), ('spTest', 17), ('spThin', 15), ('sptm', 15), ('srd', 15), ('ss3sim', 15), ('sscor', 13), ('ssd', 15), ('sSDR', 13), ('stringgaussnet', 12), ('stsm.class', 17), ('subgroup', 13), ('SubpathwayGMir', 13), ('subrank', 20), ('subsemble', 15), ('subspace', 15), ('sudokuAlt', 13), ('summarytools', 16), ('supcluster', 13), ('SuperExactTest', 13), ('survAccuracyMeasures', 15), ('surveyeditor', 13), ('SurvRank', 13), ('survRM2', 15), ('sValues', 35), ('svdvis', 13), ('svgViewR', 15), ('svs', 13), ('SwarmSVM', 14), ('STMedianPolish', 13), ('stochprofML', 15), ('StockChina', 13), ('stocks', 15), ('stosim', 15), ('stplanr', 13), ('strataG', 15), ('streamMOA', 15), ('stressr', 15), ('swfscMisc', 15), ('switchrGist', 13), ('SWMPr', 14), ('SyncMove', 13), ('synRNASeqNet', 14), ('synthpop', 15), ('systemicrisk', 16), ('syuzhet', 17), ('taber', 13), ('tablaxlsx', 14), ('tagcloud', 16), ('tailloss', 13), ('TauStar', 13), ('TcGSA', 13), ('tcR', 15), ('TDAmapper', 13), ('TDCor', 16), ('tdr', 13), ('OptiQuantR', 12), ('validate', 14), ('valottery', 13), ('varComp', 15), ('vardpoor', 16), ('varhandle', 13), ('varian', 13), ('vartors', 15), ('vbdm', 15), ('vbsr', 15), ('vdg', 15), ('vdmR', 21), ('vegan3d', 19), ('vertexenum', 13), ('vetools', 15), ('VIFCP', 13), ('VIGoR', 13), ('vipor', 13), ('NA', 3), ('PSCN', 3), ('PoMoS', 5), ('QTLNetworkR', 5), ('QT', 5), ('ROracleUI', 1), ('RSQLite.extfuns', 6), ('RSearchYJ', 5), ('RSiteSearch', 6), ('SDisc', 6), ('SHARE', 4), ('RBrownie', 3), ('RC', 7), ('RImageJ', 5), ('RLastFM', 5), ('RNCBIAxis2Libs', 6), ('RNCBI', 6), ('RWebMA', 5), ('RandForestGUI', 4), ('Rassoc', 5), ('Ratings', 6), ('RcmdrPlugin.EHESsampling', 3), ('RcmdrPlugin.MAc', 4), ('RcmdrPlugin.MAd', 4), ('RcmdrPlugin.PT', 4), ('RcmdrPlugin.SensoMineR', 4), ('RcmdrPlugin.TextMining', 3), ('RcmdrPlugin.qcc', 7), ('RelativeRisk', 7), ('RiDMC', 4), ('RpgSQL', 4), ('ordinalNet', 12), ('SSSR', 4), ('SigWinR', 9), ('Sim.DiffProcGUI', 4), ('SlimPLS', 5), ('SpectralGEM', 6), ('SubpathwayMiner', 5), ('TGUICore', 6), ('TGUITeaching', 6), ('amba', 5), ('amer', 5), ('ant', 7), ('aratio', 4), ('ares', 4), ('atmi', 5), ('TRIANGG', 6), ('TRIANG', 8), ('TSAgg', 6), ('ToxLim', 5), ('TreeRank', 3), ('TwoPhaseInd', 3), ('VizCompX', 5), ('WMBrukerParser', 5), ('WMTregions', 5), ('YjdnJlp', 4), ('aCGH.Spline', 8), ('afc', 6), ('afmtools', 4), ('agilp', 4), ('bayespack', 3), ('belief', 3), ('biGraph', 3), ('binarySimCLF', 7), ('boolfun', 6), ('cMonkey', 4), ('caGUI', 6), ('canvas', 6), ('caspar', 3), ('ccems', 7), ('charlson', 5), ('cimis', 7), ('clusterCons', 5), ('coenoflex', 5), ('colbycol', 7), ('colcor', 4), ('cthresh', 4), ('ddepn', 6), ('delftfews', 4), ('dyad', 6), ('dynGraph', 4), ('edtdbg', 3), ('el.convex', 6), ('envelope', 4), ('farmR', 3), ('favir', 4), ('esd4all', 5), ('diff', 4), ('digeR', 6), ('digitize', 4), ('divisors', 3), ('doSMP', 2), ('dse1', 7), ('dse2', 7), ('gamesNws', 6), ('gausspred', 3), ('gcExplorer', 8), ('gcolor', 5), ('gdsfmt', 5), ('geneARMA', 5), ('genefu', 2), ('genomatic', 6), ('ggcolpairs', 3), ('glmperm', 7), ('flexCrossHaz', 2), ('flubase', 7), ('frbf', 5), ('gsc', 3), ('hacks', 6), ('halp', 4), ('hbmem', 20), ('futile', 6), ('infochimps', 2), ('integrOmics', 8), ('integrativeME', 5), ('iv', 3), ('knn', 3), ('latticedl', 5), ('lemma', 6), ('heavy', 22), ('helpr', 3), ('hergm', 21), ('hgam', 19), ('hisemi', 19), ('hotspots', 19), ('hypred', 5), ('iBUGS', 19), ('iCluster', 19), ('iGenomicViewer', 6), ('iSubpathwayMiner', 4), ('iWebPlots', 4), ('ibr', 23), ('icaOcularCorrection', 18), ('ljr', 8), ('lmPerm', 7), ('log10', 5), ('longRPart', 7), ('lossDev', 3), ('magnets', 4), ('mugnet', 6), ('multmod', 7), ('mutatr', 7), ('makesweave', 2), ('mapReduce', 7), ('marelacTeaching', 4), ('margLikArrogance', 3), ('maticce', 6), ('maxLinear', 3), ('mecdf', 5), ('medAdherence', 7), ('mixedQF', 5), ('mixfdr', 6), ('modelcf', 6), ('mr', 1), ('mrdrc', 6), ('mrt', 5), ('mseq', 7), ('mspath', 5), ('mtcreator', 4), ('mtsc', 4), ('orderbook', 16), ('mvtBinaryEP', 8), ('nacopula', 6), ('nnDiag', 5), ('nncRda', 3), ('nnc', 3), ('nutshellDE', 3), ('nvis', 3), ('ofp', 4), ('pressData', 3), ('press', 3), ('pamctdp', 18), ('pgfSweave', 6), ('quaternions', 4), ('rTOFsPRO', 4), ('rWMBAT', 5), ('pampe', 19), ('iClick', 11), ('htmltab', 13), ('hawkes', 14), ('orderedLasso', 16), ('ordiBreadth', 12), ('ordinalCont', 12), ('ordinalgmifs', 14), ('OriGen', 12), ('orsifronts', 11), ('OrthoPanels', 12), ('osrm', 16), ('OTE', 12), ('OxyBS', 12), ('PabonLasso', 12), ('packagetrackr', 12), ('packcircles', 12), ('paco', 16), ('Pade', 12), ('paf', 15), ('pageviews', 12), ('pairsD3', 12), ('paleobioDB', 14), ('palinsol', 15), ('palr', 12), ('pAnalysis', 12), ('PANDA', 12), ('panelaggregation', 14), ('panelAR', 16), ('PanelCount', 14), ('pangaear', 12), ('parallelize.dynamic', 15), ('parallelMCMCcombine', 15), ('parallelML', 13), ('ParallelPC', 12), ('parallelSVM', 12), ('paramlink', 17), ('params', 18), ('parboost', 14), ('optiRum', 22), ('optiscale', 14), ('optismixture', 12), ('optR', 15), ('optrees', 14), ('orca', 12), ('ordBTL', 15), ('SSOAP', 1), ('signal.hsmm', 2), ('sse', 2), ('tRakt', 2), ('ica', 17), ('hnp', 16), ('sprint', 3), ('hbm', 14), ('setwidth', 2), ('ibeemd', 14), ('crosshybDetector', 3), ('gRcox', 3), ('ggplot', 5), ('ncvar', 6), ('paleoTSalt', 1), ('plotAndPlayGTK', 2), ('rsbml', 2), ('zicounts', 6), ('PARccs', 1), ('Rmetrics', 2), ('SLmisc', 3), ('hashFunction', 16), ('ris', 1), ('survcomp', 4), ('umlr', 2), ('tossm', 4), ('tpsDesign', 2), ('CircSpatial', 3), ('ClinicalRobustPriors', 7), ('CoCoCg', 3), ('CoCoGraph', 4), ('Covpath', 3), ('DOSim', 4), ('DeducerMMR', 3), ('Depela', 6), ('DesignPatterns', 6), ('ElectroGraph', 5), ('EquiNorm', 5), ('EuclideanMaps', 3), ('ExPD2D', 6), ('FEST', 5), ('FourierDescriptors', 4), ('GAMens', 5), ('GOFSN', 7), ('GRRGI', 7), ('Geneclust', 5), ('GridR', 7), ('HGLMMM', 5), ('HumMeth27QCReport', 4), ('ImageMetrics', 3), ('IniStatR', 4), ('JJcorr', 6), ('KsPlot', 5), ('LDdiag', 4), ('LLdecomp', 4), ('LearnEDA', 8), ('MCLIME', 4), ('MCMChybridGP', 7), ('MFDF', 6), ('MISA', 3), ('MLPAstats', 5), ('MMST', 6), ('MSToolkit', 4), ('MTSKNN', 6), ('MVpower', 7), ('MeDiChI', 4), ('NCBI2R', 6), ('NMRS', 8), ('NetworkAnalysis', 4), ('OSACC', 3), ('PKmodelFinder', 6), ('PL.popN', 4), ('JLLprod', 5), ('SAGx', 3), ('baymvb', 1), ('butler', 5), ('micEcdat', 3), ('FLCore', 3), ('FortranCallsR', 2), ('GammaTest', 2), ('RcppTemplate', 4), ('roblm', 3), ('FLEDA', 2), ('InfNet', 2), ('haplotypes', 11), ('hashr', 11), ('hashids', 11), ('Harvest.Tree', 11), ('HBglm', 11), ('hcci', 14), ('hcc', 15), ('HDGLM', 11), ('hcp', 14), ('hddtools', 13), ('hdlm', 17), ('hdnom', 13), ('helsinki', 13), ('heatmapFit', 14), ('heatex', 15), ('hermite', 19), ('heritability', 14), ('hglasso', 14), ('hgm', 14), ('HiCfeat', 11), ('hiddenf', 13), ('hierarchicalDS', 15), ('hierDiversity', 13), ('hierband', 11), ('hierNet', 15), ('RcppCCTZ', 4), ('hiertest', 11), ('highD2pop', 13), ('highmean', 11), ('highriskzone', 17), ('highTtest', 13), ('hillmakeR', 13), ('hindexcalculator', 11), ('hint', 14), ('hiPOD', 15), ('hisse', 13), ('HistDAWass', 11), ('histmdl', 13), ('historydata', 16), ('hit', 14), ('hitandrun', 18), ('HMDHFDplus', 11), ('hmmm', 15), ('hoardeR', 13), ('homeR', 17), ('homomorpheR', 11), ('hornpa', 13), ('hot.deck', 14), ('hotspot', 11), ('hqreg', 11), ('HRM', 11), ('hSDM', 15), ('mfblock', 2), ('mobForest', 4), ('muscle', 4), ('ngramr', 3), ('netweavers', 3), ('predfinitepop', 2), ('phyloTop', 2), ('saps', 2), ('VBmix', 7), ('immer', 15), ('DPM.GGM', 2), ('ExomeCNV', 3), ('FIAR', 2), ('FRBData', 4), ('HMMmix', 3), ('ISIPTA', 3), ('MEWMA', 3), ('MFSAS', 4), ('MLEP', 3), ('Mangrove', 4), ('Metadata', 3), ('LN3GV', 2), ('LaplacesDemon', 3), ('LargeRegression', 4), ('MCUSUM', 3), ('NeMo', 2), ('PairTrading', 2), ('PrecipStat', 2), ('QLSpline', 3), ('RHive', 2), ('RMendeley', 3), ('RTAQ', 2), ('RcmdrPlugin.doBy', 3), ('Rdrools', 3), ('Rdroolsjars', 3), ('Rearrangement', 4), ('Rfun', 2), ('RghcnV3', 3), ('Rjms', 5), ('Rjmsjars', 4), ('Rknots', 4), ('Rstem', 2), ('SNPRelate', 4), ('SRMA', 2), ('SVGMapping', 3), ('VBMA4hmm', 2), ('VisCov', 3), ('StateTrace', 3), ('StochaTR', 3), ('StructR', 2), ('TAHMMAnnot', 4), ('TPAM', 2), ('TSPC', 3), ('TextRegression', 2), ('TradeStrategyAnalyzer', 1), ('UScensus2000', 1), ('UScensus2000add', 1), ('UScensus2000blkgrp', 3), ('auteur', 3), ('WaveletCo', 3), ('acer', 3), ('ageprior', 2), ('aggrisk', 3), ('anaglyph', 4), ('biseVec', 2), ('IalsaSynthesis', 12), ('bigpca', 1), ('iki.dataclim', 15), ('nice', 2), ('ibd', 15), ('synchronicity', 2), ('ICC.Sample.Size', 12), ('idr', 18), ('bigGP', 2), ('httpcode', 11), ('humaniformat', 11), ('hysteresis', 14), ('hzar', 15), ('iaQCA', 11), ('IATscores', 10), ('iBATCGH', 13), ('iC10', 14), ('iC10TrainingData', 14), ('icamix', 16), ('icapca', 14), ('ICBayes', 11), ('ibelief', 14), ('iDynoR', 14), ('iFad', 17), ('ifaTools', 14), ('ifctools', 11), ('iGasso', 16), ('icsw', 11), ('idbg', 16), ('icensmis', 18), ('ig.vancouver.2014.topcolour', 11), ('iLaplace', 11), ('ilc', 13), ('idendr0', 12), ('idm', 11), ('IDTurtle', 11), ('iccbeta', 13), ('imPois', 11), ('import', 15), ('ImportExport', 10), ('imputeLCMD', 12), ('qqplotter', 2), ('swst', 1), ('BINCO', 1), ('CAscaling', 1), ('ChangeAnomalyDetection', 1), ('EDanalysis', 1), ('EasyUpliftTree', 1), ('ExactNumCI', 1), ('HIBAG', 2), ('HPO.db', 2), ('HPOSim', 2), ('JMLSD', 1), ('MVPARTwrap', 2), ('MultiChIPmixHMM', 2), ('OneHandClapping', 2), ('RAFM', 1), ('RMessenger', 2), ('RTDAmeritrade', 1), ('POET', 2), ('PamGeneMixed', 2), ('Peak2Trough', 2), ('PenLNM', 2), ('gstudio', 6), ('incReg', 3), ('indicoio', 2), ('lmmfit', 6), ('loe', 3), ('gcbd', 1), ('FPDC', 1), ('HTSDiff', 1), ('GOsummaries', 1), ('GetNenshuJP', 1), ('MASSI', 1), ('MiClip', 1), ('PIN', 1), ('NHMMfdr', 1), ('NLSdata', 1), ('RECSO', 1), ('RJSONLD', 1), ('Reot', 1), ('RfmriVC', 2), ('SCEPtERextras', 1), ('SDBP', 1), ('STARSEQ', 2), ('TSjson', 1), ('StVAR', 1), ('VisuClust', 2), ('WebDevelopR', 1), ('attfad', 2), ('avgrankoverlap', 1), ('bilan', 1), ('bootfs', 2), ('capme', 2), ('clusthaplo', 2), ('comorbidities', 4), ('complex.surv.dat.sim', 2), ('confReg', 4), ('SteinerNet', 1), ('TCC', 1), ('aBioMarVsuit', 1), ('betfairly', 3), ('bscr', 1), ('bsml', 3), ('bwsurvival', 2), ('cit', 3), ('cldr', 1), ('csound', 3), ('curvclust', 2), ('dataone', 2), ('dataonelibs', 2), ('easi', 2), ('easystab', 1), ('eigendog', 2), ('emudata', 1), ('fairselect', 3), ('fastVAR', 3), ('fume', 3), ('genomicper', 2), ('geoPlot', 3), ('govdat', 2), ('gppois', 1), ('h5r', 2), ('hof', 3), ('gdor', 1), ('gsmaRt', 2), ('lcmr', 3), ('igraph0', 1), ('imputation', 3), ('int64', 2), ('iwtp', 2), ('jmec', 2), ('makeR', 2), ('malaria.em', 3), ('margie', 2), ('melody', 1), ('metrumrg', 4), ('miP', 3), ('mnspc', 3), ('lmbc', 3), ('motmot', 3), ('ndvits', 3), ('DART', 1), ('PACE', 1), ('RStackExchange', 1), ('Rcmdr.HH', 1), ('CPGchron', 1), ('Rpoppler', 2), ('FunctSNP', 3), ('GLMMarp', 2), ('bayesCGH', 2), ('dcemri', 2), ('dcens', 2), ('finebalance', 2), ('googlebigquery', 1), ('graphComp', 2), ('graphite', 1), ('last.call', 2), ('pfda', 2), ('paloma', 2), ('qdg', 2), ('GFMaps', 1), ('markerSearchPower', 2), ('iScreen', 1), ('logistiX', 1), ('jvmr', 1), ('littler', 1), ('ieeeround', 1), ('em2', 1), ('factas', 1), ('calibFit', 1), ('kBestShortestPaths', 1), ('nfda', 1), ('mosaicManip', 1), ('mpc', 1), ('R4dfp', 1), ('nytR', 1), ('oosp', 1), ('RGtk2DfEdit', 1), ('cxxPack', 1), ('ssh.utils', 1)])"
      ]
     },
     "execution_count": 18,
     "metadata": {},
     "output_type": "execute_result"
    }
   ],
   "source": [
    "package_count = content.map(lambda x: (x[6], 1)).countByKey() # count of 7th element of each element of rdd value\n",
    "                                                              # output in dict form(k:v)\n",
    "package_count.items()"
   ]
  },
  {
   "cell_type": "code",
   "execution_count": 19,
   "metadata": {},
   "outputs": [
    {
     "data": {
      "text/plain": [
       "3913"
      ]
     },
     "execution_count": 19,
     "metadata": {},
     "output_type": "execute_result"
    }
   ],
   "source": [
    "package_count['ggplot2'] #getting value of key in a dict"
   ]
  },
  {
   "cell_type": "code",
   "execution_count": 20,
   "metadata": {},
   "outputs": [
    {
     "data": {
      "text/plain": [
       "1"
      ]
     },
     "execution_count": 20,
     "metadata": {},
     "output_type": "execute_result"
    }
   ],
   "source": [
    "content.filter(lambda x: x[6] == 'Rtts' and x[8] == 'CN').count() # multiple filter conditions"
   ]
  },
  {
   "cell_type": "code",
   "execution_count": 22,
   "metadata": {},
   "outputs": [
    {
     "data": {
      "text/plain": [
       "421553"
      ]
     },
     "execution_count": 22,
     "metadata": {},
     "output_type": "execute_result"
    }
   ],
   "source": [
    "raw_content.intersection(raw_content).count() # intersection()"
   ]
  },
  {
   "cell_type": "code",
   "execution_count": 23,
   "metadata": {},
   "outputs": [
    {
     "data": {
      "text/plain": [
       "[('country',\n",
       "  ['date',\n",
       "   'time',\n",
       "   'size',\n",
       "   'r_version',\n",
       "   'r_arch',\n",
       "   'r_os',\n",
       "   'package',\n",
       "   'version',\n",
       "   'country',\n",
       "   'ip_id']),\n",
       " ('CZ',\n",
       "  ['2015-12-12',\n",
       "   '13:42:10',\n",
       "   '257886',\n",
       "   '3.2.2',\n",
       "   'i386',\n",
       "   'mingw32',\n",
       "   'HistData',\n",
       "   '0.7-6',\n",
       "   'CZ',\n",
       "   '1']),\n",
       " ('DE',\n",
       "  ['2015-12-12',\n",
       "   '13:24:37',\n",
       "   '1236751',\n",
       "   '3.2.2',\n",
       "   'x86_64',\n",
       "   'mingw32',\n",
       "   'RJSONIO',\n",
       "   '1.3-0',\n",
       "   'DE',\n",
       "   '2']),\n",
       " ('CZ',\n",
       "  ['2015-12-12',\n",
       "   '13:42:35',\n",
       "   '2077876',\n",
       "   '3.2.2',\n",
       "   'i386',\n",
       "   'mingw32',\n",
       "   'UsingR',\n",
       "   '2.0-5',\n",
       "   'CZ',\n",
       "   '1']),\n",
       " ('CZ',\n",
       "  ['2015-12-12',\n",
       "   '13:42:01',\n",
       "   '266724',\n",
       "   '3.2.2',\n",
       "   'i386',\n",
       "   'mingw32',\n",
       "   'gridExtra',\n",
       "   '2.0.0',\n",
       "   'CZ',\n",
       "   '1'])]"
      ]
     },
     "execution_count": 23,
     "metadata": {},
     "output_type": "execute_result"
    }
   ],
   "source": [
    "# generate a new RDD in which the 'country' variable is KEY\n",
    "content_modified=content.map(lambda x:(x[8], x))\n",
    "content_modified.take(5)"
   ]
  },
  {
   "cell_type": "code",
   "execution_count": 24,
   "metadata": {},
   "outputs": [
    {
     "data": {
      "text/plain": [
       "[('DE', 'Germany'), ('US', 'United States'), ('CN', 'China'), ('IN', 'India')]"
      ]
     },
     "execution_count": 24,
     "metadata": {},
     "output_type": "execute_result"
    }
   ],
   "source": [
    "mapping=[('DE', 'Germany'), ('US', 'United States'), ('CN', 'China'), ('IN',\"India\")]\n",
    "mapping=sc.parallelize(mapping)\n",
    "mapping.collect()"
   ]
  },
  {
   "cell_type": "code",
   "execution_count": 26,
   "metadata": {},
   "outputs": [
    {
     "data": {
      "text/plain": [
       "[('US',\n",
       "  (['2015-12-12',\n",
       "    '19:05:24',\n",
       "    '181333',\n",
       "    'NA',\n",
       "    'NA',\n",
       "    'NA',\n",
       "    'doParallel',\n",
       "    '1.0.10',\n",
       "    'US',\n",
       "    '1126'],\n",
       "   'United States')),\n",
       " ('US',\n",
       "  (['2015-12-12',\n",
       "    '18:08:37',\n",
       "    '488075',\n",
       "    '3.2.2',\n",
       "    'x86_64',\n",
       "    'darwin14.5.0',\n",
       "    'MASS',\n",
       "    '7.3-45',\n",
       "    'US',\n",
       "    '9851'],\n",
       "   'United States')),\n",
       " ('US',\n",
       "  (['2015-12-12',\n",
       "    '19:09:32',\n",
       "    '6615',\n",
       "    '3.2.1',\n",
       "    'x86_64',\n",
       "    'darwin13.4.0',\n",
       "    'praise',\n",
       "    '1.0.0',\n",
       "    'US',\n",
       "    '1122'],\n",
       "   'United States')),\n",
       " ('CN',\n",
       "  (['2015-12-12',\n",
       "    '00:59:58',\n",
       "    '2152343',\n",
       "    '3.2.3',\n",
       "    'x86_64',\n",
       "    'linux-gnu',\n",
       "    'openxlsx',\n",
       "    '3.0.0',\n",
       "    'CN',\n",
       "    '339'],\n",
       "   'China')),\n",
       " ('US',\n",
       "  (['2015-12-12',\n",
       "    '05:10:25',\n",
       "    '83832',\n",
       "    '3.2.2',\n",
       "    'x86_64',\n",
       "    'linux-gnu',\n",
       "    'brew',\n",
       "    '1.0-6',\n",
       "    'US',\n",
       "    '5666'],\n",
       "   'United States')),\n",
       " ('US',\n",
       "  (['2015-12-12',\n",
       "    '15:44:03',\n",
       "    '41614',\n",
       "    '3.2.2',\n",
       "    'x86_64',\n",
       "    'mingw32',\n",
       "    'qdapTools',\n",
       "    '1.3.1',\n",
       "    'US',\n",
       "    '9131'],\n",
       "   'United States')),\n",
       " ('US',\n",
       "  (['2015-12-12',\n",
       "    '20:22:03',\n",
       "    '75960',\n",
       "    'NA',\n",
       "    'NA',\n",
       "    'NA',\n",
       "    'nor1mix',\n",
       "    '1.2-1',\n",
       "    'US',\n",
       "    '7894'],\n",
       "   'United States')),\n",
       " ('US',\n",
       "  (['2015-12-12',\n",
       "    '21:25:24',\n",
       "    '166008',\n",
       "    '3.2.3',\n",
       "    'i386',\n",
       "    'mingw32',\n",
       "    'markdown',\n",
       "    '0.7.7',\n",
       "    'US',\n",
       "    '12097'],\n",
       "   'United States'))]"
      ]
     },
     "execution_count": 26,
     "metadata": {},
     "output_type": "execute_result"
    }
   ],
   "source": [
    "content_modified.join(mapping).takeSample(False, 8) #using takeSample() #action\n",
    "                                                    # join will be on key"
   ]
  },
  {
   "cell_type": "code",
   "execution_count": null,
   "metadata": {},
   "outputs": [],
   "source": []
  },
  {
   "cell_type": "code",
   "execution_count": null,
   "metadata": {},
   "outputs": [],
   "source": []
  },
  {
   "cell_type": "code",
   "execution_count": null,
   "metadata": {},
   "outputs": [],
   "source": []
  }
 ],
 "metadata": {
  "kernelspec": {
   "display_name": "Python 3",
   "language": "python",
   "name": "python3"
  },
  "language_info": {
   "codemirror_mode": {
    "name": "ipython",
    "version": 3
   },
   "file_extension": ".py",
   "mimetype": "text/x-python",
   "name": "python",
   "nbconvert_exporter": "python",
   "pygments_lexer": "ipython3",
   "version": "3.7.1"
  }
 },
 "nbformat": 4,
 "nbformat_minor": 2
}
