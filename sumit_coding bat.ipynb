{
 "cells": [
  {
   "cell_type": "code",
   "execution_count": 11,
   "metadata": {},
   "outputs": [
    {
     "data": {
      "text/plain": [
       "False"
      ]
     },
     "execution_count": 11,
     "metadata": {},
     "output_type": "execute_result"
    }
   ],
   "source": [
    "def sleep_in(weekday,vacation):\n",
    "    if(vacation==True):\n",
    "        return True\n",
    "    elif(weekday==True):\n",
    "        return False\n",
    "    elif(weekday==False):\n",
    "        return True\n",
    "\n",
    "sleep_in(False,False)\n",
    "sleep_in(False,True)\n",
    "sleep_in(True,False)\n"
   ]
  },
  {
   "cell_type": "code",
   "execution_count": 19,
   "metadata": {},
   "outputs": [
    {
     "data": {
      "text/plain": [
       "'oneoneone'"
      ]
     },
     "execution_count": 19,
     "metadata": {},
     "output_type": "execute_result"
    }
   ],
   "source": [
    "def string_times(initial_string,copies):\n",
    "    new_string=''\n",
    "    i=0\n",
    "    while(i<copies):\n",
    "        new_string=new_string+initial_string\n",
    "        i=i+1\n",
    "    return new_string\n",
    "\n",
    "string_times('one',3)\n",
    "\n",
    "        "
   ]
  },
  {
   "cell_type": "code",
   "execution_count": 54,
   "metadata": {},
   "outputs": [
    {
     "data": {
      "text/plain": [
       "'ac'"
      ]
     },
     "execution_count": 54,
     "metadata": {},
     "output_type": "execute_result"
    }
   ],
   "source": [
    "def string_bits(initial_string):\n",
    "    i=0\n",
    "    new_string=''\n",
    "    for out,j in enumerate(list(initial_string)):\n",
    "            if(out%2==0):\n",
    "                new_string=new_string+j\n",
    "    return new_string\n",
    "           \n",
    "    \n",
    "string_bits('abc')"
   ]
  },
  {
   "cell_type": "code",
   "execution_count": 2,
   "metadata": {},
   "outputs": [
    {
     "name": "stdout",
     "output_type": "stream",
     "text": [
      "3\n"
     ]
    }
   ],
   "source": [
    "def make_work(var_contain,var_string):\n",
    "    print(len(var_string))\n",
    "    \n",
    "make_work('12','abc')    \n",
    "    "
   ]
  }
 ],
 "metadata": {
  "kernelspec": {
   "display_name": "Python 3",
   "language": "python",
   "name": "python3"
  },
  "language_info": {
   "codemirror_mode": {
    "name": "ipython",
    "version": 3
   },
   "file_extension": ".py",
   "mimetype": "text/x-python",
   "name": "python",
   "nbconvert_exporter": "python",
   "pygments_lexer": "ipython3",
   "version": "3.6.6"
  }
 },
 "nbformat": 4,
 "nbformat_minor": 2
}
